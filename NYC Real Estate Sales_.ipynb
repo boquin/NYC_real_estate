{
 "cells": [
  {
   "cell_type": "code",
   "execution_count": 418,
   "metadata": {},
   "outputs": [],
   "source": [
    "#load required libraries\n",
    "import pandas as pd\n",
    "import matplotlib.pyplot as plt\n",
    "import numpy as np\n",
    "import seaborn as sns\n",
    "import plotly.graph_objects as go\n",
    "from plotly.subplots import make_subplots"
   ]
  },
  {
   "cell_type": "markdown",
   "metadata": {},
   "source": [
    "The real estate transactions data is all in the nyc.gov website. The tricky part is the naming convention for the URL is not consistent. There are three naming conventions and so I ended up with a number of try/except loops to make sure I captured them all."
   ]
  },
  {
   "cell_type": "code",
   "execution_count": 45,
   "metadata": {},
   "outputs": [
    {
     "name": "stdout",
     "output_type": "stream",
     "text": [
      "try xlsx for 2003\n",
      "try two digit load for 2003\n",
      "2003 data loaded\n",
      "try xlsx for 2004\n",
      "try two digit load for 2004\n",
      "2004 data loaded\n",
      "try xlsx for 2005\n",
      "try two digit load for 2005\n",
      "2005 data loaded\n",
      "try xlsx for 2006\n",
      "try two digit load for 2006\n",
      "2006 data loaded\n",
      "try xlsx for 2007\n",
      "try two digit load for 2007\n",
      "Try the last attempt for 2007\n",
      "2007 data loaded\n",
      "try xlsx for 2008\n",
      "try two digit load for 2008\n",
      "Try the last attempt for 2008\n",
      "Year 2008 loaded\n",
      "try xlsx for 2009\n",
      "try two digit load for 2009\n",
      "Try the last attempt for 2009\n",
      "Year 2009 loaded\n",
      "2010 data loaded\n",
      "2011 data loaded\n",
      "2012 data loaded\n",
      "2013 data loaded\n",
      "2014 data loaded\n",
      "2015 data loaded\n",
      "2016 data loaded\n",
      "2017 data loaded\n",
      "try xlsx for 2018\n",
      "2018 data loaded\n",
      "try xlsx for 2019\n",
      "2019 data loaded\n",
      "try xlsx for 2020\n",
      "2020 data loaded\n"
     ]
    }
   ],
   "source": [
    "#only use this section if you need to download from scratch\n",
    "\n",
    "#code to download all manhattan excel sheets\n",
    "urlstart = \"https://www1.nyc.gov/assets/finance/downloads/pdf/rolling_sales/annualized-sales/\"\n",
    "urlstart2 = \"https://www1.nyc.gov/assets/finance/downloads/sales_manhattan_\"\n",
    "urlstart3 = \"https://www1.nyc.gov/assets/finance/downloads/excel/rolling_sales/sales_\"\n",
    "urlend = \"_manhattan.xls\"\n",
    "urlendx = \"_manhattan.xlsx\"\n",
    "dflist = []\n",
    "\n",
    "\n",
    "for i in range (2003,2021):\n",
    "    try:\n",
    "        fullurl = (urlstart + str(i) + \"/\" + str(i) + urlend)\n",
    "        dfname = \"df\" + str(i)\n",
    "        dfname = pd.read_excel(fullurl)\n",
    "        dfname['Year'] = i\n",
    "        print(str(i) + \" data loaded\")\n",
    "        dflist.append(dfname)\n",
    "        \n",
    "    except:\n",
    "        try:\n",
    "            print(\"try xlsx for \" + str(i))\n",
    "            fullurl = (urlstart + str(i) + \"/\" + str(i) + urlendx)\n",
    "            dfname = \"df\" + str(i)\n",
    "            dfname = pd.read_excel(fullurl)\n",
    "            dfname['Year'] = i\n",
    "            print(str(i) + \" data loaded\")\n",
    "            dflist.append(dfname)\n",
    "        except:\n",
    "            try:\n",
    "                print(\"try two digit load for \" + str(i))\n",
    "                fullurl = (urlstart2 + str(i)[-2:] + \".xls\")\n",
    "                dfname = \"df\" + str(i)\n",
    "                dfname = pd.read_excel(fullurl)\n",
    "                print(str(i) + \" data loaded\")\n",
    "                dfname['Year'] = i\n",
    "                dflist.append(dfname)\n",
    "            except:\n",
    "                try:\n",
    "                    print(\"Try the last attempt for \" + str(i))\n",
    "                    fullurl = (urlstart3 + str(i) + urlend)\n",
    "                    dfname = \"df\" + str(i)\n",
    "                    dfname = pd.read_excel(fullurl)\n",
    "                    print(str(i) + \" data loaded\")\n",
    "                    dfname['Year'] = i\n",
    "                    dflist.append(dfname)\n",
    "                except:\n",
    "                    try:\n",
    "                        dfname = pd.read_excel(\"https://www1.nyc.gov/assets/finance/downloads/pdf/09pdf/rolling_sales/sales_2008_manhattan.xls\")\n",
    "                        dfname['Year'] = i\n",
    "                        dflist.append(dfname)\n",
    "                        print(f'Year {i} loaded')\n",
    "                    except:\n",
    "                        try:\n",
    "                            dfname = pd.read_excel(\"https://www1.nyc.gov/assets/finance/downloads/pdf/rolling_sales/annualized-sales/2009_manhattan.xls\")\n",
    "                            dfname['Year'] = i\n",
    "                            dflist.append(dfname)\n",
    "                            print(f'Year {i} loaded')\n",
    "                        except:\n",
    "                            print(f'Year {i} could not load.')"
   ]
  },
  {
   "cell_type": "markdown",
   "metadata": {},
   "source": [
    "Clean up the data. Drop unnecessary columns, change datatypes, streamline strings."
   ]
  },
  {
   "cell_type": "code",
   "execution_count": 47,
   "metadata": {},
   "outputs": [
    {
     "name": "stderr",
     "output_type": "stream",
     "text": [
      "/Users/macproajb/opt/anaconda3/lib/python3.8/site-packages/IPython/core/interactiveshell.py:3165: DtypeWarning:\n",
      "\n",
      "Columns (1,5,6,7,11,12,13,14,15,16,17,18,20,23,24,25,26,27,28,29,30,31,32,33,34,35,36,37,38) have mixed types.Specify dtype option on import or set low_memory=False.\n",
      "\n"
     ]
    },
    {
     "name": "stdout",
     "output_type": "stream",
     "text": [
      "['2', 'BOROUGH', 'NEIGHBORHOOD', 'BUILDING CLASS CATEGORY', 'TAX CLASS AT PRESENT', 'BLOCK', 'LOT', 'EASE-MENT', 'BUILDING CLASS AT PRESENT', 'ADDRESS', 'APARTMENT NUMBER', 'ZIP CODE', 'RESIDENTIAL UNITS', 'COMMERCIAL UNITS', 'TOTAL UNITS', 'LAND SQUARE FEET', 'GROSS SQUARE FEET', 'YEAR BUILT', 'TAX CLASS AT TIME OF SALE', 'BUILDING CLASS AT TIME OF SALE', 'SALE PRICE', 'SALE DATE', '2003', 'nan', 'nan', 'nan', 'nan', 'nan', 'nan', 'nan', 'nan', 'nan', 'nan', 'nan', 'nan', 'nan', 'nan', 'nan', 'nan']\n",
      "2                                  True\n",
      "year sold                          True\n",
      "sale date                          True\n",
      "sale price                         True\n",
      "tax class at time of sale          True\n",
      "zip code                           True\n",
      "address                            True\n",
      "building class at time of sale     True\n",
      "lot                                True\n",
      "neighborhood                       True\n",
      "block                              True\n",
      "building class category            True\n",
      "building class at present          True\n",
      "tax class at present               True\n",
      "year built                         True\n",
      "land square feet                   True\n",
      "gross square feet                  True\n",
      "commercial units                   True\n",
      "residential units                  True\n",
      "total units                        True\n",
      "apartment number                   True\n",
      "ease-ment                          True\n",
      "nan                               False\n",
      "nan                               False\n",
      "nan                               False\n",
      "nan                               False\n",
      "nan                               False\n",
      "nan                               False\n",
      "nan                               False\n",
      "nan                               False\n",
      "nan                               False\n",
      "borough                           False\n",
      "nan                               False\n",
      "nan                               False\n",
      "nan                               False\n",
      "nan                               False\n",
      "nan                               False\n",
      "nan                               False\n",
      "nan                               False\n",
      "dtype: bool\n",
      "Index(['neighborhood', 'building class category', 'tax class at present',\n",
      "       'block', 'lot', 'building class at present', 'address', 'zip code',\n",
      "       'residential units', 'commercial units', 'total units',\n",
      "       'land square feet', 'gross square feet', 'year built',\n",
      "       'tax class at time of sale', 'building class at time of sale',\n",
      "       'sale price', 'sale date', 'year sold'],\n",
      "      dtype='object')\n",
      "neighborhood                       object\n",
      "building class category            object\n",
      "tax class at present               object\n",
      "block                              object\n",
      "lot                                object\n",
      "building class at present          object\n",
      "address                            object\n",
      "zip code                          float64\n",
      "residential units                 float64\n",
      "commercial units                  float64\n",
      "total units                       float64\n",
      "land square feet                  float64\n",
      "gross square feet                 float64\n",
      "year built                        float64\n",
      "tax class at time of sale          object\n",
      "building class at time of sale     object\n",
      "sale price                        float64\n",
      "sale date                          object\n",
      "year sold                         float64\n",
      "dtype: object\n"
     ]
    }
   ],
   "source": [
    "df = pd.concat(dflist)\n",
    "df.to_csv(\"manhattan_sales.xls\")\n",
    "df = pd.read_csv(\"manhattan_sales.xls\")\n",
    "\n",
    "#set proper column headers and clean up column names\n",
    "df.columns = df.iloc[2]\n",
    "mycolumns = list(df.columns)\n",
    "newlist = []\n",
    "\n",
    "for col in mycolumns:\n",
    "    col = str(col).replace(\"\\n\",\"\")\n",
    "    col = str(col).replace(\"''\",\"\")\n",
    "    col = col.strip()\n",
    "    newlist.append(col)\n",
    "print(newlist)\n",
    "df.columns = newlist\n",
    "df.rename(columns={\"2003\": \"year sold\"},inplace=True)\n",
    "\n",
    "df = df.rename(columns=str.lower)\n",
    "\n",
    "#count null values and remove columns with too mnay null values\n",
    "countnulls = df.isnull().sum(axis=0).sort_values()\n",
    "lowcountnulls = countnulls < 1e5\n",
    "print(lowcountnulls)\n",
    "df.drop(['nan',\"apartment number\",\"borough\",\"2\",\"ease-ment\"], axis = 1,inplace=True)\n",
    "print(df.columns)\n",
    "\n",
    "#convert datatype to numeric\n",
    "numeric_cols = [\"zip code\",\"residential units\",\"commercial units\",\"total units\",\n",
    "                \"land square feet\",\"gross square feet\",\"year built\",\"sale price\",\"year sold\"]\n",
    "df[numeric_cols] = df[numeric_cols].apply(pd.to_numeric, errors='coerce', axis=1)\n",
    "print(df.dtypes)\n",
    "#save clean xls to speed up process next time \n",
    "df.to_csv(\"manhattan_sales_clean.xls\")"
   ]
  },
  {
   "cell_type": "markdown",
   "metadata": {},
   "source": [
    "We end up with ~410k entries going back to 2003."
   ]
  },
  {
   "cell_type": "code",
   "execution_count": 48,
   "metadata": {},
   "outputs": [
    {
     "data": {
      "text/plain": [
       "(410007, 20)"
      ]
     },
     "execution_count": 48,
     "metadata": {},
     "output_type": "execute_result"
    }
   ],
   "source": [
    "#start from here to make it speedier process\n",
    "df = pd.read_csv(\"manhattan_sales_clean.xls\")\n",
    "#inspect random data samples to get a sense of data\n",
    "df.sample(n=20, random_state=1)\n",
    "df.shape"
   ]
  },
  {
   "cell_type": "markdown",
   "metadata": {},
   "source": [
    "We inspect the data for unique categories in each column to get a sense of how granular the data gets. We'll have to categorize the data later to make relevant observations on large enough groups."
   ]
  },
  {
   "cell_type": "code",
   "execution_count": 49,
   "metadata": {
    "scrolled": false
   },
   "outputs": [
    {
     "name": "stdout",
     "output_type": "stream",
     "text": [
      "This category is Unnamed: 0\n",
      "[     0      1      2 ... 410004 410005 410006]\n",
      "This category is neighborhood\n",
      "[nan 'NEIGHBORHOOD' 'ALPHABET CITY            '\n",
      " 'CHELSEA                  ' 'CHINATOWN                '\n",
      " 'CIVIC CENTER             ' 'CLINTON                  '\n",
      " 'EAST VILLAGE             ' 'FASHION                  '\n",
      " 'FINANCIAL                ' 'FLATIRON                 '\n",
      " 'GRAMERCY                 ' 'GREENWICH VILLAGE-CENTRAL'\n",
      " 'GREENWICH VILLAGE-WEST   ' 'HARLEM-CENTRAL           '\n",
      " 'HARLEM-EAST              ' 'HARLEM-UPPER             '\n",
      " 'HARLEM-WEST              ' 'INWOOD                   '\n",
      " 'JAVITS CENTER            ' 'KIPS BAY                 '\n",
      " 'LITTLE ITALY             ' 'LOWER EAST SIDE          '\n",
      " 'MANHATTAN VALLEY         ' 'MIDTOWN CBD              '\n",
      " 'MIDTOWN EAST             ' 'MIDTOWN WEST             '\n",
      " 'MORNINGSIDE HEIGHTS      ' 'MURRAY HILL              '\n",
      " 'SOHO                     ' 'SOUTHBRIDGE              '\n",
      " 'TRIBECA                  ' 'UPPER BAY                '\n",
      " 'UPPER EAST SIDE (59-79)  ' 'UPPER EAST SIDE (79-96)  '\n",
      " 'UPPER EAST SIDE (96-110) ' 'UPPER WEST SIDE (59-79)  '\n",
      " 'UPPER WEST SIDE (79-96)  ' 'UPPER WEST SIDE (96-116) '\n",
      " 'WASHINGTON HEIGHTS LOWER ' 'WASHINGTON HEIGHTS UPPER '\n",
      " 'MANHATTAN-UNKNOWN        ' '1021' '1026' 'NEIGHBORHOOD\\n'\n",
      " 'ALPHABET CITY' 'CHELSEA' 'CHINATOWN' 'CIVIC CENTER' 'CLINTON'\n",
      " 'EAST VILLAGE' 'FASHION' 'FINANCIAL' 'FLATIRON' 'GRAMERCY'\n",
      " 'GREENWICH VILLAGE-WEST' 'HARLEM-CENTRAL' 'HARLEM-EAST' 'HARLEM-UPPER'\n",
      " 'HARLEM-WEST' 'INWOOD' 'JAVITS CENTER' 'KIPS BAY' 'LITTLE ITALY'\n",
      " 'LOWER EAST SIDE' 'MANHATTAN VALLEY' 'MIDTOWN CBD' 'MIDTOWN EAST'\n",
      " 'MIDTOWN WEST' 'MORNINGSIDE HEIGHTS' 'MURRAY HILL' 'ROOSEVELT ISLAND'\n",
      " 'SOHO' 'SOUTHBRIDGE' 'TRIBECA' 'UPPER EAST SIDE (59-79)'\n",
      " 'UPPER EAST SIDE (79-96)' 'UPPER EAST SIDE (96-110)'\n",
      " 'UPPER WEST SIDE (59-79)' 'UPPER WEST SIDE (79-96)'\n",
      " 'UPPER WEST SIDE (96-116)' 'WASHINGTON HEIGHTS LOWER'\n",
      " 'WASHINGTON HEIGHTS UPPER']\n",
      "This category is building class category\n",
      "[nan 'BUILDING CLASS CATEGORY'\n",
      " '02  TWO FAMILY HOMES                        '\n",
      " '07  RENTALS - WALKUP APARTMENTS             '\n",
      " '08  RENTALS - ELEVATOR APARTMENTS           '\n",
      " '09  COOPS - WALKUP APARTMENTS               '\n",
      " '10  COOPS - ELEVATOR APARTMENTS             '\n",
      " '12  CONDOS - WALKUP APARTMENTS              '\n",
      " '13  CONDOS - ELEVATOR APARTMENTS            '\n",
      " '14  RENTALS - 4-10 UNIT                     '\n",
      " '15  CONDOS - 2-10 UNIT RESIDENTIAL          '\n",
      " '16  CONDOS - 2-10 UNIT WITH COMMERCIAL UNIT '\n",
      " '17  CONDOPS                                 '\n",
      " '22  STORE BUILDINGS                         '\n",
      " '28  COMMERCIAL CONDOS                       '\n",
      " '29  COMMERCIAL GARAGES                      '\n",
      " '30  WAREHOUSES                              '\n",
      " '31  COMMERCIAL VACANT LAND                  '\n",
      " '01  ONE FAMILY HOMES                        '\n",
      " '03  THREE FAMILY HOMES                      '\n",
      " '21  OFFICE BUILDINGS                        '\n",
      " '23  LOFT BUILDINGS                          '\n",
      " '27  FACTORIES                               '\n",
      " '34  THEATRES                                '\n",
      " '35  INDOOR PUBLIC AND CULTURAL FACILITIES   '\n",
      " '41  TAX CLASS 4 - OTHER                     '\n",
      " '26  OTHER HOTELS                            '\n",
      " '33  EDUCATIONAL FACILITIES                  '\n",
      " '32  HOSPITAL AND HEALTH FACILITIES          '\n",
      " '04  TAX CLASS 1 CONDOS                      '\n",
      " '05  TAX CLASS 1 VACANT LAND                 '\n",
      " '37  RELIGIOUS FACILITIES                    '\n",
      " '40  SELECTED GOVERNMENTAL FACILITIES        '\n",
      " '18  TAX CLASS 3 - UTILITY PROPERTIES        '\n",
      " '11  SPECIAL CONDO BILLING LOTS              '\n",
      " '25  LUXURY HOTELS                           '\n",
      " '38  ASYLUMS AND HOMES                       '\n",
      " '36  OUTDOOR RECREATIONAL FACILITIES         '\n",
      " '11A CONDO-RENTALS                           '\n",
      " '06  TAX CLASS 1 - OTHER                     '\n",
      " '39  TRANSPORTATION FACILITIES               '\n",
      " 'BUILDING CLASS CATEGORY\\n'\n",
      " '                                            '\n",
      " '02  TWO FAMILY DWELLINGS                    '\n",
      " '03  THREE FAMILY DWELLINGS                  '\n",
      " '17  CONDO COOPS                             '\n",
      " '46  CONDO STORE BUILDINGS                   '\n",
      " '01  ONE FAMILY DWELLINGS                    '\n",
      " '43  CONDO OFFICE BUILDINGS                  '\n",
      " '44  CONDO PARKING                           '\n",
      " '47  CONDO NON-BUSINESS STORAGE              '\n",
      " '45  CONDO HOTELS                            '\n",
      " '42  CONDO CULTURAL/MEDICAL/EDUCATIONAL/ETC  '\n",
      " '49  CONDO WAREHOUSES/FACTORY/INDUS          '\n",
      " '48  CONDO TERRACES/GARDENS/CABANAS          '\n",
      " '24  TAX CLASS 4 - UTILITY BUREAU PROPERTIES '\n",
      " '18  TAX CLASS 3 - UNTILITY PROPERTIES       '\n",
      " '07 RENTALS - WALKUP APARTMENTS             '\n",
      " '08 RENTALS - ELEVATOR APARTMENTS           '\n",
      " '09 COOPS - WALKUP APARTMENTS               '\n",
      " '10 COOPS - ELEVATOR APARTMENTS             '\n",
      " '12 CONDOS - WALKUP APARTMENTS              '\n",
      " '13 CONDOS - ELEVATOR APARTMENTS            '\n",
      " '14 RENTALS - 4-10 UNIT                     '\n",
      " '15 CONDOS - 2-10 UNIT RESIDENTIAL          '\n",
      " '16 CONDOS - 2-10 UNIT WITH COMMERCIAL UNIT '\n",
      " '17 CONDO COOPS                             '\n",
      " '37 RELIGIOUS FACILITIES                    '\n",
      " '42 CONDO CULTURAL/MEDICAL/EDUCATIONAL/ETC  '\n",
      " '46 CONDO STORE BUILDINGS                   '\n",
      " '47 CONDO NON-BUSINESS STORAGE              '\n",
      " '01 ONE FAMILY DWELLINGS                    '\n",
      " '02 TWO FAMILY DWELLINGS                    '\n",
      " '03 THREE FAMILY DWELLINGS                  '\n",
      " '04 TAX CLASS 1 CONDOS                      '\n",
      " '21 OFFICE BUILDINGS                        '\n",
      " '22 STORE BUILDINGS                         '\n",
      " '23 LOFT BUILDINGS                          '\n",
      " '26 OTHER HOTELS                            '\n",
      " '28 COMMERCIAL CONDOS                       '\n",
      " '29 COMMERCIAL GARAGES                      '\n",
      " '30 WAREHOUSES                              '\n",
      " '34 THEATRES                                '\n",
      " '35 INDOOR PUBLIC AND CULTURAL FACILITIES   '\n",
      " '38 ASYLUMS AND HOMES                       '\n",
      " '43 CONDO OFFICE BUILDINGS                  '\n",
      " '44 CONDO PARKING                           '\n",
      " '31 COMMERCIAL VACANT LAND                  '\n",
      " '45 CONDO HOTELS                            '\n",
      " '32 HOSPITAL AND HEALTH FACILITIES          '\n",
      " '41 TAX CLASS 4 - OTHER                     '\n",
      " '48 CONDO TERRACES/GARDENS/CABANAS          '\n",
      " '25 LUXURY HOTELS                           '\n",
      " '36 OUTDOOR RECREATIONAL FACILITIES         '\n",
      " '49 CONDO WAREHOUSES/FACTORY/INDUS          '\n",
      " '27 FACTORIES                               '\n",
      " '40 SELECTED GOVERNMENTAL FACILITIES        '\n",
      " '33 EDUCATIONAL FACILITIES                  '\n",
      " '11 SPECIAL CONDO BILLING LOTS              ' '01 ONE FAMILY DWELLINGS'\n",
      " '02 TWO FAMILY DWELLINGS' '07 RENTALS - WALKUP APARTMENTS'\n",
      " '08 RENTALS - ELEVATOR APARTMENTS' '09 COOPS - WALKUP APARTMENTS'\n",
      " '10 COOPS - ELEVATOR APARTMENTS' '11A CONDO-RENTALS'\n",
      " '12 CONDOS - WALKUP APARTMENTS' '13 CONDOS - ELEVATOR APARTMENTS'\n",
      " '14 RENTALS - 4-10 UNIT' '15 CONDOS - 2-10 UNIT RESIDENTIAL'\n",
      " '17 CONDO COOPS' '22 STORE BUILDINGS' '29 COMMERCIAL GARAGES'\n",
      " '31 COMMERCIAL VACANT LAND' '34 THEATRES' '47 CONDO NON-BUSINESS STORAGE'\n",
      " '04 TAX CLASS 1 CONDOS' '16 CONDOS - 2-10 UNIT WITH COMMERCIAL UNIT'\n",
      " '21 OFFICE BUILDINGS' '23 LOFT BUILDINGS' '26 OTHER HOTELS'\n",
      " '30 WAREHOUSES' '38 ASYLUMS AND HOMES' '43 CONDO OFFICE BUILDINGS'\n",
      " '44 CONDO PARKING' '46 CONDO STORE BUILDINGS'\n",
      " '48 CONDO TERRACES/GARDENS/CABANAS' '28 COMMERCIAL CONDOS'\n",
      " '37 RELIGIOUS FACILITIES' '45 CONDO HOTELS' '03 THREE FAMILY DWELLINGS'\n",
      " '32 HOSPITAL AND HEALTH FACILITIES' '49 CONDO WAREHOUSES/FACTORY/INDUS'\n",
      " '25 LUXURY HOTELS' '40 SELECTED GOVERNMENTAL FACILITIES'\n",
      " '33 EDUCATIONAL FACILITIES' '41 TAX CLASS 4 - OTHER'\n",
      " '42 CONDO CULTURAL/MEDICAL/EDUCATIONAL/ETC'\n",
      " '35 INDOOR PUBLIC AND CULTURAL FACILITIES' '27 FACTORIES'\n",
      " '06 TAX CLASS 1 - OTHER' '11 SPECIAL CONDO BILLING LOTS'\n",
      " '36 OUTDOOR RECREATIONAL FACILITIES']\n",
      "This category is tax class at present\n",
      "[nan 'TAX CLASS AT PRESENT' '1' '2A' '2B' '2' '2C' '4' '  ' '1C' '1A' '3'\n",
      " 'TAX CLASS AT PRESENT\\n' 'TAX CLASS AS OF FINAL ROLL 17/18' ' '\n",
      " 'TAX CLASS AS OF FINAL ROLL 18/19']\n",
      "This category is block\n",
      "[nan 'BLOCK' '375' ... '1962' '1910' '1992']\n",
      "This category is lot\n",
      "[nan 'LOT' '32' ... '5140' '5158' '218']\n",
      "This category is building class at present\n",
      "[nan 'BUILDING CLASS AT PRESENT' 'B9' 'C3' 'C4' 'C1' 'C2' 'D5' 'C7' 'D7'\n",
      " 'C6' 'C0' 'D0' 'D4' 'R2' 'R1' 'R4' 'S3' 'S4' 'R8' 'R9' 'K9' 'R5' '  '\n",
      " 'G7' 'V9' 'D1' 'S1' 'B3' 'S2' 'C5' 'A4' 'D9' 'S5' 'S9' 'O9' 'O1' 'O3'\n",
      " 'K1' 'K4' 'K7' 'K2' 'L8' 'L9' 'L1' 'V1' 'E1' 'H9' 'D6' 'D8' 'RR' 'B1'\n",
      " 'G8' 'H1' 'G1' 'G9' 'E7' 'D3' 'O6' 'O4' 'O5' 'H3' 'O2' 'G6' 'U0' 'H2'\n",
      " 'W4' 'L2' 'A5' 'W3' 'B2' 'A9' 'H8' 'W6' 'W9' 'A1' 'R6' 'C8' 'C9' 'M9'\n",
      " 'N9' 'Z9' 'L3' 'G4' 'G5' 'I7' 'I9' 'P2' 'M1' 'O7' 'E9' 'F1' 'I4' 'N1'\n",
      " 'F4' 'F9' 'R3' 'E4' 'U9' 'P9' 'R0' 'I5' 'I1' 'Z4' 'A7' 'J6' 'P1' 'D2'\n",
      " 'K3' 'G2' 'Y4' 'S0' 'O8' 'J2' 'J8' 'I6' 'W8' 'W7' 'P5' 'F5' 'J9' 'J7'\n",
      " 'M4' 'Q9' 'H6' 'N2' 'K5' 'J5' 'W5' 'K6' 'W2' 'Q2' 'P7' 'M2' 'G3' 'U6'\n",
      " 'Y1' 'U4' 'J4' 'W1' 'M3' 'R7' 'A0' 'U1' 'V7' 'H4' 'Q1' 'U2' 'F2' 'H5'\n",
      " 'Z3' 'J1' 'Q3' 'P8' 'V5' 'U7' 'T9' 'E3' 'N4' 'H7' 'V8' 'U8'\n",
      " 'BUILDING CLASS AT PRESENT\\n' 'RG' 'RS' 'RH' 'RK' 'RB' 'RW' 'Y2' 'RA'\n",
      " 'RT' 'RP' 'Z5' 'J3' 'HR' 'HS' 'HH' 'HB' 'P6' 'Z2' 'GW' 'Z7'\n",
      " 'BUILDING CLASS AS OF FINAL ROLL 17/18' ' '\n",
      " 'BUILDING CLASS AS OF FINAL ROLL 18/19' 'Y7' 'G0' 'P3' 'GU']\n",
      "This category is address\n",
      "[nan 'ADDRESS' '746 EAST 6 STREET                        ' ...\n",
      " '40 PINEHURST AVENUE, CFA' '40 PINEHURST AVENUE, CFB'\n",
      " '736 WEST 187 STREET, PRK30']\n",
      "This category is zip code\n",
      "[   nan 10009. 10011. 10002. 10003. 10036. 10019. 10001. 10024. 10028.\n",
      " 10022. 10014. 10128. 10010. 10271. 10165. 10004.     0. 10013. 10038.\n",
      " 10032. 10007. 10018. 10016. 10006. 10005. 10021. 10017. 10012. 10025.\n",
      " 10063. 10027. 10035. 10026. 10030. 10031. 10037. 10039. 10029. 10463.\n",
      " 10034. 10040. 10033. 10052. 10023. 10151. 10222. 10020. 10280. 10048.\n",
      " 10044. 10075. 10046. 10065. 10110. 10121. 10125. 10218. 10150. 10118.\n",
      " 10129. 10158. 10169. 10223. 10069. 10176. 10170. 10008. 10104. 10123.\n",
      " 10015. 10281. 10282. 10105. 10112. 10167. 10179. 10177. 10171. 10172.]\n",
      "This category is residential units\n",
      "[      nan 2.000e+00 4.000e+00 6.000e+00 2.400e+01 5.000e+00 6.300e+01\n",
      " 9.000e+00 8.000e+00 1.600e+01 1.000e+01 2.000e+01 3.000e+01 0.000e+00\n",
      " 3.000e+00 1.000e+00 6.200e+01 4.800e+01 1.500e+01 1.700e+01 7.000e+00\n",
      " 1.200e+01 4.000e+01 2.000e+02 3.760e+02 1.800e+02 1.400e+01 1.300e+01\n",
      " 1.800e+01 2.200e+01 1.100e+01 3.600e+01 9.210e+02 5.970e+02 2.620e+02\n",
      " 2.500e+01 3.900e+01 2.100e+01 2.600e+01 3.700e+01 8.500e+01 5.600e+01\n",
      " 4.100e+01 3.800e+01 4.700e+01 3.330e+02 3.970e+02 4.100e+02 1.890e+02\n",
      " 6.500e+02 4.760e+02 7.200e+01 4.300e+02 5.000e+01 3.500e+01 5.400e+01\n",
      " 3.200e+01 2.300e+01 5.700e+01 2.090e+02 1.120e+02 3.230e+02 3.400e+01\n",
      " 2.800e+01 3.300e+01 2.700e+01 3.100e+01 4.900e+01 4.200e+01 1.900e+01\n",
      " 2.900e+01 5.380e+02 9.200e+01 9.000e+01 1.110e+02 8.400e+01 2.350e+02\n",
      " 7.400e+01 1.640e+02 1.520e+02 6.400e+01 6.000e+01 4.400e+01 1.340e+02\n",
      " 9.800e+01 7.900e+01 4.600e+01 5.200e+01 6.800e+01 5.900e+01 6.700e+01\n",
      " 1.000e+02 2.100e+02 9.600e+01 9.400e+01 8.940e+02 3.600e+02 8.000e+01\n",
      " 1.100e+02 3.690e+02 1.510e+02 8.200e+01 7.600e+01 1.500e+02 2.420e+02\n",
      " 1.150e+02 9.300e+01 5.300e+01 1.480e+02 1.870e+02 9.500e+01 2.235e+03\n",
      " 8.800e+01 2.580e+02 7.500e+01 6.600e+01 3.780e+02 1.360e+02 1.810e+02\n",
      " 4.300e+01 5.500e+01 1.050e+02 1.060e+02 4.110e+02 1.590e+02 1.600e+02\n",
      " 7.000e+01 9.100e+01 1.530e+02 1.980e+02 1.140e+02 8.600e+01 1.580e+02\n",
      " 5.080e+02 5.100e+01 2.670e+02 1.070e+02 8.300e+01 4.500e+01 3.170e+02\n",
      " 6.100e+01 6.900e+01 1.420e+02 7.800e+01 2.040e+02 2.930e+02 5.800e+01\n",
      " 3.260e+02 3.710e+02 2.540e+02 1.230e+02 2.370e+02 5.070e+02 3.400e+02\n",
      " 2.060e+02 3.390e+02 2.400e+02 1.840e+02 1.270e+02 2.140e+02 1.380e+02\n",
      " 6.500e+01 1.290e+02 8.900e+01 7.700e+01 1.850e+02 2.590e+02 3.840e+02\n",
      " 2.520e+02 8.360e+02 8.660e+02 8.800e+02 1.681e+03 2.680e+02 5.250e+02\n",
      " 2.630e+02 2.300e+02 9.900e+01 7.640e+02 4.590e+02 1.960e+02 1.280e+02\n",
      " 2.600e+02 1.200e+02 1.090e+02 2.750e+02 1.210e+02 4.800e+02 1.930e+02\n",
      " 1.310e+02 1.160e+02 1.650e+02 2.150e+02 2.180e+02 1.950e+02 1.190e+02\n",
      " 4.960e+02 1.730e+02 1.020e+02 1.790e+02 1.000e+03 2.740e+02 2.450e+02\n",
      " 6.580e+02 2.480e+02 3.300e+02 3.010e+02 1.400e+02 1.690e+02 2.290e+02\n",
      " 3.540e+02 1.430e+02 1.350e+02 7.300e+01 1.080e+02 1.300e+02 5.290e+02\n",
      " 3.450e+02 2.660e+02 2.920e+02 1.330e+02 8.700e+01 3.430e+02 2.800e+02\n",
      " 9.140e+02 3.410e+02 6.000e+02 1.040e+02 2.430e+02 3.340e+02 8.100e+01\n",
      " 2.640e+02 2.410e+02 1.130e+02 2.860e+02 1.630e+02 1.490e+02 2.890e+02\n",
      " 6.950e+02 1.740e+02 5.160e+02 4.550e+02 4.840e+02 2.460e+02 4.180e+02\n",
      " 1.450e+02 5.000e+02 3.250e+02 4.160e+02 1.250e+02 7.100e+01 4.040e+02\n",
      " 9.700e+01 8.756e+03 2.491e+03 2.730e+02 2.510e+02 1.440e+02 3.150e+02\n",
      " 5.460e+02 3.640e+02 1.260e+02 1.030e+02 1.830e+02 1.660e+02 1.240e+02\n",
      " 1.560e+02 4.480e+02 3.030e+02 1.720e+02 4.200e+02 2.030e+02 2.130e+02\n",
      " 3.630e+02 1.170e+02 3.890e+02 1.550e+02 5.690e+02 2.210e+02 1.620e+02\n",
      " 4.210e+02 2.550e+02 1.010e+02 3.110e+02 1.610e+02 2.320e+02 1.940e+02\n",
      " 1.470e+02 2.610e+02 1.370e+02 2.120e+02 1.320e+02 1.970e+02 1.700e+02\n",
      " 1.680e+02 2.940e+02 2.980e+02 8.350e+02 5.100e+02 2.360e+02 8.900e+02\n",
      " 1.860e+02 2.560e+02 5.760e+02 1.180e+02 1.780e+02 8.400e+02 2.220e+02\n",
      " 2.070e+02 2.990e+02 3.220e+02 3.960e+02 2.830e+02 3.000e+02 1.410e+02\n",
      " 2.870e+02 7.050e+02 4.930e+02 7.060e+02 6.520e+02 2.650e+02 5.940e+02\n",
      " 3.080e+02 1.220e+02 1.920e+02 3.050e+02 9.040e+02 1.092e+03 1.540e+02\n",
      " 2.020e+02 3.750e+02 1.570e+02 5.220e+02 2.330e+02 1.328e+03 1.770e+02\n",
      " 1.880e+02 1.460e+02 1.760e+02 3.900e+02 3.180e+02 4.900e+02 3.160e+02\n",
      " 3.240e+02 1.990e+02 3.920e+02 2.690e+02 2.700e+02 8.440e+02 8.759e+03\n",
      " 2.050e+02 3.380e+02 4.260e+02 2.340e+02 2.500e+02 4.140e+02 3.100e+02\n",
      " 2.010e+02 2.110e+02 2.230e+02 7.710e+02 2.570e+02 2.240e+02 1.641e+03\n",
      " 5.500e+02 3.610e+02 3.870e+02 2.950e+02 3.200e+02 4.640e+02 1.900e+02\n",
      " 4.460e+02 5.030e+02 4.890e+02 1.820e+02 2.780e+02 2.850e+02 3.120e+02\n",
      " 8.764e+03 2.170e+02]\n",
      "This category is commercial units\n",
      "[      nan 0.000e+00 1.000e+00 2.000e+00 4.000e+00 3.000e+00 8.000e+00\n",
      " 7.000e+00 6.000e+00 9.000e+00 5.000e+00 6.200e+01 1.300e+01 6.020e+02\n",
      " 2.300e+01 1.700e+01 1.360e+02 1.470e+02 1.140e+02 1.000e+01 2.900e+01\n",
      " 3.000e+01 3.700e+01 7.200e+01 3.900e+01 2.200e+01 1.040e+02 1.100e+01\n",
      " 5.200e+01 1.600e+01 1.200e+01 1.900e+01 2.500e+01 1.070e+02 5.000e+01\n",
      " 1.400e+01 3.600e+01 1.010e+02 4.000e+01 3.400e+01 9.100e+01 6.800e+01\n",
      " 2.800e+01 1.030e+02 1.500e+02 4.100e+01 3.100e+01 8.700e+01 2.100e+01\n",
      " 1.800e+02 6.700e+01 7.800e+01 3.800e+01 9.300e+01 7.700e+01 2.700e+01\n",
      " 6.100e+01 3.500e+01 1.840e+02 1.700e+02 1.400e+02 7.000e+01 1.500e+01\n",
      " 2.000e+01 3.200e+01 4.400e+01 9.000e+01 8.900e+01 9.900e+01 4.700e+01\n",
      " 6.300e+01 3.750e+02 6.030e+02 9.400e+01 1.800e+01 4.500e+01 5.600e+01\n",
      " 1.060e+02 3.300e+01 5.100e+01 6.400e+01 4.300e+01 6.000e+01 3.190e+02\n",
      " 5.800e+01 6.600e+01 1.440e+02 7.600e+01 2.400e+01 4.200e+01 2.140e+02\n",
      " 7.500e+01 3.410e+02 1.310e+02 1.102e+03 7.900e+01 1.020e+02 1.240e+02\n",
      " 9.600e+01 1.710e+02 2.000e+03 5.650e+02 6.500e+01 5.700e+01 1.170e+02\n",
      " 2.600e+01 9.500e+01 1.580e+02 5.300e+01 1.550e+02 5.500e+01 2.000e+02\n",
      " 3.350e+02 2.080e+02 1.000e+02 8.100e+01 8.500e+01 8.400e+01 6.040e+02\n",
      " 4.600e+01 1.110e+02 1.250e+02 1.880e+02 1.200e+02 1.530e+02 7.300e+02\n",
      " 8.000e+01 1.230e+02 9.200e+01 7.100e+01 2.390e+02 2.070e+02 1.180e+02\n",
      " 4.480e+02 4.900e+01 2.030e+02 6.120e+02 2.110e+02 9.700e+01 8.800e+01\n",
      " 7.300e+01 3.130e+02 2.920e+02 2.480e+02 3.180e+02 2.540e+02 1.860e+02\n",
      " 4.800e+01 4.220e+02 2.290e+02 5.900e+01 1.670e+02 1.330e+02 5.400e+01\n",
      " 1.520e+02 2.590e+02 1.940e+02 2.220e+02 7.400e+01 5.700e+02 8.300e+01\n",
      " 1.380e+02 1.160e+02]\n",
      "This category is total units\n",
      "[      nan 2.000e+00 4.000e+00 7.000e+00 2.400e+01 5.000e+00 6.300e+01\n",
      " 1.000e+01 1.700e+01 9.000e+00 2.200e+01 3.400e+01 0.000e+00 3.000e+00\n",
      " 8.000e+00 1.000e+00 4.800e+01 1.500e+01 1.200e+01 2.500e+01 2.100e+01\n",
      " 4.000e+01 2.020e+02 3.760e+02 6.000e+00 6.200e+01 1.800e+02 1.100e+01\n",
      " 1.600e+01 1.900e+01 1.800e+01 2.300e+01 2.600e+01 2.800e+01 4.200e+01\n",
      " 1.300e+01 1.400e+01 2.000e+01 6.180e+02 3.300e+01 3.600e+01 9.270e+02\n",
      " 6.010e+02 2.620e+02 3.700e+01 8.900e+01 4.600e+01 4.100e+01 4.700e+01\n",
      " 3.460e+02 1.360e+02 1.470e+02 1.140e+02 2.900e+01 3.000e+01 7.200e+01\n",
      " 1.040e+02 5.200e+01 3.990e+02 4.110e+02 1.940e+02 6.520e+02 4.820e+02\n",
      " 7.400e+01 4.390e+02 1.070e+02 5.000e+01 1.010e+02 5.100e+01 3.500e+01\n",
      " 5.400e+01 4.300e+01 3.900e+01 2.200e+02 1.130e+02 3.300e+02 2.700e+01\n",
      " 3.100e+01 3.800e+01 2.070e+02 5.500e+02 9.200e+01 9.000e+01 5.300e+01\n",
      " 1.170e+02 8.400e+01 2.420e+02 1.660e+02 1.520e+02 6.600e+01 6.000e+01\n",
      " 4.400e+01 5.600e+01 1.340e+02 9.800e+01 7.000e+01 6.900e+01 5.800e+01\n",
      " 5.900e+01 3.200e+01 6.700e+01 4.900e+01 1.020e+02 2.130e+02 9.600e+01\n",
      " 9.400e+01 9.000e+02 1.560e+02 3.620e+02 8.000e+01 9.700e+01 4.600e+02\n",
      " 1.120e+02 8.200e+01 6.800e+01 7.800e+01 2.520e+02 1.190e+02 1.030e+02\n",
      " 1.500e+02 8.700e+01 7.600e+01 1.510e+02 1.890e+02 1.670e+02 1.530e+02\n",
      " 9.300e+01 7.700e+01 2.256e+03 2.580e+02 3.910e+02 1.410e+02 1.810e+02\n",
      " 1.000e+02 8.300e+01 5.500e+01 1.110e+02 4.190e+02 1.590e+02 1.620e+02\n",
      " 7.300e+01 9.500e+01 1.980e+02 2.010e+02 8.600e+01 1.610e+02 5.080e+02\n",
      " 2.720e+02 1.900e+02 7.900e+01 4.500e+01 3.170e+02 3.250e+02 6.100e+01\n",
      " 1.420e+02 8.500e+01 2.140e+02 2.950e+02 3.260e+02 3.750e+02 1.390e+02\n",
      " 2.650e+02 1.290e+02 6.400e+01 1.840e+02 1.700e+02 1.400e+02 2.450e+02\n",
      " 9.900e+01 3.230e+02 5.100e+02 2.080e+02 3.390e+02 2.400e+02 1.440e+02\n",
      " 6.500e+01 7.500e+01 2.610e+02 2.550e+02 3.940e+02 2.540e+02 8.360e+02\n",
      " 8.930e+02 8.800e+02 1.684e+03 2.740e+02 5.330e+02 2.630e+02 2.310e+02\n",
      " 4.030e+02 7.760e+02 4.590e+02 2.380e+02 1.310e+02 2.600e+02 1.210e+02\n",
      " 2.750e+02 6.030e+02 1.350e+02 4.830e+02 1.860e+02 1.960e+02 1.080e+02\n",
      " 1.730e+02 2.180e+02 2.040e+02 1.950e+02 4.960e+02 1.230e+02 1.830e+02\n",
      " 1.009e+03 2.770e+02 6.580e+02 2.480e+02 3.330e+02 3.020e+02 1.690e+02\n",
      " 2.350e+02 1.640e+02 3.540e+02 1.460e+02 7.100e+01 1.100e+02 1.060e+02\n",
      " 7.640e+02 1.300e+02 5.380e+02 3.480e+02 2.730e+02 1.370e+02 8.800e+01\n",
      " 3.500e+02 1.250e+02 2.870e+02 9.150e+02 2.060e+02 3.440e+02 1.280e+02\n",
      " 6.080e+02 9.100e+01 1.090e+02 2.430e+02 1.050e+02 3.340e+02 2.170e+02\n",
      " 8.100e+01 1.220e+02 1.320e+02 3.190e+02 2.470e+02 2.860e+02 1.630e+02\n",
      " 2.960e+02 3.740e+02 1.540e+02 6.980e+02 1.330e+02 1.750e+02 5.230e+02\n",
      " 3.570e+02 4.840e+02 1.180e+02 2.500e+02 4.270e+02 4.850e+02 1.450e+02\n",
      " 1.200e+02 5.000e+02 5.700e+01 3.270e+02 4.250e+02 2.590e+02 2.120e+02\n",
      " 8.800e+03 2.498e+03 3.410e+02 2.760e+02 1.480e+02 1.417e+03 1.240e+02\n",
      " 3.700e+02 1.260e+02 1.710e+02 1.580e+02 4.420e+02 2.930e+02 1.570e+02\n",
      " 4.530e+02 3.200e+02 4.210e+02 3.660e+02 1.160e+02 3.920e+02 2.370e+02\n",
      " 1.550e+02 2.000e+03 5.650e+02 5.700e+02 2.210e+02 4.260e+02 3.150e+02\n",
      " 3.380e+02 1.870e+02 1.650e+02 2.510e+02 1.490e+02 2.240e+02 1.740e+02\n",
      " 1.970e+02 2.290e+02 3.010e+02 5.220e+02 2.100e+02 8.940e+02 1.910e+02\n",
      " 2.460e+02 2.570e+02 5.860e+02 1.850e+02 1.790e+02 2.220e+02 4.800e+02\n",
      " 5.790e+02 3.100e+02 3.240e+02 4.060e+02 3.350e+02 3.090e+02 2.300e+02\n",
      " 7.050e+02 4.970e+02 4.180e+02 2.840e+02 7.070e+02 6.560e+02 2.710e+02\n",
      " 5.940e+02 6.040e+02 3.110e+02 2.000e+02 3.060e+02 2.780e+02 1.150e+02\n",
      " 3.400e+02 3.980e+02 9.040e+02 1.097e+03 3.800e+02 1.880e+02 1.770e+02\n",
      " 5.260e+02 2.110e+02 5.110e+02 7.300e+02 2.330e+02 1.349e+03 1.270e+02\n",
      " 1.760e+02 3.950e+02 2.390e+02 3.710e+02 6.110e+02 3.290e+02 3.180e+02\n",
      " 4.910e+02 1.820e+02 3.280e+02 4.870e+02 4.480e+02 1.920e+02 3.720e+02\n",
      " 1.380e+02 1.600e+02 3.930e+02 2.030e+02 6.120e+02 2.700e+02 8.470e+02\n",
      " 8.805e+03 2.050e+02 1.430e+02 4.280e+02 2.410e+02 2.340e+02 4.140e+02\n",
      " 1.680e+02 3.160e+02 2.230e+02 3.130e+02 2.920e+02 4.170e+02 2.560e+02\n",
      " 7.710e+02 2.090e+02 9.020e+02 2.690e+02 1.653e+03 4.220e+02 5.510e+02\n",
      " 3.610e+02 1.930e+02 4.650e+02 4.520e+02 5.060e+02 4.890e+02 2.850e+02\n",
      " 2.880e+02 3.210e+02 4.300e+02 8.812e+03 4.920e+02]\n",
      "This category is land square feet\n",
      "[   nan  2134.  5746. ... 22900. 19300. 20375.]\n",
      "This category is gross square feet\n",
      "[    nan   3542.   2700. ...  46862. 101100.  14040.]\n",
      "This category is year built\n",
      "[  nan 1899. 1900. 1910. 1880. 1920. 1925. 1902. 1928. 2005. 1930. 1939.\n",
      " 1935. 1940. 1929. 1937. 1901. 1950.    0. 1985. 2004. 1905. 1944. 1986.\n",
      " 1850. 1921. 1915. 1917. 1911. 2003. 1926. 1913. 1889. 1963. 1898. 1977.\n",
      " 1918. 1938. 1923. 1927. 1906. 1909. 1958. 1989. 1987. 1984. 1983. 2002.\n",
      " 1907. 1875. 1973. 1922. 1932. 1931. 1980. 1945. 1960. 1894. 1903. 1912.\n",
      " 1934. 1975. 1990. 1830. 1965. 1890. 1951. 1896. 1998. 1999. 1957. 2001.\n",
      " 1988. 1868. 1916. 1997. 1870. 2008. 2000. 1924. 1914. 1954. 2012. 2010.\n",
      " 1969. 1908. 2007. 1956. 1840. 1962. 1952. 1974. 1964. 1955. 1904. 1961.\n",
      " 2009. 1959. 1972. 1976. 1846. 1941. 1895. 1966. 1981. 2011. 1887. 1971.\n",
      " 1843. 1946. 1947. 1869. 1968. 1852. 2006. 1936. 1953. 1994. 1948. 1949.\n",
      " 1982. 1800. 1866. 1970. 1967. 1933. 1942. 1919. 1979. 1885. 1871. 1879.\n",
      " 1886. 1881. 1853. 1882. 1995. 1862. 1978. 1991. 1892. 1897. 1865. 1856.\n",
      " 1860. 1859. 1847. 1993. 1826. 1884. 1996. 1836. 1873. 1888. 1648. 1893.\n",
      " 1883. 1841. 1849. 1874. 1878. 1877. 1851. 1834. 1827. 1857. 1848. 1992.\n",
      " 1891. 2013. 1000. 1824. 1058. 2014. 1943. 1864. 1855. 2015. 1838. 1798.\n",
      " 2016. 1111. 2017. 2018. 1821. 1839. 1825. 2019. 2020.]\n",
      "This category is tax class at time of sale\n",
      "[nan 'TAX CLASS AT TIME OF SALE' '1' '2' '4' '3'\n",
      " 'TAX CLASS AT TIME OF SALE\\n']\n",
      "This category is building class at time of sale\n",
      "[nan 'BUILDING CLASS AT TIME OF SALE' 'B9' 'C3' 'C4' 'C1' 'C2' 'C7' 'D7'\n",
      " 'C6' 'D0' 'D4' 'R2' 'R4' 'S3' 'S4' 'R1' 'R8' 'R9' 'K9' 'R5' 'G9' 'G2'\n",
      " 'E9' 'V1' 'V9' 'S1' 'B3' 'S2' 'C0' 'C5' 'D1' 'D6' 'D9' 'S5' 'S9' 'O9'\n",
      " 'O1' 'O3' 'K1' 'K4' 'K7' 'K2' 'L9' 'L8' 'L3' 'L1' 'F2' 'F9' 'F4' 'G1'\n",
      " 'G6' 'E1' 'E3' 'J9' 'P6' 'P3' 'Z9' 'O6' 'L2' 'D8' 'O5' 'G8' 'G7' 'O4'\n",
      " 'O2' 'H9' 'W4' 'D5' 'I5' 'A5' 'D3' 'A4' 'B1' 'D2' 'O7' 'H8' 'I9' 'W6'\n",
      " 'W9' 'J1' 'A9' 'A1' 'R6' 'C8' 'B2' 'V0' 'V2' 'C9' 'G4' 'G5' 'P2' 'M1'\n",
      " 'V3' 'F1' 'F5' 'I4' 'Y6' 'W8' 'K5' 'R3' 'U9' 'R0' 'I1' 'H2' 'H3' 'O8'\n",
      " 'J6' 'P1' 'A7' 'N9' 'Y4' 'W3' 'J2' 'J8' 'Z5' 'I6' 'N4' 'W7' 'M9' 'P5'\n",
      " 'P9' 'J7' 'M4' 'Y5' 'N2' 'H5' 'J5' 'M3' 'A3' 'W2' 'E7' 'Q2' 'M2' 'H1'\n",
      " 'S0' 'RR' 'H6' 'G3' 'I7' 'U6' 'P7' 'J3' 'U4' 'U8' 'J4' 'Q6' 'V5' 'U1'\n",
      " 'U2' 'K3' 'W1' 'Q1' 'R7' 'H4' 'E4' 'Z3' 'V6' 'Q3' 'Q9' 'Z0' 'Q7' 'P8'\n",
      " 'U7' 'V4' 'H7' 'V8' 'Z4' 'T9' 'BUILDING CLASS AT TIME OF SALE\\n' 'RG'\n",
      " 'RS' 'RH' 'RK' 'RB' 'A0' 'RW' 'Y2' 'RA' 'RP' 'RT' 'U0' 'HR' 'HS' 'HB'\n",
      " 'Z2' 'GW' 'Z7' 'Y1' 'HH' 'Y7' 'G0' 'GU' 'BUILDING CLASS\\nAT TIME OF SALE']\n",
      "This category is sale price\n",
      "[     nan 1800000.       0. ...  398003.  331275.  389900.]\n",
      "This category is sale date\n",
      "[nan 'SALE DATE' '2003-01-22 00:00:00' ... '2020-10-24 00:00:00'\n",
      " '2020-05-23 00:00:00' '2020-03-07 00:00:00']\n",
      "This category is year sold\n",
      "[2003. 2004. 2005. 2006. 2007. 2008. 2009. 2010. 2011. 2012. 2013. 2014.\n",
      " 2015. 2016. 2017. 2018. 2019. 2020.]\n"
     ]
    }
   ],
   "source": [
    "#check out unique categories in each column\n",
    "for cols in df:\n",
    "    print(f'This category is {cols}')\n",
    "    print(df[cols].unique())"
   ]
  },
  {
   "cell_type": "markdown",
   "metadata": {},
   "source": [
    "We start filtering out outliers, nonrelevant data, and improving descriptors used."
   ]
  },
  {
   "cell_type": "code",
   "execution_count": 51,
   "metadata": {
    "scrolled": true
   },
   "outputs": [
    {
     "name": "stdout",
     "output_type": "stream",
     "text": [
      "Shape before filtering out values is (410007, 20)\n",
      "Shape after filtering out values is (326457, 20)\n",
      "Shape before filtering out values is (326457, 20)\n",
      "Float64Index([10023.0, 10021.0, 10016.0, 10011.0, 10022.0, 10019.0, 10025.0,\n",
      "              10128.0, 10024.0, 10003.0, 10028.0, 10014.0, 10065.0, 10017.0,\n",
      "              10013.0, 10010.0, 10036.0, 10075.0, 10002.0, 10012.0, 10026.0,\n",
      "              10027.0, 10001.0, 10038.0, 10280.0, 10069.0, 10005.0, 10009.0,\n",
      "              10007.0, 10033.0, 10031.0, 10029.0, 10032.0, 10040.0, 10035.0,\n",
      "              10034.0, 10030.0, 10006.0, 10004.0, 10039.0, 10044.0, 10018.0,\n",
      "              10037.0],\n",
      "             dtype='float64')\n",
      "Shape after filtering out values is (325646, 20)\n",
      "95% of residential homes are below $4,750,000\n",
      "Shape before filtering out values is (325646, 20)\n",
      "Shape after filtering out values is (309281, 20)\n"
     ]
    },
    {
     "data": {
      "image/png": "[encoded data removed]",
      "text/plain": [
       "<Figure size 432x288 with 1 Axes>"
      ]
     },
     "metadata": {
      "needs_background": "light"
     },
     "output_type": "display_data"
    }
   ],
   "source": [
    "#filter out for only residential values\n",
    "print(f'Shape before filtering out values is {df.shape}')\n",
    "df[\"tax class at time of sale\"].value_counts()\n",
    "residential_values= [2,'2']\n",
    "filtered_df = df[df[\"tax class at time of sale\"].isin(residential_values)]\n",
    "print(f'Shape after filtering out values is {filtered_df.shape}')\n",
    "\n",
    "#filter out zip codes with less than 500 transactions\n",
    "print(f'Shape before filtering out values is {filtered_df.shape}')\n",
    "filter1 = filtered_df[\"zip code\"].value_counts() > 500\n",
    "filter2 = filter1[filter1].index\n",
    "print(filter2)\n",
    "filtered_df = filtered_df[filtered_df[\"zip code\"].isin(filter2)]\n",
    "print(f'Shape after filtering out values is {filtered_df.shape}')\n",
    "filtered_df[\"zip code\"].value_counts()\n",
    "\n",
    "#filter out sales prices over $10mn and change unit to millions\n",
    "quantile_cut = .95\n",
    "highend = filtered_df[\"sale price\"].quantile(quantile_cut)\n",
    "print(f'{quantile_cut * 100:.0f}% of residential homes are below ${highend:,.0f}')\n",
    "print(f'Shape before filtering out values is {filtered_df.shape}')\n",
    "filtered_df = filtered_df[filtered_df[\"sale price\"] < highend] #filter out top 5% of homes\n",
    "#there are almost 55k transactions listed as $0 sale price which the glossary states is\n",
    "#transfer of ownership without cash payment such as parents transfering to kids. We filter those out as well\n",
    "filtred_df = filtered_df[filtered_df[\"sale price\"] < 1]\n",
    "print(f'Shape after filtering out values is {filtered_df.shape}')\n",
    "filtered_df[\"sale price\"].hist(bins=10)\n",
    "\n",
    "#filter by decade by rounding down to nearest ten\n",
    "filtered_df[\"decade built\"] = round(filtered_df[\"year built\"],-1)\n",
    "#filtered_df[\"decade built\"].value_counts().sort_index().plot(kind=\"bar\")\n",
    "\n",
    "#filter for broad categories where R condos, C is walkups, D is coops, S is majority stores\n",
    "filtered_df[\"building class at time of sale\"].value_counts()\n",
    "filtered_df['broad building category'] = filtered_df[\"building class at time of sale\"].astype(str).str[0]\n",
    "building_cat_dict = {\"R\":\"condos\",\"D\":\"co-ops\",\"C\":\"walk-ups\",\"S\":\"stores\"}\n",
    "filtered_df[\"broad building category\"] = filtered_df[\"broad building category\"].map(building_cat_dict)\n",
    "filtered_df[\"broad building category\"].value_counts()\n",
    "\n",
    "#clean up neighborhood names\n",
    "df[\"neighborhood\"] = df[\"neighborhood\"].str.lower()\n",
    "df[\"neighborhood\"] = df[\"neighborhood\"].str.strip()\n",
    "\n",
    "#clean up neighborhood definitions. UWS is listed as three separate blocks of streets for example.\n",
    "broader_neighborhoods = {'1021': 'other',\n",
    " '1026': 'other',\n",
    " 'alphabet city': 'alphabet city',\n",
    " 'chelsea': 'chelsea',\n",
    " 'chinatown': 'chinatown',\n",
    " 'civic center': 'lower manhattan',\n",
    " 'clinton': 'hells kitchen',\n",
    " 'east village': 'east village',\n",
    " 'fashion': 'chelsea',\n",
    " 'financial': 'financial',\n",
    " 'flatiron': 'flatiron/gramercy',\n",
    " 'gramercy': 'flatiron/gramercy',\n",
    " 'greenwich village-central': 'greenwich',\n",
    " 'greenwich village-west': 'greenwich',\n",
    " 'harlem-central': 'harlem',\n",
    " 'harlem-east': 'harlem',\n",
    " 'harlem-upper': 'harlem',\n",
    " 'harlem-west': 'harlem',\n",
    " 'inwood': 'inwood',\n",
    " 'javits center': 'javits center',\n",
    " 'kips bay': 'murray hill',\n",
    " 'little italy': 'soho',\n",
    " 'lower east side': 'LES',\n",
    " 'manhattan valley': 'UWS',\n",
    " 'manhattan-unknown': 'other',\n",
    " 'midtown cbd': 'midtown',\n",
    " 'midtown east': 'midtown',\n",
    " 'midtown west': 'midtown',\n",
    " 'morningside heights': 'morningside heights',\n",
    " 'murray hill': 'murray hill',\n",
    " 'roosevelt island':  'roosevelt island',\n",
    " 'soho': 'soho',\n",
    " 'southbridge': 'lower manhattan',\n",
    " 'tribeca': 'tribeca',\n",
    " 'upper east side (59-79)': 'UES',\n",
    " 'upper east side (79-96)': 'UES',\n",
    " 'upper east side (96-110)': 'UES',\n",
    " 'upper west side (59-79)': 'UWS',\n",
    " 'upper west side (79-96)': 'UWS',\n",
    " 'upper west side (96-116)': 'UWS',\n",
    " 'washington heights lower': 'washington heights',\n",
    " 'washington heights upper': 'washington heights'}\n",
    "\n",
    "#rename neighborhoods and see new list\n",
    "filtered_df[\"broader_neighborhoods\"] = filtered_df[\"neighborhood\"].map(broader_neighborhoods)\n",
    "filtered_df[\"broader_neighborhoods\"].value_counts()\n",
    "\n",
    "#create unique property id\n",
    "filtered_df[\"property id\"] = filtered_df[\"block\"].astype(str) + \"---\" + filtered_df[\"lot\"].astype(str)"
   ]
  },
  {
   "cell_type": "markdown",
   "metadata": {},
   "source": [
    "We're going to be spending a bit of time perusing the data and so it's worth it to create functions to do this more quickly."
   ]
  },
  {
   "cell_type": "code",
   "execution_count": 53,
   "metadata": {},
   "outputs": [
    {
     "data": {
      "text/html": [
       "<div>\n",
       "<style scoped>\n",
       "    .dataframe tbody tr th:only-of-type {\n",
       "        vertical-align: middle;\n",
       "    }\n",
       "\n",
       "    .dataframe tbody tr th {\n",
       "        vertical-align: top;\n",
       "    }\n",
       "\n",
       "    .dataframe thead th {\n",
       "        text-align: right;\n",
       "    }\n",
       "</style>\n",
       "<table border=\"1\" class=\"dataframe\">\n",
       "  <thead>\n",
       "    <tr style=\"text-align: right;\">\n",
       "      <th></th>\n",
       "      <th>Unnamed: 0</th>\n",
       "      <th>neighborhood</th>\n",
       "      <th>building class category</th>\n",
       "      <th>tax class at present</th>\n",
       "      <th>block</th>\n",
       "      <th>lot</th>\n",
       "      <th>building class at present</th>\n",
       "      <th>address</th>\n",
       "      <th>zip code</th>\n",
       "      <th>residential units</th>\n",
       "      <th>...</th>\n",
       "      <th>year built</th>\n",
       "      <th>tax class at time of sale</th>\n",
       "      <th>building class at time of sale</th>\n",
       "      <th>sale price</th>\n",
       "      <th>sale date</th>\n",
       "      <th>year sold</th>\n",
       "      <th>decade built</th>\n",
       "      <th>broad building category</th>\n",
       "      <th>broader_neighborhoods</th>\n",
       "      <th>property id</th>\n",
       "    </tr>\n",
       "  </thead>\n",
       "  <tbody>\n",
       "    <tr>\n",
       "      <th>324014</th>\n",
       "      <td>324014</td>\n",
       "      <td>civic center</td>\n",
       "      <td>13  CONDOS - ELEVATOR APARTMENTS</td>\n",
       "      <td>2</td>\n",
       "      <td>149</td>\n",
       "      <td>1168</td>\n",
       "      <td>R4</td>\n",
       "      <td>57 READE STREET</td>\n",
       "      <td>10007.0</td>\n",
       "      <td>1.0</td>\n",
       "      <td>...</td>\n",
       "      <td>2010.0</td>\n",
       "      <td>2</td>\n",
       "      <td>R4</td>\n",
       "      <td>2500000.0</td>\n",
       "      <td>2016-03-03 00:00:00</td>\n",
       "      <td>2016.0</td>\n",
       "      <td>2010.0</td>\n",
       "      <td>condos</td>\n",
       "      <td>lower manhattan</td>\n",
       "      <td>149---1168</td>\n",
       "    </tr>\n",
       "    <tr>\n",
       "      <th>193519</th>\n",
       "      <td>193519</td>\n",
       "      <td>tribeca</td>\n",
       "      <td>13  CONDOS - ELEVATOR APARTMENTS</td>\n",
       "      <td>2</td>\n",
       "      <td>218</td>\n",
       "      <td>1312</td>\n",
       "      <td>R4</td>\n",
       "      <td>415 WASHINGTON STREET</td>\n",
       "      <td>10013.0</td>\n",
       "      <td>1.0</td>\n",
       "      <td>...</td>\n",
       "      <td>2010.0</td>\n",
       "      <td>2</td>\n",
       "      <td>R4</td>\n",
       "      <td>1781937.0</td>\n",
       "      <td>2010-07-01 00:00:00</td>\n",
       "      <td>2010.0</td>\n",
       "      <td>2010.0</td>\n",
       "      <td>condos</td>\n",
       "      <td>tribeca</td>\n",
       "      <td>218---1312</td>\n",
       "    </tr>\n",
       "    <tr>\n",
       "      <th>252862</th>\n",
       "      <td>252862</td>\n",
       "      <td>harlem-east</td>\n",
       "      <td>13  CONDOS - ELEVATOR APARTMENTS</td>\n",
       "      <td>2</td>\n",
       "      <td>1631</td>\n",
       "      <td>1037</td>\n",
       "      <td>R4</td>\n",
       "      <td>1635 LEXINGTON AVENUE</td>\n",
       "      <td>10029.0</td>\n",
       "      <td>1.0</td>\n",
       "      <td>...</td>\n",
       "      <td>2010.0</td>\n",
       "      <td>2</td>\n",
       "      <td>R4</td>\n",
       "      <td>549855.0</td>\n",
       "      <td>2013-09-12 00:00:00</td>\n",
       "      <td>2013.0</td>\n",
       "      <td>2010.0</td>\n",
       "      <td>condos</td>\n",
       "      <td>harlem</td>\n",
       "      <td>1631---1037</td>\n",
       "    </tr>\n",
       "    <tr>\n",
       "      <th>349536</th>\n",
       "      <td>349536</td>\n",
       "      <td>harlem-east</td>\n",
       "      <td>13 CONDOS - ELEVATOR APARTMENTS</td>\n",
       "      <td>2</td>\n",
       "      <td>1631</td>\n",
       "      <td>1035</td>\n",
       "      <td>R4</td>\n",
       "      <td>1635 LEXINGTON AVENUE</td>\n",
       "      <td>10029.0</td>\n",
       "      <td>1.0</td>\n",
       "      <td>...</td>\n",
       "      <td>2010.0</td>\n",
       "      <td>2</td>\n",
       "      <td>R4</td>\n",
       "      <td>801362.0</td>\n",
       "      <td>2017-02-10 00:00:00</td>\n",
       "      <td>2017.0</td>\n",
       "      <td>2010.0</td>\n",
       "      <td>condos</td>\n",
       "      <td>harlem</td>\n",
       "      <td>1631---1035</td>\n",
       "    </tr>\n",
       "    <tr>\n",
       "      <th>253931</th>\n",
       "      <td>253931</td>\n",
       "      <td>little italy</td>\n",
       "      <td>13  CONDOS - ELEVATOR APARTMENTS</td>\n",
       "      <td>2</td>\n",
       "      <td>507</td>\n",
       "      <td>1118</td>\n",
       "      <td>R4</td>\n",
       "      <td>250 BOWERY</td>\n",
       "      <td>10012.0</td>\n",
       "      <td>1.0</td>\n",
       "      <td>...</td>\n",
       "      <td>2010.0</td>\n",
       "      <td>2</td>\n",
       "      <td>R4</td>\n",
       "      <td>1725933.0</td>\n",
       "      <td>2013-07-15 00:00:00</td>\n",
       "      <td>2013.0</td>\n",
       "      <td>2010.0</td>\n",
       "      <td>condos</td>\n",
       "      <td>soho</td>\n",
       "      <td>507---1118</td>\n",
       "    </tr>\n",
       "    <tr>\n",
       "      <th>185006</th>\n",
       "      <td>185006</td>\n",
       "      <td>harlem-central</td>\n",
       "      <td>08  RENTALS - ELEVATOR APARTMENTS</td>\n",
       "      <td>2</td>\n",
       "      <td>1756</td>\n",
       "      <td>23</td>\n",
       "      <td>D3</td>\n",
       "      <td>2083 MADISON AVENUE</td>\n",
       "      <td>10037.0</td>\n",
       "      <td>82.0</td>\n",
       "      <td>...</td>\n",
       "      <td>2010.0</td>\n",
       "      <td>2</td>\n",
       "      <td>D3</td>\n",
       "      <td>0.0</td>\n",
       "      <td>2010-06-15 00:00:00</td>\n",
       "      <td>2010.0</td>\n",
       "      <td>2010.0</td>\n",
       "      <td>co-ops</td>\n",
       "      <td>harlem</td>\n",
       "      <td>1756---23</td>\n",
       "    </tr>\n",
       "    <tr>\n",
       "      <th>386366</th>\n",
       "      <td>386366</td>\n",
       "      <td>lower east side</td>\n",
       "      <td>13 CONDOS - ELEVATOR APARTMENTS</td>\n",
       "      <td>2</td>\n",
       "      <td>276</td>\n",
       "      <td>1224</td>\n",
       "      <td>R4</td>\n",
       "      <td>31 MONROE STREET, 11A</td>\n",
       "      <td>10002.0</td>\n",
       "      <td>1.0</td>\n",
       "      <td>...</td>\n",
       "      <td>2010.0</td>\n",
       "      <td>2</td>\n",
       "      <td>R4</td>\n",
       "      <td>650000.0</td>\n",
       "      <td>2019-10-30 00:00:00</td>\n",
       "      <td>2019.0</td>\n",
       "      <td>2010.0</td>\n",
       "      <td>condos</td>\n",
       "      <td>LES</td>\n",
       "      <td>276---1224</td>\n",
       "    </tr>\n",
       "    <tr>\n",
       "      <th>404057</th>\n",
       "      <td>404057</td>\n",
       "      <td>murray hill</td>\n",
       "      <td>17 CONDO COOPS</td>\n",
       "      <td>2C</td>\n",
       "      <td>885</td>\n",
       "      <td>1304</td>\n",
       "      <td>R9</td>\n",
       "      <td>132 EAST 30TH STREET, 6A</td>\n",
       "      <td>10016.0</td>\n",
       "      <td>NaN</td>\n",
       "      <td>...</td>\n",
       "      <td>2010.0</td>\n",
       "      <td>2</td>\n",
       "      <td>R9</td>\n",
       "      <td>0.0</td>\n",
       "      <td>2020-01-01 00:00:00</td>\n",
       "      <td>2020.0</td>\n",
       "      <td>2010.0</td>\n",
       "      <td>condos</td>\n",
       "      <td>murray hill</td>\n",
       "      <td>885---1304</td>\n",
       "    </tr>\n",
       "    <tr>\n",
       "      <th>364273</th>\n",
       "      <td>364273</td>\n",
       "      <td>fashion</td>\n",
       "      <td>13 CONDOS - ELEVATOR APARTMENTS</td>\n",
       "      <td>2</td>\n",
       "      <td>838</td>\n",
       "      <td>1099</td>\n",
       "      <td>R4</td>\n",
       "      <td>400 5 AVENUE</td>\n",
       "      <td>10018.0</td>\n",
       "      <td>1.0</td>\n",
       "      <td>...</td>\n",
       "      <td>2010.0</td>\n",
       "      <td>2</td>\n",
       "      <td>R4</td>\n",
       "      <td>0.0</td>\n",
       "      <td>2018-03-30 00:00:00</td>\n",
       "      <td>2018.0</td>\n",
       "      <td>2010.0</td>\n",
       "      <td>condos</td>\n",
       "      <td>chelsea</td>\n",
       "      <td>838---1099</td>\n",
       "    </tr>\n",
       "    <tr>\n",
       "      <th>226906</th>\n",
       "      <td>226906</td>\n",
       "      <td>harlem-east</td>\n",
       "      <td>17  CONDOPS</td>\n",
       "      <td>2</td>\n",
       "      <td>1645</td>\n",
       "      <td>1102</td>\n",
       "      <td>R9</td>\n",
       "      <td>1879 LEXINGTON AVENUE, 4E</td>\n",
       "      <td>10035.0</td>\n",
       "      <td>0.0</td>\n",
       "      <td>...</td>\n",
       "      <td>2010.0</td>\n",
       "      <td>2</td>\n",
       "      <td>R9</td>\n",
       "      <td>621093.0</td>\n",
       "      <td>2012-05-31 00:00:00</td>\n",
       "      <td>2012.0</td>\n",
       "      <td>2010.0</td>\n",
       "      <td>condos</td>\n",
       "      <td>harlem</td>\n",
       "      <td>1645---1102</td>\n",
       "    </tr>\n",
       "  </tbody>\n",
       "</table>\n",
       "<p>10 rows × 24 columns</p>\n",
       "</div>"
      ],
      "text/plain": [
       "        Unnamed: 0     neighborhood  \\\n",
       "324014      324014     civic center   \n",
       "193519      193519          tribeca   \n",
       "252862      252862      harlem-east   \n",
       "349536      349536      harlem-east   \n",
       "253931      253931     little italy   \n",
       "185006      185006   harlem-central   \n",
       "386366      386366  lower east side   \n",
       "404057      404057      murray hill   \n",
       "364273      364273          fashion   \n",
       "226906      226906      harlem-east   \n",
       "\n",
       "                             building class category tax class at present  \\\n",
       "324014  13  CONDOS - ELEVATOR APARTMENTS                                2   \n",
       "193519  13  CONDOS - ELEVATOR APARTMENTS                                2   \n",
       "252862  13  CONDOS - ELEVATOR APARTMENTS                                2   \n",
       "349536   13 CONDOS - ELEVATOR APARTMENTS                                2   \n",
       "253931  13  CONDOS - ELEVATOR APARTMENTS                                2   \n",
       "185006  08  RENTALS - ELEVATOR APARTMENTS                               2   \n",
       "386366               13 CONDOS - ELEVATOR APARTMENTS                    2   \n",
       "404057                                17 CONDO COOPS                   2C   \n",
       "364273               13 CONDOS - ELEVATOR APARTMENTS                    2   \n",
       "226906  17  CONDOPS                                                     2   \n",
       "\n",
       "       block   lot building class at present  \\\n",
       "324014   149  1168                        R4   \n",
       "193519   218  1312                        R4   \n",
       "252862  1631  1037                        R4   \n",
       "349536  1631  1035                        R4   \n",
       "253931   507  1118                        R4   \n",
       "185006  1756    23                        D3   \n",
       "386366   276  1224                        R4   \n",
       "404057   885  1304                        R9   \n",
       "364273   838  1099                        R4   \n",
       "226906  1645  1102                        R9   \n",
       "\n",
       "                                          address  zip code  \\\n",
       "324014  57 READE STREET                             10007.0   \n",
       "193519  415 WASHINGTON STREET                       10013.0   \n",
       "252862  1635 LEXINGTON AVENUE                       10029.0   \n",
       "349536                      1635 LEXINGTON AVENUE   10029.0   \n",
       "253931  250 BOWERY                                  10012.0   \n",
       "185006  2083 MADISON AVENUE                         10037.0   \n",
       "386366                      31 MONROE STREET, 11A   10002.0   \n",
       "404057                   132 EAST 30TH STREET, 6A   10016.0   \n",
       "364273                               400 5 AVENUE   10018.0   \n",
       "226906  1879 LEXINGTON AVENUE, 4E                   10035.0   \n",
       "\n",
       "        residential units  ...  year built  tax class at time of sale  \\\n",
       "324014                1.0  ...      2010.0                          2   \n",
       "193519                1.0  ...      2010.0                          2   \n",
       "252862                1.0  ...      2010.0                          2   \n",
       "349536                1.0  ...      2010.0                          2   \n",
       "253931                1.0  ...      2010.0                          2   \n",
       "185006               82.0  ...      2010.0                          2   \n",
       "386366                1.0  ...      2010.0                          2   \n",
       "404057                NaN  ...      2010.0                          2   \n",
       "364273                1.0  ...      2010.0                          2   \n",
       "226906                0.0  ...      2010.0                          2   \n",
       "\n",
       "        building class at time of sale  sale price            sale date  \\\n",
       "324014                              R4   2500000.0  2016-03-03 00:00:00   \n",
       "193519                              R4   1781937.0  2010-07-01 00:00:00   \n",
       "252862                              R4    549855.0  2013-09-12 00:00:00   \n",
       "349536                              R4    801362.0  2017-02-10 00:00:00   \n",
       "253931                              R4   1725933.0  2013-07-15 00:00:00   \n",
       "185006                              D3         0.0  2010-06-15 00:00:00   \n",
       "386366                              R4    650000.0  2019-10-30 00:00:00   \n",
       "404057                              R9         0.0  2020-01-01 00:00:00   \n",
       "364273                              R4         0.0  2018-03-30 00:00:00   \n",
       "226906                              R9    621093.0  2012-05-31 00:00:00   \n",
       "\n",
       "       year sold decade built  broad building category broader_neighborhoods  \\\n",
       "324014    2016.0       2010.0                   condos       lower manhattan   \n",
       "193519    2010.0       2010.0                   condos               tribeca   \n",
       "252862    2013.0       2010.0                   condos                harlem   \n",
       "349536    2017.0       2010.0                   condos                harlem   \n",
       "253931    2013.0       2010.0                   condos                  soho   \n",
       "185006    2010.0       2010.0                   co-ops                harlem   \n",
       "386366    2019.0       2010.0                   condos                   LES   \n",
       "404057    2020.0       2010.0                   condos           murray hill   \n",
       "364273    2018.0       2010.0                   condos               chelsea   \n",
       "226906    2012.0       2010.0                   condos                harlem   \n",
       "\n",
       "        property id  \n",
       "324014   149---1168  \n",
       "193519   218---1312  \n",
       "252862  1631---1037  \n",
       "349536  1631---1035  \n",
       "253931   507---1118  \n",
       "185006    1756---23  \n",
       "386366   276---1224  \n",
       "404057   885---1304  \n",
       "364273   838---1099  \n",
       "226906  1645---1102  \n",
       "\n",
       "[10 rows x 24 columns]"
      ]
     },
     "execution_count": 53,
     "metadata": {},
     "output_type": "execute_result"
    }
   ],
   "source": [
    "def scan_data(column, datapoint):\n",
    "    #quick way to scan through filtered data\n",
    "    filtered_df_year = filtered_df[filtered_df[column] == datapoint]\n",
    "    return(filtered_df_year.sample(n=10,random_state=5))\n",
    "\n",
    "def quick_pivot(col1, col2, col3):\n",
    "    #quick pivot function\n",
    "    #col1 ends as index so usually time, col2 is category and columns, col3 is the value so usually price\n",
    "    dfg = filtered_df.groupby([col1,col2])[col3].mean().reset_index()\n",
    "    dfg = dfg.pivot(index=col1,columns=col2,values=col3)\n",
    "    return(dfg)\n",
    "\n",
    "#for example. To glance at data of building built into 2010 you can do\n",
    "scan_data(\"year built\",2010)"
   ]
  },
  {
   "cell_type": "markdown",
   "metadata": {},
   "source": [
    "The end goal will be to produce sets of grouped charts based on a specific feature. To simplify the plotting process I convert each feature into its own custom dataframe laid out in a very specific way."
   ]
  },
  {
   "cell_type": "code",
   "execution_count": 431,
   "metadata": {},
   "outputs": [
    {
     "name": "stdout",
     "output_type": "stream",
     "text": [
      "0. block\n",
      "1. zip code\n",
      "2. broader_neighborhoods\n",
      "3. broad building category\n",
      "4. decade built\n",
      "5. neighborhood\n",
      "6. building class category\n"
     ]
    },
    {
     "data": {
      "text/html": [
       "<div>\n",
       "<style scoped>\n",
       "    .dataframe tbody tr th:only-of-type {\n",
       "        vertical-align: middle;\n",
       "    }\n",
       "\n",
       "    .dataframe tbody tr th {\n",
       "        vertical-align: top;\n",
       "    }\n",
       "\n",
       "    .dataframe thead th {\n",
       "        text-align: right;\n",
       "    }\n",
       "</style>\n",
       "<table border=\"1\" class=\"dataframe\">\n",
       "  <thead>\n",
       "    <tr style=\"text-align: right;\">\n",
       "      <th>broader_neighborhoods</th>\n",
       "      <th>LES</th>\n",
       "      <th>UES</th>\n",
       "      <th>UWS</th>\n",
       "      <th>alphabet city</th>\n",
       "      <th>chelsea</th>\n",
       "      <th>chinatown</th>\n",
       "      <th>east village</th>\n",
       "      <th>financial</th>\n",
       "      <th>flatiron/gramercy</th>\n",
       "      <th>greenwich</th>\n",
       "      <th>...</th>\n",
       "      <th>javits center</th>\n",
       "      <th>lower manhattan</th>\n",
       "      <th>midtown</th>\n",
       "      <th>morningside heights</th>\n",
       "      <th>murray hill</th>\n",
       "      <th>other</th>\n",
       "      <th>roosevelt island</th>\n",
       "      <th>soho</th>\n",
       "      <th>tribeca</th>\n",
       "      <th>washington heights</th>\n",
       "    </tr>\n",
       "    <tr>\n",
       "      <th>year sold</th>\n",
       "      <th></th>\n",
       "      <th></th>\n",
       "      <th></th>\n",
       "      <th></th>\n",
       "      <th></th>\n",
       "      <th></th>\n",
       "      <th></th>\n",
       "      <th></th>\n",
       "      <th></th>\n",
       "      <th></th>\n",
       "      <th></th>\n",
       "      <th></th>\n",
       "      <th></th>\n",
       "      <th></th>\n",
       "      <th></th>\n",
       "      <th></th>\n",
       "      <th></th>\n",
       "      <th></th>\n",
       "      <th></th>\n",
       "      <th></th>\n",
       "      <th></th>\n",
       "    </tr>\n",
       "  </thead>\n",
       "  <tbody>\n",
       "    <tr>\n",
       "      <th>2003.0</th>\n",
       "      <td>3.483998e+05</td>\n",
       "      <td>5.988886e+05</td>\n",
       "      <td>6.354109e+05</td>\n",
       "      <td>310788.174825</td>\n",
       "      <td>6.118237e+05</td>\n",
       "      <td>3.197649e+05</td>\n",
       "      <td>5.402068e+05</td>\n",
       "      <td>3.173233e+05</td>\n",
       "      <td>4.915885e+05</td>\n",
       "      <td>5.794964e+05</td>\n",
       "      <td>...</td>\n",
       "      <td>2.084325e+05</td>\n",
       "      <td>7.057482e+05</td>\n",
       "      <td>5.808940e+05</td>\n",
       "      <td>144749.500000</td>\n",
       "      <td>395470.137674</td>\n",
       "      <td>NaN</td>\n",
       "      <td>NaN</td>\n",
       "      <td>8.429562e+05</td>\n",
       "      <td>8.359652e+05</td>\n",
       "      <td>542082.190678</td>\n",
       "    </tr>\n",
       "    <tr>\n",
       "      <th>2004.0</th>\n",
       "      <td>4.722896e+05</td>\n",
       "      <td>8.312633e+05</td>\n",
       "      <td>6.817896e+05</td>\n",
       "      <td>447769.463415</td>\n",
       "      <td>7.518985e+05</td>\n",
       "      <td>7.100864e+05</td>\n",
       "      <td>5.080513e+05</td>\n",
       "      <td>5.632800e+05</td>\n",
       "      <td>6.261430e+05</td>\n",
       "      <td>8.329231e+05</td>\n",
       "      <td>...</td>\n",
       "      <td>3.574171e+05</td>\n",
       "      <td>1.170341e+06</td>\n",
       "      <td>6.889030e+05</td>\n",
       "      <td>238221.125000</td>\n",
       "      <td>501643.616791</td>\n",
       "      <td>NaN</td>\n",
       "      <td>NaN</td>\n",
       "      <td>1.219404e+06</td>\n",
       "      <td>1.035484e+06</td>\n",
       "      <td>492764.705769</td>\n",
       "    </tr>\n",
       "    <tr>\n",
       "      <th>2005.0</th>\n",
       "      <td>5.784955e+05</td>\n",
       "      <td>8.974426e+05</td>\n",
       "      <td>8.682434e+05</td>\n",
       "      <td>679234.089744</td>\n",
       "      <td>9.060505e+05</td>\n",
       "      <td>8.694001e+05</td>\n",
       "      <td>6.383266e+05</td>\n",
       "      <td>5.097493e+05</td>\n",
       "      <td>7.804172e+05</td>\n",
       "      <td>8.165732e+05</td>\n",
       "      <td>...</td>\n",
       "      <td>3.412284e+05</td>\n",
       "      <td>1.302838e+06</td>\n",
       "      <td>8.306271e+05</td>\n",
       "      <td>345802.033708</td>\n",
       "      <td>648008.849434</td>\n",
       "      <td>375000.000000</td>\n",
       "      <td>NaN</td>\n",
       "      <td>1.425594e+06</td>\n",
       "      <td>1.067813e+06</td>\n",
       "      <td>673313.256410</td>\n",
       "    </tr>\n",
       "    <tr>\n",
       "      <th>2006.0</th>\n",
       "      <td>6.842039e+05</td>\n",
       "      <td>9.342703e+05</td>\n",
       "      <td>9.154434e+05</td>\n",
       "      <td>597643.923077</td>\n",
       "      <td>8.830748e+05</td>\n",
       "      <td>8.421933e+05</td>\n",
       "      <td>7.697743e+05</td>\n",
       "      <td>8.024970e+05</td>\n",
       "      <td>9.172521e+05</td>\n",
       "      <td>7.367035e+05</td>\n",
       "      <td>...</td>\n",
       "      <td>4.953473e+05</td>\n",
       "      <td>1.052545e+06</td>\n",
       "      <td>8.215158e+05</td>\n",
       "      <td>745685.154639</td>\n",
       "      <td>681975.518939</td>\n",
       "      <td>104718.947368</td>\n",
       "      <td>NaN</td>\n",
       "      <td>1.384858e+06</td>\n",
       "      <td>1.231455e+06</td>\n",
       "      <td>404309.292593</td>\n",
       "    </tr>\n",
       "    <tr>\n",
       "      <th>2007.0</th>\n",
       "      <td>7.308621e+05</td>\n",
       "      <td>1.009624e+06</td>\n",
       "      <td>9.796017e+05</td>\n",
       "      <td>774057.605263</td>\n",
       "      <td>1.017851e+06</td>\n",
       "      <td>9.349508e+05</td>\n",
       "      <td>6.918978e+05</td>\n",
       "      <td>6.970964e+05</td>\n",
       "      <td>1.031423e+06</td>\n",
       "      <td>9.730701e+05</td>\n",
       "      <td>...</td>\n",
       "      <td>3.731609e+05</td>\n",
       "      <td>1.094751e+06</td>\n",
       "      <td>9.084234e+05</td>\n",
       "      <td>403391.322917</td>\n",
       "      <td>801462.742455</td>\n",
       "      <td>0.000000</td>\n",
       "      <td>NaN</td>\n",
       "      <td>1.664262e+06</td>\n",
       "      <td>1.259565e+06</td>\n",
       "      <td>593291.656489</td>\n",
       "    </tr>\n",
       "    <tr>\n",
       "      <th>2008.0</th>\n",
       "      <td>5.641277e+05</td>\n",
       "      <td>8.602314e+05</td>\n",
       "      <td>1.017593e+06</td>\n",
       "      <td>762554.547170</td>\n",
       "      <td>1.200939e+06</td>\n",
       "      <td>6.342419e+05</td>\n",
       "      <td>7.978234e+05</td>\n",
       "      <td>8.857694e+05</td>\n",
       "      <td>1.074292e+06</td>\n",
       "      <td>1.000964e+06</td>\n",
       "      <td>...</td>\n",
       "      <td>2.313753e+05</td>\n",
       "      <td>1.073631e+06</td>\n",
       "      <td>9.950693e+05</td>\n",
       "      <td>423735.806452</td>\n",
       "      <td>885711.237773</td>\n",
       "      <td>NaN</td>\n",
       "      <td>NaN</td>\n",
       "      <td>1.320997e+06</td>\n",
       "      <td>1.651343e+06</td>\n",
       "      <td>541114.230594</td>\n",
       "    </tr>\n",
       "    <tr>\n",
       "      <th>2009.0</th>\n",
       "      <td>5.641277e+05</td>\n",
       "      <td>8.602314e+05</td>\n",
       "      <td>1.017593e+06</td>\n",
       "      <td>762554.547170</td>\n",
       "      <td>1.200939e+06</td>\n",
       "      <td>6.342419e+05</td>\n",
       "      <td>7.978234e+05</td>\n",
       "      <td>8.857694e+05</td>\n",
       "      <td>1.074292e+06</td>\n",
       "      <td>1.000964e+06</td>\n",
       "      <td>...</td>\n",
       "      <td>2.313753e+05</td>\n",
       "      <td>1.073631e+06</td>\n",
       "      <td>9.950693e+05</td>\n",
       "      <td>423735.806452</td>\n",
       "      <td>885711.237773</td>\n",
       "      <td>NaN</td>\n",
       "      <td>NaN</td>\n",
       "      <td>1.320997e+06</td>\n",
       "      <td>1.651343e+06</td>\n",
       "      <td>541114.230594</td>\n",
       "    </tr>\n",
       "    <tr>\n",
       "      <th>2010.0</th>\n",
       "      <td>6.373504e+05</td>\n",
       "      <td>1.071526e+06</td>\n",
       "      <td>9.359006e+05</td>\n",
       "      <td>827378.974359</td>\n",
       "      <td>1.140640e+06</td>\n",
       "      <td>7.678552e+05</td>\n",
       "      <td>9.612174e+05</td>\n",
       "      <td>4.949612e+05</td>\n",
       "      <td>1.169615e+06</td>\n",
       "      <td>1.121022e+06</td>\n",
       "      <td>...</td>\n",
       "      <td>8.198848e+05</td>\n",
       "      <td>1.160529e+06</td>\n",
       "      <td>9.296996e+05</td>\n",
       "      <td>447583.818182</td>\n",
       "      <td>749854.942470</td>\n",
       "      <td>0.000000</td>\n",
       "      <td>NaN</td>\n",
       "      <td>1.567876e+06</td>\n",
       "      <td>1.549086e+06</td>\n",
       "      <td>468058.253012</td>\n",
       "    </tr>\n",
       "    <tr>\n",
       "      <th>2011.0</th>\n",
       "      <td>6.036240e+05</td>\n",
       "      <td>1.015857e+06</td>\n",
       "      <td>9.706805e+05</td>\n",
       "      <td>852328.495238</td>\n",
       "      <td>1.075969e+06</td>\n",
       "      <td>6.238489e+05</td>\n",
       "      <td>8.377263e+05</td>\n",
       "      <td>7.645836e+05</td>\n",
       "      <td>9.438359e+05</td>\n",
       "      <td>9.962747e+05</td>\n",
       "      <td>...</td>\n",
       "      <td>4.116285e+05</td>\n",
       "      <td>1.283153e+06</td>\n",
       "      <td>7.502402e+05</td>\n",
       "      <td>495539.734694</td>\n",
       "      <td>662420.900114</td>\n",
       "      <td>0.000000</td>\n",
       "      <td>NaN</td>\n",
       "      <td>1.309213e+06</td>\n",
       "      <td>1.376168e+06</td>\n",
       "      <td>460467.430380</td>\n",
       "    </tr>\n",
       "    <tr>\n",
       "      <th>2012.0</th>\n",
       "      <td>5.715239e+05</td>\n",
       "      <td>9.381480e+05</td>\n",
       "      <td>9.106321e+05</td>\n",
       "      <td>683050.516129</td>\n",
       "      <td>1.121785e+06</td>\n",
       "      <td>8.763205e+05</td>\n",
       "      <td>8.804288e+05</td>\n",
       "      <td>7.843921e+05</td>\n",
       "      <td>8.451191e+05</td>\n",
       "      <td>9.382312e+05</td>\n",
       "      <td>...</td>\n",
       "      <td>3.238726e+05</td>\n",
       "      <td>1.457951e+06</td>\n",
       "      <td>7.377460e+05</td>\n",
       "      <td>488024.507692</td>\n",
       "      <td>567957.820096</td>\n",
       "      <td>0.000000</td>\n",
       "      <td>NaN</td>\n",
       "      <td>1.265620e+06</td>\n",
       "      <td>1.295276e+06</td>\n",
       "      <td>701915.391892</td>\n",
       "    </tr>\n",
       "    <tr>\n",
       "      <th>2013.0</th>\n",
       "      <td>6.489530e+05</td>\n",
       "      <td>1.053128e+06</td>\n",
       "      <td>9.817814e+05</td>\n",
       "      <td>680669.198529</td>\n",
       "      <td>1.122014e+06</td>\n",
       "      <td>1.097961e+06</td>\n",
       "      <td>9.421826e+05</td>\n",
       "      <td>8.710990e+05</td>\n",
       "      <td>1.004339e+06</td>\n",
       "      <td>1.036589e+06</td>\n",
       "      <td>...</td>\n",
       "      <td>5.854585e+05</td>\n",
       "      <td>1.338373e+06</td>\n",
       "      <td>8.643336e+05</td>\n",
       "      <td>419558.392857</td>\n",
       "      <td>768936.336318</td>\n",
       "      <td>0.000000</td>\n",
       "      <td>NaN</td>\n",
       "      <td>1.695845e+06</td>\n",
       "      <td>1.715495e+06</td>\n",
       "      <td>453989.426854</td>\n",
       "    </tr>\n",
       "    <tr>\n",
       "      <th>2014.0</th>\n",
       "      <td>7.153245e+05</td>\n",
       "      <td>1.060317e+06</td>\n",
       "      <td>1.037743e+06</td>\n",
       "      <td>628365.553957</td>\n",
       "      <td>1.169884e+06</td>\n",
       "      <td>1.416482e+06</td>\n",
       "      <td>1.111955e+06</td>\n",
       "      <td>8.609100e+05</td>\n",
       "      <td>1.130058e+06</td>\n",
       "      <td>1.162654e+06</td>\n",
       "      <td>...</td>\n",
       "      <td>4.031919e+05</td>\n",
       "      <td>1.454796e+06</td>\n",
       "      <td>8.941757e+05</td>\n",
       "      <td>434143.862500</td>\n",
       "      <td>675721.039462</td>\n",
       "      <td>0.000000</td>\n",
       "      <td>NaN</td>\n",
       "      <td>1.570513e+06</td>\n",
       "      <td>1.477879e+06</td>\n",
       "      <td>510957.058161</td>\n",
       "    </tr>\n",
       "    <tr>\n",
       "      <th>2015.0</th>\n",
       "      <td>6.979159e+05</td>\n",
       "      <td>1.006061e+06</td>\n",
       "      <td>1.098641e+06</td>\n",
       "      <td>842012.449612</td>\n",
       "      <td>1.090507e+06</td>\n",
       "      <td>1.116377e+06</td>\n",
       "      <td>9.031436e+05</td>\n",
       "      <td>8.975947e+05</td>\n",
       "      <td>1.049231e+06</td>\n",
       "      <td>1.189941e+06</td>\n",
       "      <td>...</td>\n",
       "      <td>7.017000e+05</td>\n",
       "      <td>1.617683e+06</td>\n",
       "      <td>1.008029e+06</td>\n",
       "      <td>526267.932432</td>\n",
       "      <td>846795.520436</td>\n",
       "      <td>NaN</td>\n",
       "      <td>NaN</td>\n",
       "      <td>1.426221e+06</td>\n",
       "      <td>1.499109e+06</td>\n",
       "      <td>494472.264188</td>\n",
       "    </tr>\n",
       "    <tr>\n",
       "      <th>2016.0</th>\n",
       "      <td>6.734149e+05</td>\n",
       "      <td>1.097844e+06</td>\n",
       "      <td>9.884637e+05</td>\n",
       "      <td>813527.553957</td>\n",
       "      <td>1.133135e+06</td>\n",
       "      <td>8.415529e+05</td>\n",
       "      <td>8.563658e+05</td>\n",
       "      <td>7.820164e+05</td>\n",
       "      <td>1.272297e+06</td>\n",
       "      <td>1.161288e+06</td>\n",
       "      <td>...</td>\n",
       "      <td>5.572768e+05</td>\n",
       "      <td>1.776198e+06</td>\n",
       "      <td>1.027905e+06</td>\n",
       "      <td>555903.987500</td>\n",
       "      <td>832776.867141</td>\n",
       "      <td>NaN</td>\n",
       "      <td>NaN</td>\n",
       "      <td>1.736968e+06</td>\n",
       "      <td>1.495519e+06</td>\n",
       "      <td>512573.295943</td>\n",
       "    </tr>\n",
       "    <tr>\n",
       "      <th>2017.0</th>\n",
       "      <td>7.875055e+05</td>\n",
       "      <td>1.093108e+06</td>\n",
       "      <td>1.094478e+06</td>\n",
       "      <td>665300.634731</td>\n",
       "      <td>1.114579e+06</td>\n",
       "      <td>8.574636e+05</td>\n",
       "      <td>1.038134e+06</td>\n",
       "      <td>1.419181e+06</td>\n",
       "      <td>1.332992e+06</td>\n",
       "      <td>1.118932e+06</td>\n",
       "      <td>...</td>\n",
       "      <td>6.559127e+05</td>\n",
       "      <td>1.643083e+06</td>\n",
       "      <td>9.990902e+05</td>\n",
       "      <td>568580.493151</td>\n",
       "      <td>848580.224359</td>\n",
       "      <td>NaN</td>\n",
       "      <td>754561.766667</td>\n",
       "      <td>1.548248e+06</td>\n",
       "      <td>1.708586e+06</td>\n",
       "      <td>505081.778090</td>\n",
       "    </tr>\n",
       "    <tr>\n",
       "      <th>2018.0</th>\n",
       "      <td>1.226330e+06</td>\n",
       "      <td>1.034394e+06</td>\n",
       "      <td>1.076310e+06</td>\n",
       "      <td>555969.755245</td>\n",
       "      <td>1.235798e+06</td>\n",
       "      <td>8.949655e+05</td>\n",
       "      <td>1.383923e+06</td>\n",
       "      <td>9.300655e+05</td>\n",
       "      <td>1.155668e+06</td>\n",
       "      <td>1.190903e+06</td>\n",
       "      <td>...</td>\n",
       "      <td>5.777826e+05</td>\n",
       "      <td>1.260201e+06</td>\n",
       "      <td>9.140330e+05</td>\n",
       "      <td>537276.200000</td>\n",
       "      <td>822741.026869</td>\n",
       "      <td>NaN</td>\n",
       "      <td>934783.692308</td>\n",
       "      <td>1.496004e+06</td>\n",
       "      <td>1.544961e+06</td>\n",
       "      <td>540876.365535</td>\n",
       "    </tr>\n",
       "    <tr>\n",
       "      <th>2019.0</th>\n",
       "      <td>1.400646e+06</td>\n",
       "      <td>1.116643e+06</td>\n",
       "      <td>1.052805e+06</td>\n",
       "      <td>648978.064516</td>\n",
       "      <td>1.136774e+06</td>\n",
       "      <td>7.472424e+05</td>\n",
       "      <td>1.001323e+06</td>\n",
       "      <td>8.645028e+05</td>\n",
       "      <td>1.143690e+06</td>\n",
       "      <td>1.210647e+06</td>\n",
       "      <td>...</td>\n",
       "      <td>2.659567e+06</td>\n",
       "      <td>1.623893e+06</td>\n",
       "      <td>8.011738e+05</td>\n",
       "      <td>603986.870130</td>\n",
       "      <td>893599.535260</td>\n",
       "      <td>NaN</td>\n",
       "      <td>772180.285714</td>\n",
       "      <td>1.693843e+06</td>\n",
       "      <td>1.728447e+06</td>\n",
       "      <td>622679.875300</td>\n",
       "    </tr>\n",
       "    <tr>\n",
       "      <th>2020.0</th>\n",
       "      <td>9.627895e+05</td>\n",
       "      <td>9.777982e+05</td>\n",
       "      <td>1.043202e+06</td>\n",
       "      <td>633892.820513</td>\n",
       "      <td>1.223739e+06</td>\n",
       "      <td>7.262150e+05</td>\n",
       "      <td>1.211815e+06</td>\n",
       "      <td>8.168734e+05</td>\n",
       "      <td>1.023329e+06</td>\n",
       "      <td>1.139623e+06</td>\n",
       "      <td>...</td>\n",
       "      <td>1.723970e+06</td>\n",
       "      <td>1.626705e+06</td>\n",
       "      <td>8.616731e+05</td>\n",
       "      <td>607866.379310</td>\n",
       "      <td>670632.557823</td>\n",
       "      <td>NaN</td>\n",
       "      <td>709967.560000</td>\n",
       "      <td>1.595280e+06</td>\n",
       "      <td>1.407442e+06</td>\n",
       "      <td>451603.219331</td>\n",
       "    </tr>\n",
       "  </tbody>\n",
       "</table>\n",
       "<p>18 rows × 23 columns</p>\n",
       "</div>"
      ],
      "text/plain": [
       "broader_neighborhoods           LES           UES           UWS  \\\n",
       "year sold                                                         \n",
       "2003.0                 3.483998e+05  5.988886e+05  6.354109e+05   \n",
       "2004.0                 4.722896e+05  8.312633e+05  6.817896e+05   \n",
       "2005.0                 5.784955e+05  8.974426e+05  8.682434e+05   \n",
       "2006.0                 6.842039e+05  9.342703e+05  9.154434e+05   \n",
       "2007.0                 7.308621e+05  1.009624e+06  9.796017e+05   \n",
       "2008.0                 5.641277e+05  8.602314e+05  1.017593e+06   \n",
       "2009.0                 5.641277e+05  8.602314e+05  1.017593e+06   \n",
       "2010.0                 6.373504e+05  1.071526e+06  9.359006e+05   \n",
       "2011.0                 6.036240e+05  1.015857e+06  9.706805e+05   \n",
       "2012.0                 5.715239e+05  9.381480e+05  9.106321e+05   \n",
       "2013.0                 6.489530e+05  1.053128e+06  9.817814e+05   \n",
       "2014.0                 7.153245e+05  1.060317e+06  1.037743e+06   \n",
       "2015.0                 6.979159e+05  1.006061e+06  1.098641e+06   \n",
       "2016.0                 6.734149e+05  1.097844e+06  9.884637e+05   \n",
       "2017.0                 7.875055e+05  1.093108e+06  1.094478e+06   \n",
       "2018.0                 1.226330e+06  1.034394e+06  1.076310e+06   \n",
       "2019.0                 1.400646e+06  1.116643e+06  1.052805e+06   \n",
       "2020.0                 9.627895e+05  9.777982e+05  1.043202e+06   \n",
       "\n",
       "broader_neighborhoods  alphabet city       chelsea     chinatown  \\\n",
       "year sold                                                          \n",
       "2003.0                 310788.174825  6.118237e+05  3.197649e+05   \n",
       "2004.0                 447769.463415  7.518985e+05  7.100864e+05   \n",
       "2005.0                 679234.089744  9.060505e+05  8.694001e+05   \n",
       "2006.0                 597643.923077  8.830748e+05  8.421933e+05   \n",
       "2007.0                 774057.605263  1.017851e+06  9.349508e+05   \n",
       "2008.0                 762554.547170  1.200939e+06  6.342419e+05   \n",
       "2009.0                 762554.547170  1.200939e+06  6.342419e+05   \n",
       "2010.0                 827378.974359  1.140640e+06  7.678552e+05   \n",
       "2011.0                 852328.495238  1.075969e+06  6.238489e+05   \n",
       "2012.0                 683050.516129  1.121785e+06  8.763205e+05   \n",
       "2013.0                 680669.198529  1.122014e+06  1.097961e+06   \n",
       "2014.0                 628365.553957  1.169884e+06  1.416482e+06   \n",
       "2015.0                 842012.449612  1.090507e+06  1.116377e+06   \n",
       "2016.0                 813527.553957  1.133135e+06  8.415529e+05   \n",
       "2017.0                 665300.634731  1.114579e+06  8.574636e+05   \n",
       "2018.0                 555969.755245  1.235798e+06  8.949655e+05   \n",
       "2019.0                 648978.064516  1.136774e+06  7.472424e+05   \n",
       "2020.0                 633892.820513  1.223739e+06  7.262150e+05   \n",
       "\n",
       "broader_neighborhoods  east village     financial  flatiron/gramercy  \\\n",
       "year sold                                                              \n",
       "2003.0                 5.402068e+05  3.173233e+05       4.915885e+05   \n",
       "2004.0                 5.080513e+05  5.632800e+05       6.261430e+05   \n",
       "2005.0                 6.383266e+05  5.097493e+05       7.804172e+05   \n",
       "2006.0                 7.697743e+05  8.024970e+05       9.172521e+05   \n",
       "2007.0                 6.918978e+05  6.970964e+05       1.031423e+06   \n",
       "2008.0                 7.978234e+05  8.857694e+05       1.074292e+06   \n",
       "2009.0                 7.978234e+05  8.857694e+05       1.074292e+06   \n",
       "2010.0                 9.612174e+05  4.949612e+05       1.169615e+06   \n",
       "2011.0                 8.377263e+05  7.645836e+05       9.438359e+05   \n",
       "2012.0                 8.804288e+05  7.843921e+05       8.451191e+05   \n",
       "2013.0                 9.421826e+05  8.710990e+05       1.004339e+06   \n",
       "2014.0                 1.111955e+06  8.609100e+05       1.130058e+06   \n",
       "2015.0                 9.031436e+05  8.975947e+05       1.049231e+06   \n",
       "2016.0                 8.563658e+05  7.820164e+05       1.272297e+06   \n",
       "2017.0                 1.038134e+06  1.419181e+06       1.332992e+06   \n",
       "2018.0                 1.383923e+06  9.300655e+05       1.155668e+06   \n",
       "2019.0                 1.001323e+06  8.645028e+05       1.143690e+06   \n",
       "2020.0                 1.211815e+06  8.168734e+05       1.023329e+06   \n",
       "\n",
       "broader_neighborhoods     greenwich  ...  javits center  lower manhattan  \\\n",
       "year sold                            ...                                   \n",
       "2003.0                 5.794964e+05  ...   2.084325e+05     7.057482e+05   \n",
       "2004.0                 8.329231e+05  ...   3.574171e+05     1.170341e+06   \n",
       "2005.0                 8.165732e+05  ...   3.412284e+05     1.302838e+06   \n",
       "2006.0                 7.367035e+05  ...   4.953473e+05     1.052545e+06   \n",
       "2007.0                 9.730701e+05  ...   3.731609e+05     1.094751e+06   \n",
       "2008.0                 1.000964e+06  ...   2.313753e+05     1.073631e+06   \n",
       "2009.0                 1.000964e+06  ...   2.313753e+05     1.073631e+06   \n",
       "2010.0                 1.121022e+06  ...   8.198848e+05     1.160529e+06   \n",
       "2011.0                 9.962747e+05  ...   4.116285e+05     1.283153e+06   \n",
       "2012.0                 9.382312e+05  ...   3.238726e+05     1.457951e+06   \n",
       "2013.0                 1.036589e+06  ...   5.854585e+05     1.338373e+06   \n",
       "2014.0                 1.162654e+06  ...   4.031919e+05     1.454796e+06   \n",
       "2015.0                 1.189941e+06  ...   7.017000e+05     1.617683e+06   \n",
       "2016.0                 1.161288e+06  ...   5.572768e+05     1.776198e+06   \n",
       "2017.0                 1.118932e+06  ...   6.559127e+05     1.643083e+06   \n",
       "2018.0                 1.190903e+06  ...   5.777826e+05     1.260201e+06   \n",
       "2019.0                 1.210647e+06  ...   2.659567e+06     1.623893e+06   \n",
       "2020.0                 1.139623e+06  ...   1.723970e+06     1.626705e+06   \n",
       "\n",
       "broader_neighborhoods       midtown  morningside heights    murray hill  \\\n",
       "year sold                                                                 \n",
       "2003.0                 5.808940e+05        144749.500000  395470.137674   \n",
       "2004.0                 6.889030e+05        238221.125000  501643.616791   \n",
       "2005.0                 8.306271e+05        345802.033708  648008.849434   \n",
       "2006.0                 8.215158e+05        745685.154639  681975.518939   \n",
       "2007.0                 9.084234e+05        403391.322917  801462.742455   \n",
       "2008.0                 9.950693e+05        423735.806452  885711.237773   \n",
       "2009.0                 9.950693e+05        423735.806452  885711.237773   \n",
       "2010.0                 9.296996e+05        447583.818182  749854.942470   \n",
       "2011.0                 7.502402e+05        495539.734694  662420.900114   \n",
       "2012.0                 7.377460e+05        488024.507692  567957.820096   \n",
       "2013.0                 8.643336e+05        419558.392857  768936.336318   \n",
       "2014.0                 8.941757e+05        434143.862500  675721.039462   \n",
       "2015.0                 1.008029e+06        526267.932432  846795.520436   \n",
       "2016.0                 1.027905e+06        555903.987500  832776.867141   \n",
       "2017.0                 9.990902e+05        568580.493151  848580.224359   \n",
       "2018.0                 9.140330e+05        537276.200000  822741.026869   \n",
       "2019.0                 8.011738e+05        603986.870130  893599.535260   \n",
       "2020.0                 8.616731e+05        607866.379310  670632.557823   \n",
       "\n",
       "broader_neighborhoods          other  roosevelt island          soho  \\\n",
       "year sold                                                              \n",
       "2003.0                           NaN               NaN  8.429562e+05   \n",
       "2004.0                           NaN               NaN  1.219404e+06   \n",
       "2005.0                 375000.000000               NaN  1.425594e+06   \n",
       "2006.0                 104718.947368               NaN  1.384858e+06   \n",
       "2007.0                      0.000000               NaN  1.664262e+06   \n",
       "2008.0                           NaN               NaN  1.320997e+06   \n",
       "2009.0                           NaN               NaN  1.320997e+06   \n",
       "2010.0                      0.000000               NaN  1.567876e+06   \n",
       "2011.0                      0.000000               NaN  1.309213e+06   \n",
       "2012.0                      0.000000               NaN  1.265620e+06   \n",
       "2013.0                      0.000000               NaN  1.695845e+06   \n",
       "2014.0                      0.000000               NaN  1.570513e+06   \n",
       "2015.0                           NaN               NaN  1.426221e+06   \n",
       "2016.0                           NaN               NaN  1.736968e+06   \n",
       "2017.0                           NaN     754561.766667  1.548248e+06   \n",
       "2018.0                           NaN     934783.692308  1.496004e+06   \n",
       "2019.0                           NaN     772180.285714  1.693843e+06   \n",
       "2020.0                           NaN     709967.560000  1.595280e+06   \n",
       "\n",
       "broader_neighborhoods       tribeca  washington heights  \n",
       "year sold                                                \n",
       "2003.0                 8.359652e+05       542082.190678  \n",
       "2004.0                 1.035484e+06       492764.705769  \n",
       "2005.0                 1.067813e+06       673313.256410  \n",
       "2006.0                 1.231455e+06       404309.292593  \n",
       "2007.0                 1.259565e+06       593291.656489  \n",
       "2008.0                 1.651343e+06       541114.230594  \n",
       "2009.0                 1.651343e+06       541114.230594  \n",
       "2010.0                 1.549086e+06       468058.253012  \n",
       "2011.0                 1.376168e+06       460467.430380  \n",
       "2012.0                 1.295276e+06       701915.391892  \n",
       "2013.0                 1.715495e+06       453989.426854  \n",
       "2014.0                 1.477879e+06       510957.058161  \n",
       "2015.0                 1.499109e+06       494472.264188  \n",
       "2016.0                 1.495519e+06       512573.295943  \n",
       "2017.0                 1.708586e+06       505081.778090  \n",
       "2018.0                 1.544961e+06       540876.365535  \n",
       "2019.0                 1.728447e+06       622679.875300  \n",
       "2020.0                 1.407442e+06       451603.219331  \n",
       "\n",
       "[18 rows x 23 columns]"
      ]
     },
     "execution_count": 431,
     "metadata": {},
     "output_type": "execute_result"
    }
   ],
   "source": [
    "#here i take features and create dataframes for easy plotting over time and on sale price\n",
    "features_list = ['block','zip code','broader_neighborhoods', 'broad building category', 'decade built','neighborhood','building class category']\n",
    "pivoted_dfs_list = []\n",
    "\n",
    "for feature in features_list:\n",
    "    dfname = quick_pivot(\"year sold\",feature,\"sale price\")\n",
    "    pivoted_dfs_list.append(dfname)\n",
    "\n",
    "i = 0 \n",
    "for dfs in pivoted_dfs_list:\n",
    "    print(f'{i}. {dfs.columns.name}')\n",
    "    i += 1\n",
    "\n",
    "pivoted_dfs_list[2]   "
   ]
  },
  {
   "cell_type": "markdown",
   "metadata": {},
   "source": [
    "Once we have a custom dataframe, the only tricky part is making sure that all charts display in a specific order\n",
    "across rows and columns. A for loop with a counter takes care of that."
   ]
  },
  {
   "cell_type": "code",
   "execution_count": 437,
   "metadata": {},
   "outputs": [
    {
     "name": "stdout",
     "output_type": "stream",
     "text": [
      "Index(['co-ops', 'condos', 'stores', 'walk-ups'], dtype='object', name='broad building category')\n"
     ]
    },
    {
     "data": {
      "application/vnd.plotly.v1+json": {
       "config": {
        "plotlyServerURL": "https://plot.ly"
       },
       "data": [
        {
         "type": "scatter",
         "x": [
          2003,
          2004,
          2005,
          2006,
          2007,
          2008,
          2009,
          2010,
          2011,
          2012,
          2013,
          2014,
          2015,
          2016,
          2017,
          2018,
          2019,
          2020
         ],
         "xaxis": "x",
         "y": [
          460697.7908163265,
          761196.4436619718,
          844131.7361111111,
          698997.3560606061,
          915568.2058823529,
          917817.806122449,
          917817.806122449,
          854172.4285714285,
          713906.411111111,
          954131.0463576159,
          1145822.8625,
          690689.9107142857,
          601901.2441860465,
          472573.3333333333,
          530333.7037037037,
          691443.2033898305,
          644468.3194444445,
          1127200.775
         ],
         "yaxis": "y"
        },
        {
         "type": "scatter",
         "x": [
          2003,
          2004,
          2005,
          2006,
          2007,
          2008,
          2009,
          2010,
          2011,
          2012,
          2013,
          2014,
          2015,
          2016,
          2017,
          2018,
          2019,
          2020
         ],
         "xaxis": "x2",
         "y": [
          603581.2365948037,
          767092.2480904049,
          884397.0223970283,
          895438.2243925679,
          998783.8561660366,
          999674.9810179045,
          999674.9810179045,
          1019206.7476307933,
          968917.6289023162,
          870083.0327145933,
          1062807.3268223484,
          1105375.394062864,
          1118897.7749268513,
          1165066.212844945,
          1229457.3353734699,
          1112578.510837645,
          1166298.4973544974,
          1053368.237463381
         ],
         "yaxis": "y2"
        },
        {
         "type": "scatter",
         "x": [
          2003,
          2004,
          2005,
          2006,
          2007,
          2008,
          2009,
          2010,
          2011,
          2012,
          2013,
          2014,
          2015,
          2016,
          2017,
          2018,
          2019,
          2020
         ],
         "xaxis": "x3",
         "y": [
          546926.7632421779,
          659379.4063299233,
          759069.8019240256,
          794141.7390593047,
          847644.1307912546,
          842240.348894349,
          842240.348894349,
          817878.5775723472,
          836761.2726948457,
          846061.2979622642,
          868471.6022650667,
          887255.8057491289,
          924982.759672619,
          925644.6362746697,
          943155.2781045751,
          979392.1709071767,
          991846.590877678,
          941660.2114421931
         ],
         "yaxis": "y3"
        },
        {
         "type": "scatter",
         "x": [
          2003,
          2004,
          2005,
          2006,
          2007,
          2008,
          2009,
          2010,
          2011,
          2012,
          2013,
          2014,
          2015,
          2016,
          2017,
          2018,
          2019,
          2020
         ],
         "xaxis": "x4",
         "y": [
          501176.3501621121,
          645893.812605753,
          744937.3991452991,
          672456.3947115385,
          755797.627918288,
          614140.9388736264,
          614140.9388736264,
          720726.4631578948,
          704301.6915662651,
          850116.9520547945,
          739445.147887324,
          693123.0154142582,
          641018.2,
          714428.5976833977,
          629805.0241057543,
          669148.562703583,
          662807.119243421,
          754036.808114035
         ],
         "yaxis": "y4"
        }
       ],
       "layout": {
        "annotations": [
         {
          "font": {
           "size": 12
          },
          "showarrow": false,
          "text": "stores",
          "x": 0.08399999999999999,
          "xanchor": "center",
          "xref": "paper",
          "y": 1,
          "yanchor": "bottom",
          "yref": "paper"
         },
         {
          "font": {
           "size": 12
          },
          "showarrow": false,
          "text": "condos",
          "x": 0.292,
          "xanchor": "center",
          "xref": "paper",
          "y": 1,
          "yanchor": "bottom",
          "yref": "paper"
         },
         {
          "font": {
           "size": 12
          },
          "showarrow": false,
          "text": "co-ops",
          "x": 0.5,
          "xanchor": "center",
          "xref": "paper",
          "y": 1,
          "yanchor": "bottom",
          "yref": "paper"
         },
         {
          "font": {
           "size": 12
          },
          "showarrow": false,
          "text": "walk-ups",
          "x": 0.708,
          "xanchor": "center",
          "xref": "paper",
          "y": 1,
          "yanchor": "bottom",
          "yref": "paper"
         }
        ],
        "height": 800,
        "showlegend": false,
        "template": {
         "data": {
          "bar": [
           {
            "error_x": {
             "color": "#2a3f5f"
            },
            "error_y": {
             "color": "#2a3f5f"
            },
            "marker": {
             "line": {
              "color": "#E5ECF6",
              "width": 0.5
             },
             "pattern": {
              "fillmode": "overlay",
              "size": 10,
              "solidity": 0.2
             }
            },
            "type": "bar"
           }
          ],
          "barpolar": [
           {
            "marker": {
             "line": {
              "color": "#E5ECF6",
              "width": 0.5
             },
             "pattern": {
              "fillmode": "overlay",
              "size": 10,
              "solidity": 0.2
             }
            },
            "type": "barpolar"
           }
          ],
          "carpet": [
           {
            "aaxis": {
             "endlinecolor": "#2a3f5f",
             "gridcolor": "white",
             "linecolor": "white",
             "minorgridcolor": "white",
             "startlinecolor": "#2a3f5f"
            },
            "baxis": {
             "endlinecolor": "#2a3f5f",
             "gridcolor": "white",
             "linecolor": "white",
             "minorgridcolor": "white",
             "startlinecolor": "#2a3f5f"
            },
            "type": "carpet"
           }
          ],
          "choropleth": [
           {
            "colorbar": {
             "outlinewidth": 0,
             "ticks": ""
            },
            "type": "choropleth"
           }
          ],
          "contour": [
           {
            "colorbar": {
             "outlinewidth": 0,
             "ticks": ""
            },
            "colorscale": [
             [
              0,
              "#0d0887"
             ],
             [
              0.1111111111111111,
              "#46039f"
             ],
             [
              0.2222222222222222,
              "#7201a8"
             ],
             [
              0.3333333333333333,
              "#9c179e"
             ],
             [
              0.4444444444444444,
              "#bd3786"
             ],
             [
              0.5555555555555556,
              "#d8576b"
             ],
             [
              0.6666666666666666,
              "#ed7953"
             ],
             [
              0.7777777777777778,
              "#fb9f3a"
             ],
             [
              0.8888888888888888,
              "#fdca26"
             ],
             [
              1,
              "#f0f921"
             ]
            ],
            "type": "contour"
           }
          ],
          "contourcarpet": [
           {
            "colorbar": {
             "outlinewidth": 0,
             "ticks": ""
            },
            "type": "contourcarpet"
           }
          ],
          "heatmap": [
           {
            "colorbar": {
             "outlinewidth": 0,
             "ticks": ""
            },
            "colorscale": [
             [
              0,
              "#0d0887"
             ],
             [
              0.1111111111111111,
              "#46039f"
             ],
             [
              0.2222222222222222,
              "#7201a8"
             ],
             [
              0.3333333333333333,
              "#9c179e"
             ],
             [
              0.4444444444444444,
              "#bd3786"
             ],
             [
              0.5555555555555556,
              "#d8576b"
             ],
             [
              0.6666666666666666,
              "#ed7953"
             ],
             [
              0.7777777777777778,
              "#fb9f3a"
             ],
             [
              0.8888888888888888,
              "#fdca26"
             ],
             [
              1,
              "#f0f921"
             ]
            ],
            "type": "heatmap"
           }
          ],
          "heatmapgl": [
           {
            "colorbar": {
             "outlinewidth": 0,
             "ticks": ""
            },
            "colorscale": [
             [
              0,
              "#0d0887"
             ],
             [
              0.1111111111111111,
              "#46039f"
             ],
             [
              0.2222222222222222,
              "#7201a8"
             ],
             [
              0.3333333333333333,
              "#9c179e"
             ],
             [
              0.4444444444444444,
              "#bd3786"
             ],
             [
              0.5555555555555556,
              "#d8576b"
             ],
             [
              0.6666666666666666,
              "#ed7953"
             ],
             [
              0.7777777777777778,
              "#fb9f3a"
             ],
             [
              0.8888888888888888,
              "#fdca26"
             ],
             [
              1,
              "#f0f921"
             ]
            ],
            "type": "heatmapgl"
           }
          ],
          "histogram": [
           {
            "marker": {
             "pattern": {
              "fillmode": "overlay",
              "size": 10,
              "solidity": 0.2
             }
            },
            "type": "histogram"
           }
          ],
          "histogram2d": [
           {
            "colorbar": {
             "outlinewidth": 0,
             "ticks": ""
            },
            "colorscale": [
             [
              0,
              "#0d0887"
             ],
             [
              0.1111111111111111,
              "#46039f"
             ],
             [
              0.2222222222222222,
              "#7201a8"
             ],
             [
              0.3333333333333333,
              "#9c179e"
             ],
             [
              0.4444444444444444,
              "#bd3786"
             ],
             [
              0.5555555555555556,
              "#d8576b"
             ],
             [
              0.6666666666666666,
              "#ed7953"
             ],
             [
              0.7777777777777778,
              "#fb9f3a"
             ],
             [
              0.8888888888888888,
              "#fdca26"
             ],
             [
              1,
              "#f0f921"
             ]
            ],
            "type": "histogram2d"
           }
          ],
          "histogram2dcontour": [
           {
            "colorbar": {
             "outlinewidth": 0,
             "ticks": ""
            },
            "colorscale": [
             [
              0,
              "#0d0887"
             ],
             [
              0.1111111111111111,
              "#46039f"
             ],
             [
              0.2222222222222222,
              "#7201a8"
             ],
             [
              0.3333333333333333,
              "#9c179e"
             ],
             [
              0.4444444444444444,
              "#bd3786"
             ],
             [
              0.5555555555555556,
              "#d8576b"
             ],
             [
              0.6666666666666666,
              "#ed7953"
             ],
             [
              0.7777777777777778,
              "#fb9f3a"
             ],
             [
              0.8888888888888888,
              "#fdca26"
             ],
             [
              1,
              "#f0f921"
             ]
            ],
            "type": "histogram2dcontour"
           }
          ],
          "mesh3d": [
           {
            "colorbar": {
             "outlinewidth": 0,
             "ticks": ""
            },
            "type": "mesh3d"
           }
          ],
          "parcoords": [
           {
            "line": {
             "colorbar": {
              "outlinewidth": 0,
              "ticks": ""
             }
            },
            "type": "parcoords"
           }
          ],
          "pie": [
           {
            "automargin": true,
            "type": "pie"
           }
          ],
          "scatter": [
           {
            "marker": {
             "colorbar": {
              "outlinewidth": 0,
              "ticks": ""
             }
            },
            "type": "scatter"
           }
          ],
          "scatter3d": [
           {
            "line": {
             "colorbar": {
              "outlinewidth": 0,
              "ticks": ""
             }
            },
            "marker": {
             "colorbar": {
              "outlinewidth": 0,
              "ticks": ""
             }
            },
            "type": "scatter3d"
           }
          ],
          "scattercarpet": [
           {
            "marker": {
             "colorbar": {
              "outlinewidth": 0,
              "ticks": ""
             }
            },
            "type": "scattercarpet"
           }
          ],
          "scattergeo": [
           {
            "marker": {
             "colorbar": {
              "outlinewidth": 0,
              "ticks": ""
             }
            },
            "type": "scattergeo"
           }
          ],
          "scattergl": [
           {
            "marker": {
             "colorbar": {
              "outlinewidth": 0,
              "ticks": ""
             }
            },
            "type": "scattergl"
           }
          ],
          "scattermapbox": [
           {
            "marker": {
             "colorbar": {
              "outlinewidth": 0,
              "ticks": ""
             }
            },
            "type": "scattermapbox"
           }
          ],
          "scatterpolar": [
           {
            "marker": {
             "colorbar": {
              "outlinewidth": 0,
              "ticks": ""
             }
            },
            "type": "scatterpolar"
           }
          ],
          "scatterpolargl": [
           {
            "marker": {
             "colorbar": {
              "outlinewidth": 0,
              "ticks": ""
             }
            },
            "type": "scatterpolargl"
           }
          ],
          "scatterternary": [
           {
            "marker": {
             "colorbar": {
              "outlinewidth": 0,
              "ticks": ""
             }
            },
            "type": "scatterternary"
           }
          ],
          "surface": [
           {
            "colorbar": {
             "outlinewidth": 0,
             "ticks": ""
            },
            "colorscale": [
             [
              0,
              "#0d0887"
             ],
             [
              0.1111111111111111,
              "#46039f"
             ],
             [
              0.2222222222222222,
              "#7201a8"
             ],
             [
              0.3333333333333333,
              "#9c179e"
             ],
             [
              0.4444444444444444,
              "#bd3786"
             ],
             [
              0.5555555555555556,
              "#d8576b"
             ],
             [
              0.6666666666666666,
              "#ed7953"
             ],
             [
              0.7777777777777778,
              "#fb9f3a"
             ],
             [
              0.8888888888888888,
              "#fdca26"
             ],
             [
              1,
              "#f0f921"
             ]
            ],
            "type": "surface"
           }
          ],
          "table": [
           {
            "cells": {
             "fill": {
              "color": "#EBF0F8"
             },
             "line": {
              "color": "white"
             }
            },
            "header": {
             "fill": {
              "color": "#C8D4E3"
             },
             "line": {
              "color": "white"
             }
            },
            "type": "table"
           }
          ]
         },
         "layout": {
          "annotationdefaults": {
           "arrowcolor": "#2a3f5f",
           "arrowhead": 0,
           "arrowwidth": 1
          },
          "autotypenumbers": "strict",
          "coloraxis": {
           "colorbar": {
            "outlinewidth": 0,
            "ticks": ""
           }
          },
          "colorscale": {
           "diverging": [
            [
             0,
             "#8e0152"
            ],
            [
             0.1,
             "#c51b7d"
            ],
            [
             0.2,
             "#de77ae"
            ],
            [
             0.3,
             "#f1b6da"
            ],
            [
             0.4,
             "#fde0ef"
            ],
            [
             0.5,
             "#f7f7f7"
            ],
            [
             0.6,
             "#e6f5d0"
            ],
            [
             0.7,
             "#b8e186"
            ],
            [
             0.8,
             "#7fbc41"
            ],
            [
             0.9,
             "#4d9221"
            ],
            [
             1,
             "#276419"
            ]
           ],
           "sequential": [
            [
             0,
             "#0d0887"
            ],
            [
             0.1111111111111111,
             "#46039f"
            ],
            [
             0.2222222222222222,
             "#7201a8"
            ],
            [
             0.3333333333333333,
             "#9c179e"
            ],
            [
             0.4444444444444444,
             "#bd3786"
            ],
            [
             0.5555555555555556,
             "#d8576b"
            ],
            [
             0.6666666666666666,
             "#ed7953"
            ],
            [
             0.7777777777777778,
             "#fb9f3a"
            ],
            [
             0.8888888888888888,
             "#fdca26"
            ],
            [
             1,
             "#f0f921"
            ]
           ],
           "sequentialminus": [
            [
             0,
             "#0d0887"
            ],
            [
             0.1111111111111111,
             "#46039f"
            ],
            [
             0.2222222222222222,
             "#7201a8"
            ],
            [
             0.3333333333333333,
             "#9c179e"
            ],
            [
             0.4444444444444444,
             "#bd3786"
            ],
            [
             0.5555555555555556,
             "#d8576b"
            ],
            [
             0.6666666666666666,
             "#ed7953"
            ],
            [
             0.7777777777777778,
             "#fb9f3a"
            ],
            [
             0.8888888888888888,
             "#fdca26"
            ],
            [
             1,
             "#f0f921"
            ]
           ]
          },
          "colorway": [
           "#636efa",
           "#EF553B",
           "#00cc96",
           "#ab63fa",
           "#FFA15A",
           "#19d3f3",
           "#FF6692",
           "#B6E880",
           "#FF97FF",
           "#FECB52"
          ],
          "font": {
           "color": "#2a3f5f"
          },
          "geo": {
           "bgcolor": "white",
           "lakecolor": "white",
           "landcolor": "#E5ECF6",
           "showlakes": true,
           "showland": true,
           "subunitcolor": "white"
          },
          "hoverlabel": {
           "align": "left"
          },
          "hovermode": "closest",
          "mapbox": {
           "style": "light"
          },
          "paper_bgcolor": "white",
          "plot_bgcolor": "#E5ECF6",
          "polar": {
           "angularaxis": {
            "gridcolor": "white",
            "linecolor": "white",
            "ticks": ""
           },
           "bgcolor": "#E5ECF6",
           "radialaxis": {
            "gridcolor": "white",
            "linecolor": "white",
            "ticks": ""
           }
          },
          "scene": {
           "xaxis": {
            "backgroundcolor": "#E5ECF6",
            "gridcolor": "white",
            "gridwidth": 2,
            "linecolor": "white",
            "showbackground": true,
            "ticks": "",
            "zerolinecolor": "white"
           },
           "yaxis": {
            "backgroundcolor": "#E5ECF6",
            "gridcolor": "white",
            "gridwidth": 2,
            "linecolor": "white",
            "showbackground": true,
            "ticks": "",
            "zerolinecolor": "white"
           },
           "zaxis": {
            "backgroundcolor": "#E5ECF6",
            "gridcolor": "white",
            "gridwidth": 2,
            "linecolor": "white",
            "showbackground": true,
            "ticks": "",
            "zerolinecolor": "white"
           }
          },
          "shapedefaults": {
           "line": {
            "color": "#2a3f5f"
           }
          },
          "ternary": {
           "aaxis": {
            "gridcolor": "white",
            "linecolor": "white",
            "ticks": ""
           },
           "baxis": {
            "gridcolor": "white",
            "linecolor": "white",
            "ticks": ""
           },
           "bgcolor": "#E5ECF6",
           "caxis": {
            "gridcolor": "white",
            "linecolor": "white",
            "ticks": ""
           }
          },
          "title": {
           "x": 0.05
          },
          "xaxis": {
           "automargin": true,
           "gridcolor": "white",
           "linecolor": "white",
           "ticks": "",
           "title": {
            "standoff": 15
           },
           "zerolinecolor": "white",
           "zerolinewidth": 2
          },
          "yaxis": {
           "automargin": true,
           "gridcolor": "white",
           "linecolor": "white",
           "ticks": "",
           "title": {
            "standoff": 15
           },
           "zerolinecolor": "white",
           "zerolinewidth": 2
          }
         }
        },
        "title": {
         "text": "Average price per sale per neighborhood"
        },
        "width": 800,
        "xaxis": {
         "anchor": "y",
         "domain": [
          0,
          0.16799999999999998
         ]
        },
        "xaxis10": {
         "anchor": "y10",
         "domain": [
          0.832,
          1
         ]
        },
        "xaxis11": {
         "anchor": "y11",
         "domain": [
          0,
          0.16799999999999998
         ]
        },
        "xaxis12": {
         "anchor": "y12",
         "domain": [
          0.208,
          0.376
         ]
        },
        "xaxis13": {
         "anchor": "y13",
         "domain": [
          0.416,
          0.584
         ]
        },
        "xaxis14": {
         "anchor": "y14",
         "domain": [
          0.624,
          0.792
         ]
        },
        "xaxis15": {
         "anchor": "y15",
         "domain": [
          0.832,
          1
         ]
        },
        "xaxis16": {
         "anchor": "y16",
         "domain": [
          0,
          0.16799999999999998
         ]
        },
        "xaxis17": {
         "anchor": "y17",
         "domain": [
          0.208,
          0.376
         ]
        },
        "xaxis18": {
         "anchor": "y18",
         "domain": [
          0.416,
          0.584
         ]
        },
        "xaxis19": {
         "anchor": "y19",
         "domain": [
          0.624,
          0.792
         ]
        },
        "xaxis2": {
         "anchor": "y2",
         "domain": [
          0.208,
          0.376
         ]
        },
        "xaxis20": {
         "anchor": "y20",
         "domain": [
          0.832,
          1
         ]
        },
        "xaxis21": {
         "anchor": "y21",
         "domain": [
          0,
          0.16799999999999998
         ]
        },
        "xaxis22": {
         "anchor": "y22",
         "domain": [
          0.208,
          0.376
         ]
        },
        "xaxis23": {
         "anchor": "y23",
         "domain": [
          0.416,
          0.584
         ]
        },
        "xaxis24": {
         "anchor": "y24",
         "domain": [
          0.624,
          0.792
         ]
        },
        "xaxis25": {
         "anchor": "y25",
         "domain": [
          0.832,
          1
         ]
        },
        "xaxis3": {
         "anchor": "y3",
         "domain": [
          0.416,
          0.584
         ]
        },
        "xaxis4": {
         "anchor": "y4",
         "domain": [
          0.624,
          0.792
         ]
        },
        "xaxis5": {
         "anchor": "y5",
         "domain": [
          0.832,
          1
         ]
        },
        "xaxis6": {
         "anchor": "y6",
         "domain": [
          0,
          0.16799999999999998
         ]
        },
        "xaxis7": {
         "anchor": "y7",
         "domain": [
          0.208,
          0.376
         ]
        },
        "xaxis8": {
         "anchor": "y8",
         "domain": [
          0.416,
          0.584
         ]
        },
        "xaxis9": {
         "anchor": "y9",
         "domain": [
          0.624,
          0.792
         ]
        },
        "yaxis": {
         "anchor": "x",
         "domain": [
          0.88,
          1
         ],
         "range": [
          0,
          2000000
         ]
        },
        "yaxis10": {
         "anchor": "x10",
         "domain": [
          0.66,
          0.78
         ],
         "matches": "y6",
         "range": [
          0,
          2000000
         ],
         "showticklabels": false
        },
        "yaxis11": {
         "anchor": "x11",
         "domain": [
          0.44,
          0.56
         ],
         "range": [
          0,
          2000000
         ]
        },
        "yaxis12": {
         "anchor": "x12",
         "domain": [
          0.44,
          0.56
         ],
         "matches": "y11",
         "range": [
          0,
          2000000
         ],
         "showticklabels": false
        },
        "yaxis13": {
         "anchor": "x13",
         "domain": [
          0.44,
          0.56
         ],
         "matches": "y11",
         "range": [
          0,
          2000000
         ],
         "showticklabels": false
        },
        "yaxis14": {
         "anchor": "x14",
         "domain": [
          0.44,
          0.56
         ],
         "matches": "y11",
         "range": [
          0,
          2000000
         ],
         "showticklabels": false
        },
        "yaxis15": {
         "anchor": "x15",
         "domain": [
          0.44,
          0.56
         ],
         "matches": "y11",
         "range": [
          0,
          2000000
         ],
         "showticklabels": false
        },
        "yaxis16": {
         "anchor": "x16",
         "domain": [
          0.22,
          0.33999999999999997
         ],
         "range": [
          0,
          2000000
         ]
        },
        "yaxis17": {
         "anchor": "x17",
         "domain": [
          0.22,
          0.33999999999999997
         ],
         "matches": "y16",
         "range": [
          0,
          2000000
         ],
         "showticklabels": false
        },
        "yaxis18": {
         "anchor": "x18",
         "domain": [
          0.22,
          0.33999999999999997
         ],
         "matches": "y16",
         "range": [
          0,
          2000000
         ],
         "showticklabels": false
        },
        "yaxis19": {
         "anchor": "x19",
         "domain": [
          0.22,
          0.33999999999999997
         ],
         "matches": "y16",
         "range": [
          0,
          2000000
         ],
         "showticklabels": false
        },
        "yaxis2": {
         "anchor": "x2",
         "domain": [
          0.88,
          1
         ],
         "matches": "y",
         "range": [
          0,
          2000000
         ],
         "showticklabels": false
        },
        "yaxis20": {
         "anchor": "x20",
         "domain": [
          0.22,
          0.33999999999999997
         ],
         "matches": "y16",
         "range": [
          0,
          2000000
         ],
         "showticklabels": false
        },
        "yaxis21": {
         "anchor": "x21",
         "domain": [
          0,
          0.12
         ],
         "range": [
          0,
          2000000
         ]
        },
        "yaxis22": {
         "anchor": "x22",
         "domain": [
          0,
          0.12
         ],
         "matches": "y21",
         "range": [
          0,
          2000000
         ],
         "showticklabels": false
        },
        "yaxis23": {
         "anchor": "x23",
         "domain": [
          0,
          0.12
         ],
         "matches": "y21",
         "range": [
          0,
          2000000
         ],
         "showticklabels": false
        },
        "yaxis24": {
         "anchor": "x24",
         "domain": [
          0,
          0.12
         ],
         "matches": "y21",
         "range": [
          0,
          2000000
         ],
         "showticklabels": false
        },
        "yaxis25": {
         "anchor": "x25",
         "domain": [
          0,
          0.12
         ],
         "matches": "y21",
         "range": [
          0,
          2000000
         ],
         "showticklabels": false
        },
        "yaxis3": {
         "anchor": "x3",
         "domain": [
          0.88,
          1
         ],
         "matches": "y",
         "range": [
          0,
          2000000
         ],
         "showticklabels": false
        },
        "yaxis4": {
         "anchor": "x4",
         "domain": [
          0.88,
          1
         ],
         "matches": "y",
         "range": [
          0,
          2000000
         ],
         "showticklabels": false
        },
        "yaxis5": {
         "anchor": "x5",
         "domain": [
          0.88,
          1
         ],
         "matches": "y",
         "range": [
          0,
          2000000
         ],
         "showticklabels": false
        },
        "yaxis6": {
         "anchor": "x6",
         "domain": [
          0.66,
          0.78
         ],
         "range": [
          0,
          2000000
         ]
        },
        "yaxis7": {
         "anchor": "x7",
         "domain": [
          0.66,
          0.78
         ],
         "matches": "y6",
         "range": [
          0,
          2000000
         ],
         "showticklabels": false
        },
        "yaxis8": {
         "anchor": "x8",
         "domain": [
          0.66,
          0.78
         ],
         "matches": "y6",
         "range": [
          0,
          2000000
         ],
         "showticklabels": false
        },
        "yaxis9": {
         "anchor": "x9",
         "domain": [
          0.66,
          0.78
         ],
         "matches": "y6",
         "range": [
          0,
          2000000
         ],
         "showticklabels": false
        }
       }
      },
      "text/html": [
       "<div>                            <div id=\"e0eee9d8-31f3-4407-947f-7a9e35d4d4a4\" class=\"plotly-graph-div\" style=\"height:800px; width:800px;\"></div>            <script type=\"text/javascript\">                require([\"plotly\"], function(Plotly) {                    window.PLOTLYENV=window.PLOTLYENV || {};                                    if (document.getElementById(\"e0eee9d8-31f3-4407-947f-7a9e35d4d4a4\")) {                    Plotly.newPlot(                        \"e0eee9d8-31f3-4407-947f-7a9e35d4d4a4\",                        [{\"type\":\"scatter\",\"x\":[2003.0,2004.0,2005.0,2006.0,2007.0,2008.0,2009.0,2010.0,2011.0,2012.0,2013.0,2014.0,2015.0,2016.0,2017.0,2018.0,2019.0,2020.0],\"xaxis\":\"x\",\"y\":[460697.7908163265,761196.4436619718,844131.7361111111,698997.3560606061,915568.2058823529,917817.806122449,917817.806122449,854172.4285714285,713906.411111111,954131.0463576159,1145822.8625,690689.9107142857,601901.2441860465,472573.3333333333,530333.7037037037,691443.2033898305,644468.3194444445,1127200.775],\"yaxis\":\"y\"},{\"type\":\"scatter\",\"x\":[2003.0,2004.0,2005.0,2006.0,2007.0,2008.0,2009.0,2010.0,2011.0,2012.0,2013.0,2014.0,2015.0,2016.0,2017.0,2018.0,2019.0,2020.0],\"xaxis\":\"x2\",\"y\":[603581.2365948037,767092.2480904049,884397.0223970283,895438.2243925679,998783.8561660366,999674.9810179045,999674.9810179045,1019206.7476307933,968917.6289023162,870083.0327145933,1062807.3268223484,1105375.394062864,1118897.7749268513,1165066.212844945,1229457.3353734699,1112578.510837645,1166298.4973544974,1053368.237463381],\"yaxis\":\"y2\"},{\"type\":\"scatter\",\"x\":[2003.0,2004.0,2005.0,2006.0,2007.0,2008.0,2009.0,2010.0,2011.0,2012.0,2013.0,2014.0,2015.0,2016.0,2017.0,2018.0,2019.0,2020.0],\"xaxis\":\"x3\",\"y\":[546926.7632421779,659379.4063299233,759069.8019240256,794141.7390593047,847644.1307912546,842240.348894349,842240.348894349,817878.5775723472,836761.2726948457,846061.2979622642,868471.6022650667,887255.8057491289,924982.759672619,925644.6362746697,943155.2781045751,979392.1709071767,991846.590877678,941660.2114421931],\"yaxis\":\"y3\"},{\"type\":\"scatter\",\"x\":[2003.0,2004.0,2005.0,2006.0,2007.0,2008.0,2009.0,2010.0,2011.0,2012.0,2013.0,2014.0,2015.0,2016.0,2017.0,2018.0,2019.0,2020.0],\"xaxis\":\"x4\",\"y\":[501176.3501621121,645893.812605753,744937.3991452991,672456.3947115385,755797.627918288,614140.9388736264,614140.9388736264,720726.4631578948,704301.6915662651,850116.9520547945,739445.147887324,693123.0154142582,641018.2,714428.5976833977,629805.0241057543,669148.562703583,662807.119243421,754036.808114035],\"yaxis\":\"y4\"}],                        {\"annotations\":[{\"font\":{\"size\":12},\"showarrow\":false,\"text\":\"stores\",\"x\":0.08399999999999999,\"xanchor\":\"center\",\"xref\":\"paper\",\"y\":1.0,\"yanchor\":\"bottom\",\"yref\":\"paper\"},{\"font\":{\"size\":12},\"showarrow\":false,\"text\":\"condos\",\"x\":0.292,\"xanchor\":\"center\",\"xref\":\"paper\",\"y\":1.0,\"yanchor\":\"bottom\",\"yref\":\"paper\"},{\"font\":{\"size\":12},\"showarrow\":false,\"text\":\"co-ops\",\"x\":0.5,\"xanchor\":\"center\",\"xref\":\"paper\",\"y\":1.0,\"yanchor\":\"bottom\",\"yref\":\"paper\"},{\"font\":{\"size\":12},\"showarrow\":false,\"text\":\"walk-ups\",\"x\":0.708,\"xanchor\":\"center\",\"xref\":\"paper\",\"y\":1.0,\"yanchor\":\"bottom\",\"yref\":\"paper\"}],\"height\":800,\"showlegend\":false,\"template\":{\"data\":{\"bar\":[{\"error_x\":{\"color\":\"#2a3f5f\"},\"error_y\":{\"color\":\"#2a3f5f\"},\"marker\":{\"line\":{\"color\":\"#E5ECF6\",\"width\":0.5},\"pattern\":{\"fillmode\":\"overlay\",\"size\":10,\"solidity\":0.2}},\"type\":\"bar\"}],\"barpolar\":[{\"marker\":{\"line\":{\"color\":\"#E5ECF6\",\"width\":0.5},\"pattern\":{\"fillmode\":\"overlay\",\"size\":10,\"solidity\":0.2}},\"type\":\"barpolar\"}],\"carpet\":[{\"aaxis\":{\"endlinecolor\":\"#2a3f5f\",\"gridcolor\":\"white\",\"linecolor\":\"white\",\"minorgridcolor\":\"white\",\"startlinecolor\":\"#2a3f5f\"},\"baxis\":{\"endlinecolor\":\"#2a3f5f\",\"gridcolor\":\"white\",\"linecolor\":\"white\",\"minorgridcolor\":\"white\",\"startlinecolor\":\"#2a3f5f\"},\"type\":\"carpet\"}],\"choropleth\":[{\"colorbar\":{\"outlinewidth\":0,\"ticks\":\"\"},\"type\":\"choropleth\"}],\"contour\":[{\"colorbar\":{\"outlinewidth\":0,\"ticks\":\"\"},\"colorscale\":[[0.0,\"#0d0887\"],[0.1111111111111111,\"#46039f\"],[0.2222222222222222,\"#7201a8\"],[0.3333333333333333,\"#9c179e\"],[0.4444444444444444,\"#bd3786\"],[0.5555555555555556,\"#d8576b\"],[0.6666666666666666,\"#ed7953\"],[0.7777777777777778,\"#fb9f3a\"],[0.8888888888888888,\"#fdca26\"],[1.0,\"#f0f921\"]],\"type\":\"contour\"}],\"contourcarpet\":[{\"colorbar\":{\"outlinewidth\":0,\"ticks\":\"\"},\"type\":\"contourcarpet\"}],\"heatmap\":[{\"colorbar\":{\"outlinewidth\":0,\"ticks\":\"\"},\"colorscale\":[[0.0,\"#0d0887\"],[0.1111111111111111,\"#46039f\"],[0.2222222222222222,\"#7201a8\"],[0.3333333333333333,\"#9c179e\"],[0.4444444444444444,\"#bd3786\"],[0.5555555555555556,\"#d8576b\"],[0.6666666666666666,\"#ed7953\"],[0.7777777777777778,\"#fb9f3a\"],[0.8888888888888888,\"#fdca26\"],[1.0,\"#f0f921\"]],\"type\":\"heatmap\"}],\"heatmapgl\":[{\"colorbar\":{\"outlinewidth\":0,\"ticks\":\"\"},\"colorscale\":[[0.0,\"#0d0887\"],[0.1111111111111111,\"#46039f\"],[0.2222222222222222,\"#7201a8\"],[0.3333333333333333,\"#9c179e\"],[0.4444444444444444,\"#bd3786\"],[0.5555555555555556,\"#d8576b\"],[0.6666666666666666,\"#ed7953\"],[0.7777777777777778,\"#fb9f3a\"],[0.8888888888888888,\"#fdca26\"],[1.0,\"#f0f921\"]],\"type\":\"heatmapgl\"}],\"histogram\":[{\"marker\":{\"pattern\":{\"fillmode\":\"overlay\",\"size\":10,\"solidity\":0.2}},\"type\":\"histogram\"}],\"histogram2d\":[{\"colorbar\":{\"outlinewidth\":0,\"ticks\":\"\"},\"colorscale\":[[0.0,\"#0d0887\"],[0.1111111111111111,\"#46039f\"],[0.2222222222222222,\"#7201a8\"],[0.3333333333333333,\"#9c179e\"],[0.4444444444444444,\"#bd3786\"],[0.5555555555555556,\"#d8576b\"],[0.6666666666666666,\"#ed7953\"],[0.7777777777777778,\"#fb9f3a\"],[0.8888888888888888,\"#fdca26\"],[1.0,\"#f0f921\"]],\"type\":\"histogram2d\"}],\"histogram2dcontour\":[{\"colorbar\":{\"outlinewidth\":0,\"ticks\":\"\"},\"colorscale\":[[0.0,\"#0d0887\"],[0.1111111111111111,\"#46039f\"],[0.2222222222222222,\"#7201a8\"],[0.3333333333333333,\"#9c179e\"],[0.4444444444444444,\"#bd3786\"],[0.5555555555555556,\"#d8576b\"],[0.6666666666666666,\"#ed7953\"],[0.7777777777777778,\"#fb9f3a\"],[0.8888888888888888,\"#fdca26\"],[1.0,\"#f0f921\"]],\"type\":\"histogram2dcontour\"}],\"mesh3d\":[{\"colorbar\":{\"outlinewidth\":0,\"ticks\":\"\"},\"type\":\"mesh3d\"}],\"parcoords\":[{\"line\":{\"colorbar\":{\"outlinewidth\":0,\"ticks\":\"\"}},\"type\":\"parcoords\"}],\"pie\":[{\"automargin\":true,\"type\":\"pie\"}],\"scatter\":[{\"marker\":{\"colorbar\":{\"outlinewidth\":0,\"ticks\":\"\"}},\"type\":\"scatter\"}],\"scatter3d\":[{\"line\":{\"colorbar\":{\"outlinewidth\":0,\"ticks\":\"\"}},\"marker\":{\"colorbar\":{\"outlinewidth\":0,\"ticks\":\"\"}},\"type\":\"scatter3d\"}],\"scattercarpet\":[{\"marker\":{\"colorbar\":{\"outlinewidth\":0,\"ticks\":\"\"}},\"type\":\"scattercarpet\"}],\"scattergeo\":[{\"marker\":{\"colorbar\":{\"outlinewidth\":0,\"ticks\":\"\"}},\"type\":\"scattergeo\"}],\"scattergl\":[{\"marker\":{\"colorbar\":{\"outlinewidth\":0,\"ticks\":\"\"}},\"type\":\"scattergl\"}],\"scattermapbox\":[{\"marker\":{\"colorbar\":{\"outlinewidth\":0,\"ticks\":\"\"}},\"type\":\"scattermapbox\"}],\"scatterpolar\":[{\"marker\":{\"colorbar\":{\"outlinewidth\":0,\"ticks\":\"\"}},\"type\":\"scatterpolar\"}],\"scatterpolargl\":[{\"marker\":{\"colorbar\":{\"outlinewidth\":0,\"ticks\":\"\"}},\"type\":\"scatterpolargl\"}],\"scatterternary\":[{\"marker\":{\"colorbar\":{\"outlinewidth\":0,\"ticks\":\"\"}},\"type\":\"scatterternary\"}],\"surface\":[{\"colorbar\":{\"outlinewidth\":0,\"ticks\":\"\"},\"colorscale\":[[0.0,\"#0d0887\"],[0.1111111111111111,\"#46039f\"],[0.2222222222222222,\"#7201a8\"],[0.3333333333333333,\"#9c179e\"],[0.4444444444444444,\"#bd3786\"],[0.5555555555555556,\"#d8576b\"],[0.6666666666666666,\"#ed7953\"],[0.7777777777777778,\"#fb9f3a\"],[0.8888888888888888,\"#fdca26\"],[1.0,\"#f0f921\"]],\"type\":\"surface\"}],\"table\":[{\"cells\":{\"fill\":{\"color\":\"#EBF0F8\"},\"line\":{\"color\":\"white\"}},\"header\":{\"fill\":{\"color\":\"#C8D4E3\"},\"line\":{\"color\":\"white\"}},\"type\":\"table\"}]},\"layout\":{\"annotationdefaults\":{\"arrowcolor\":\"#2a3f5f\",\"arrowhead\":0,\"arrowwidth\":1},\"autotypenumbers\":\"strict\",\"coloraxis\":{\"colorbar\":{\"outlinewidth\":0,\"ticks\":\"\"}},\"colorscale\":{\"diverging\":[[0,\"#8e0152\"],[0.1,\"#c51b7d\"],[0.2,\"#de77ae\"],[0.3,\"#f1b6da\"],[0.4,\"#fde0ef\"],[0.5,\"#f7f7f7\"],[0.6,\"#e6f5d0\"],[0.7,\"#b8e186\"],[0.8,\"#7fbc41\"],[0.9,\"#4d9221\"],[1,\"#276419\"]],\"sequential\":[[0.0,\"#0d0887\"],[0.1111111111111111,\"#46039f\"],[0.2222222222222222,\"#7201a8\"],[0.3333333333333333,\"#9c179e\"],[0.4444444444444444,\"#bd3786\"],[0.5555555555555556,\"#d8576b\"],[0.6666666666666666,\"#ed7953\"],[0.7777777777777778,\"#fb9f3a\"],[0.8888888888888888,\"#fdca26\"],[1.0,\"#f0f921\"]],\"sequentialminus\":[[0.0,\"#0d0887\"],[0.1111111111111111,\"#46039f\"],[0.2222222222222222,\"#7201a8\"],[0.3333333333333333,\"#9c179e\"],[0.4444444444444444,\"#bd3786\"],[0.5555555555555556,\"#d8576b\"],[0.6666666666666666,\"#ed7953\"],[0.7777777777777778,\"#fb9f3a\"],[0.8888888888888888,\"#fdca26\"],[1.0,\"#f0f921\"]]},\"colorway\":[\"#636efa\",\"#EF553B\",\"#00cc96\",\"#ab63fa\",\"#FFA15A\",\"#19d3f3\",\"#FF6692\",\"#B6E880\",\"#FF97FF\",\"#FECB52\"],\"font\":{\"color\":\"#2a3f5f\"},\"geo\":{\"bgcolor\":\"white\",\"lakecolor\":\"white\",\"landcolor\":\"#E5ECF6\",\"showlakes\":true,\"showland\":true,\"subunitcolor\":\"white\"},\"hoverlabel\":{\"align\":\"left\"},\"hovermode\":\"closest\",\"mapbox\":{\"style\":\"light\"},\"paper_bgcolor\":\"white\",\"plot_bgcolor\":\"#E5ECF6\",\"polar\":{\"angularaxis\":{\"gridcolor\":\"white\",\"linecolor\":\"white\",\"ticks\":\"\"},\"bgcolor\":\"#E5ECF6\",\"radialaxis\":{\"gridcolor\":\"white\",\"linecolor\":\"white\",\"ticks\":\"\"}},\"scene\":{\"xaxis\":{\"backgroundcolor\":\"#E5ECF6\",\"gridcolor\":\"white\",\"gridwidth\":2,\"linecolor\":\"white\",\"showbackground\":true,\"ticks\":\"\",\"zerolinecolor\":\"white\"},\"yaxis\":{\"backgroundcolor\":\"#E5ECF6\",\"gridcolor\":\"white\",\"gridwidth\":2,\"linecolor\":\"white\",\"showbackground\":true,\"ticks\":\"\",\"zerolinecolor\":\"white\"},\"zaxis\":{\"backgroundcolor\":\"#E5ECF6\",\"gridcolor\":\"white\",\"gridwidth\":2,\"linecolor\":\"white\",\"showbackground\":true,\"ticks\":\"\",\"zerolinecolor\":\"white\"}},\"shapedefaults\":{\"line\":{\"color\":\"#2a3f5f\"}},\"ternary\":{\"aaxis\":{\"gridcolor\":\"white\",\"linecolor\":\"white\",\"ticks\":\"\"},\"baxis\":{\"gridcolor\":\"white\",\"linecolor\":\"white\",\"ticks\":\"\"},\"bgcolor\":\"#E5ECF6\",\"caxis\":{\"gridcolor\":\"white\",\"linecolor\":\"white\",\"ticks\":\"\"}},\"title\":{\"x\":0.05},\"xaxis\":{\"automargin\":true,\"gridcolor\":\"white\",\"linecolor\":\"white\",\"ticks\":\"\",\"title\":{\"standoff\":15},\"zerolinecolor\":\"white\",\"zerolinewidth\":2},\"yaxis\":{\"automargin\":true,\"gridcolor\":\"white\",\"linecolor\":\"white\",\"ticks\":\"\",\"title\":{\"standoff\":15},\"zerolinecolor\":\"white\",\"zerolinewidth\":2}}},\"title\":{\"text\":\"Average price per sale per neighborhood\"},\"width\":800,\"xaxis\":{\"anchor\":\"y\",\"domain\":[0.0,0.16799999999999998]},\"xaxis10\":{\"anchor\":\"y10\",\"domain\":[0.832,1.0]},\"xaxis11\":{\"anchor\":\"y11\",\"domain\":[0.0,0.16799999999999998]},\"xaxis12\":{\"anchor\":\"y12\",\"domain\":[0.208,0.376]},\"xaxis13\":{\"anchor\":\"y13\",\"domain\":[0.416,0.584]},\"xaxis14\":{\"anchor\":\"y14\",\"domain\":[0.624,0.792]},\"xaxis15\":{\"anchor\":\"y15\",\"domain\":[0.832,1.0]},\"xaxis16\":{\"anchor\":\"y16\",\"domain\":[0.0,0.16799999999999998]},\"xaxis17\":{\"anchor\":\"y17\",\"domain\":[0.208,0.376]},\"xaxis18\":{\"anchor\":\"y18\",\"domain\":[0.416,0.584]},\"xaxis19\":{\"anchor\":\"y19\",\"domain\":[0.624,0.792]},\"xaxis2\":{\"anchor\":\"y2\",\"domain\":[0.208,0.376]},\"xaxis20\":{\"anchor\":\"y20\",\"domain\":[0.832,1.0]},\"xaxis21\":{\"anchor\":\"y21\",\"domain\":[0.0,0.16799999999999998]},\"xaxis22\":{\"anchor\":\"y22\",\"domain\":[0.208,0.376]},\"xaxis23\":{\"anchor\":\"y23\",\"domain\":[0.416,0.584]},\"xaxis24\":{\"anchor\":\"y24\",\"domain\":[0.624,0.792]},\"xaxis25\":{\"anchor\":\"y25\",\"domain\":[0.832,1.0]},\"xaxis3\":{\"anchor\":\"y3\",\"domain\":[0.416,0.584]},\"xaxis4\":{\"anchor\":\"y4\",\"domain\":[0.624,0.792]},\"xaxis5\":{\"anchor\":\"y5\",\"domain\":[0.832,1.0]},\"xaxis6\":{\"anchor\":\"y6\",\"domain\":[0.0,0.16799999999999998]},\"xaxis7\":{\"anchor\":\"y7\",\"domain\":[0.208,0.376]},\"xaxis8\":{\"anchor\":\"y8\",\"domain\":[0.416,0.584]},\"xaxis9\":{\"anchor\":\"y9\",\"domain\":[0.624,0.792]},\"yaxis\":{\"anchor\":\"x\",\"domain\":[0.88,1.0],\"range\":[0,2000000]},\"yaxis10\":{\"anchor\":\"x10\",\"domain\":[0.66,0.78],\"matches\":\"y6\",\"range\":[0,2000000],\"showticklabels\":false},\"yaxis11\":{\"anchor\":\"x11\",\"domain\":[0.44,0.56],\"range\":[0,2000000]},\"yaxis12\":{\"anchor\":\"x12\",\"domain\":[0.44,0.56],\"matches\":\"y11\",\"range\":[0,2000000],\"showticklabels\":false},\"yaxis13\":{\"anchor\":\"x13\",\"domain\":[0.44,0.56],\"matches\":\"y11\",\"range\":[0,2000000],\"showticklabels\":false},\"yaxis14\":{\"anchor\":\"x14\",\"domain\":[0.44,0.56],\"matches\":\"y11\",\"range\":[0,2000000],\"showticklabels\":false},\"yaxis15\":{\"anchor\":\"x15\",\"domain\":[0.44,0.56],\"matches\":\"y11\",\"range\":[0,2000000],\"showticklabels\":false},\"yaxis16\":{\"anchor\":\"x16\",\"domain\":[0.22,0.33999999999999997],\"range\":[0,2000000]},\"yaxis17\":{\"anchor\":\"x17\",\"domain\":[0.22,0.33999999999999997],\"matches\":\"y16\",\"range\":[0,2000000],\"showticklabels\":false},\"yaxis18\":{\"anchor\":\"x18\",\"domain\":[0.22,0.33999999999999997],\"matches\":\"y16\",\"range\":[0,2000000],\"showticklabels\":false},\"yaxis19\":{\"anchor\":\"x19\",\"domain\":[0.22,0.33999999999999997],\"matches\":\"y16\",\"range\":[0,2000000],\"showticklabels\":false},\"yaxis2\":{\"anchor\":\"x2\",\"domain\":[0.88,1.0],\"matches\":\"y\",\"range\":[0,2000000],\"showticklabels\":false},\"yaxis20\":{\"anchor\":\"x20\",\"domain\":[0.22,0.33999999999999997],\"matches\":\"y16\",\"range\":[0,2000000],\"showticklabels\":false},\"yaxis21\":{\"anchor\":\"x21\",\"domain\":[0.0,0.12],\"range\":[0,2000000]},\"yaxis22\":{\"anchor\":\"x22\",\"domain\":[0.0,0.12],\"matches\":\"y21\",\"range\":[0,2000000],\"showticklabels\":false},\"yaxis23\":{\"anchor\":\"x23\",\"domain\":[0.0,0.12],\"matches\":\"y21\",\"range\":[0,2000000],\"showticklabels\":false},\"yaxis24\":{\"anchor\":\"x24\",\"domain\":[0.0,0.12],\"matches\":\"y21\",\"range\":[0,2000000],\"showticklabels\":false},\"yaxis25\":{\"anchor\":\"x25\",\"domain\":[0.0,0.12],\"matches\":\"y21\",\"range\":[0,2000000],\"showticklabels\":false},\"yaxis3\":{\"anchor\":\"x3\",\"domain\":[0.88,1.0],\"matches\":\"y\",\"range\":[0,2000000],\"showticklabels\":false},\"yaxis4\":{\"anchor\":\"x4\",\"domain\":[0.88,1.0],\"matches\":\"y\",\"range\":[0,2000000],\"showticklabels\":false},\"yaxis5\":{\"anchor\":\"x5\",\"domain\":[0.88,1.0],\"matches\":\"y\",\"range\":[0,2000000],\"showticklabels\":false},\"yaxis6\":{\"anchor\":\"x6\",\"domain\":[0.66,0.78],\"range\":[0,2000000]},\"yaxis7\":{\"anchor\":\"x7\",\"domain\":[0.66,0.78],\"matches\":\"y6\",\"range\":[0,2000000],\"showticklabels\":false},\"yaxis8\":{\"anchor\":\"x8\",\"domain\":[0.66,0.78],\"matches\":\"y6\",\"range\":[0,2000000],\"showticklabels\":false},\"yaxis9\":{\"anchor\":\"x9\",\"domain\":[0.66,0.78],\"matches\":\"y6\",\"range\":[0,2000000],\"showticklabels\":false}},                        {\"responsive\": true}                    ).then(function(){\n",
       "                            \n",
       "var gd = document.getElementById('e0eee9d8-31f3-4407-947f-7a9e35d4d4a4');\n",
       "var x = new MutationObserver(function (mutations, observer) {{\n",
       "        var display = window.getComputedStyle(gd).display;\n",
       "        if (!display || display === 'none') {{\n",
       "            console.log([gd, 'removed!']);\n",
       "            Plotly.purge(gd);\n",
       "            observer.disconnect();\n",
       "        }}\n",
       "}});\n",
       "\n",
       "// Listen for the removal of the full notebook cells\n",
       "var notebookContainer = gd.closest('#notebook-container');\n",
       "if (notebookContainer) {{\n",
       "    x.observe(notebookContainer, {childList: true});\n",
       "}}\n",
       "\n",
       "// Listen for the clearing of the current output cell\n",
       "var outputEl = gd.closest('.output');\n",
       "if (outputEl) {{\n",
       "    x.observe(outputEl, {childList: true});\n",
       "}}\n",
       "\n",
       "                        })                };                });            </script>        </div>"
      ]
     },
     "metadata": {},
     "output_type": "display_data"
    }
   ],
   "source": [
    "x = 3\n",
    "#load chart from dataframe list above and prepare to plot\n",
    "df_charts = pivoted_dfs_list[x]\n",
    "print(df_charts.columns)\n",
    "# if x == 2:\n",
    "#     df_charts.drop(columns=[\"other\",\"roosevelt island\",\"inwood\"],inplace=True) #this line is only for neighborhoods\n",
    "    \n",
    "df_charts = df_charts.sort_values(df_charts.last_valid_index(), axis=1,ascending=False)\n",
    "fig = make_subplots(rows=5, cols=5, start_cell=\"top-left\",subplot_titles=(df_charts.columns),shared_yaxes=True)\n",
    "row_i = 1\n",
    "col_i = 1\n",
    "for cols in df_charts:\n",
    "    fig.add_trace(go.Scatter(x=df_charts.index, y=df_charts[cols]),\n",
    "                  row=row_i, col=col_i)\n",
    "    if col_i < 5:\n",
    "        col_i += 1\n",
    "    else:\n",
    "        col_i = 1\n",
    "        row_i += 1\n",
    "        \n",
    "fig.update_annotations(font_size=12)\n",
    "fig.update_yaxes(range=(0,2000000))\n",
    "fig.update_layout(height=800, width=800, title_text=f'Average price per sale per neighborhood',showlegend=False)\n",
    "# fig.show()"
   ]
  },
  {
   "cell_type": "markdown",
   "metadata": {},
   "source": [
    "The dataset is quite rich in details. Some other questions worth considering:\n",
    "1. Why is javits picking up in price so much?\n",
    "2. Does condo/walkup mix matter for neighborhood pricing?\n",
    "3. What is the priciest zip code over time?\n",
    "4. What neighborhood has the most non-cash transactions?\n",
    "5. Is there a prewar premium in NY?"
   ]
  },
  {
   "cell_type": "markdown",
   "metadata": {},
   "source": [
    "1. Why is javits picking up in price so much?"
   ]
  },
  {
   "cell_type": "code",
   "execution_count": 75,
   "metadata": {},
   "outputs": [
    {
     "data": {
      "text/plain": [
       "year sold  year built\n",
       "2003.0     0.0            3\n",
       "           1900.0         6\n",
       "           1910.0         2\n",
       "           1930.0        18\n",
       "           1960.0         5\n",
       "           1963.0        32\n",
       "           2008.0         1\n",
       "2004.0     0.0            4\n",
       "           1900.0         3\n",
       "           1920.0         1\n",
       "           1930.0        19\n",
       "           1960.0         7\n",
       "           1963.0        13\n",
       "           2008.0         1\n",
       "2005.0     0.0            5\n",
       "           1900.0         5\n",
       "           1910.0         4\n",
       "           1920.0         2\n",
       "           1930.0        30\n",
       "           1960.0         2\n",
       "           1963.0        25\n",
       "2006.0     0.0            1\n",
       "           1900.0         1\n",
       "           1920.0         1\n",
       "           1930.0        20\n",
       "           1960.0         1\n",
       "           1963.0         9\n",
       "2007.0     0.0            1\n",
       "           1900.0         3\n",
       "           1905.0         1\n",
       "           1910.0         1\n",
       "           1930.0        18\n",
       "           1960.0         7\n",
       "           1963.0        18\n",
       "2008.0     0.0           22\n",
       "           1900.0         1\n",
       "           1905.0         3\n",
       "           1930.0         7\n",
       "           1960.0         1\n",
       "           1963.0        10\n",
       "           2007.0         1\n",
       "           2008.0         2\n",
       "2009.0     0.0           22\n",
       "           1900.0         1\n",
       "           1905.0         3\n",
       "           1930.0         7\n",
       "           1960.0         1\n",
       "           1963.0        10\n",
       "           2007.0         1\n",
       "           2008.0         2\n",
       "2010.0     0.0            5\n",
       "           1900.0         1\n",
       "           1920.0         1\n",
       "           1930.0         5\n",
       "2011.0     0.0            7\n",
       "           1930.0        14\n",
       "           1960.0         1\n",
       "           1963.0        13\n",
       "           2002.0         1\n",
       "2012.0     1930.0         6\n",
       "           1960.0         3\n",
       "           1963.0         8\n",
       "2013.0     0.0            1\n",
       "           1905.0         1\n",
       "           1920.0         1\n",
       "           1930.0        13\n",
       "           1960.0         3\n",
       "           1963.0        10\n",
       "2014.0     0.0            1\n",
       "           1900.0         2\n",
       "           1905.0         1\n",
       "           1910.0         1\n",
       "           1930.0         8\n",
       "           1960.0         7\n",
       "           1963.0        12\n",
       "           2008.0         1\n",
       "2015.0     0.0            3\n",
       "           1900.0         1\n",
       "           1905.0         1\n",
       "           1930.0        10\n",
       "           1960.0         9\n",
       "           1963.0        10\n",
       "2016.0     0.0            4\n",
       "           1900.0         3\n",
       "           1910.0         1\n",
       "           1930.0        10\n",
       "           1960.0         5\n",
       "           1963.0         2\n",
       "           2008.0         2\n",
       "2017.0     0.0            4\n",
       "           1900.0         1\n",
       "           1905.0         3\n",
       "           1910.0         2\n",
       "           1930.0         6\n",
       "           1960.0         3\n",
       "           1963.0         7\n",
       "2018.0     0.0            4\n",
       "           1900.0         1\n",
       "           1905.0         2\n",
       "           1930.0        15\n",
       "           1960.0         2\n",
       "           1963.0         7\n",
       "2019.0     1900.0         1\n",
       "           1910.0         1\n",
       "           1930.0         5\n",
       "           1963.0         5\n",
       "           2008.0         1\n",
       "           2015.0        98\n",
       "2020.0     1900.0         1\n",
       "           1920.0         1\n",
       "           1930.0         8\n",
       "           1960.0         2\n",
       "           1963.0         8\n",
       "           2015.0        21\n",
       "dtype: int64"
      ]
     },
     "execution_count": 75,
     "metadata": {},
     "output_type": "execute_result"
    }
   ],
   "source": [
    "#The jump in Javitz neighborhood happens recently. One theory is that the new development, Hudson Yards,\n",
    "#may be changing the mix toward more luxury sales.\n",
    "\n",
    "#One quick way to check this is to do a groupby to look at units sold each year based on when the building\n",
    "#was constructed\n",
    "df_javits = filtered_df[filtered_df[\"broader_neighborhoods\"] == \"javits center\"].copy()\n",
    "df_javits[\"short_address\"] = df_javits[\"address\"].astype(str).str[0:20]\n",
    "pd.set_option('display.max_rows', 1000)\n",
    "df_javits.groupby([\"year sold\", \"year built\"]).size()\n",
    "\n",
    "#In 2019 and 2020, the bulk of sales come from building constructed in 2015. This vintage is not present in prior years.\n",
    "#Unit sales volumes pick up quite significantly in 2019.\n",
    "\n",
    "df_javits[\"year sold\"].value_counts().sort_index()\n",
    "\n",
    "#A few buildings account for the bulk of sales\n",
    "df_javits = df_javits[df_javits[\"year sold\"] == 2019]\n",
    "df_javits.sample(n=10,random_state=5)\n",
    "\n",
    "#And if you sort by sales price, the priciest sales all occur at the same place 553 West 30th. Some basic googling\n",
    "#shows this is a Hudson Yards building with pricy units.\n",
    "df_javits = df_javits.sort_values(by=\"sale price\",ascending=False)\n",
    "df_javits.head(20)"
   ]
  },
  {
   "cell_type": "markdown",
   "metadata": {},
   "source": [
    "2. Does condo/walkup mix matter for neighborhood pricing?"
   ]
  },
  {
   "cell_type": "code",
   "execution_count": 143,
   "metadata": {},
   "outputs": [
    {
     "data": {
      "application/vnd.plotly.v1+json": {
       "config": {
        "plotlyServerURL": "https://plot.ly"
       },
       "data": [
        {
         "type": "scatter",
         "x": [
          2003,
          2004,
          2005,
          2006,
          2007,
          2008,
          2009,
          2010,
          2011,
          2012,
          2013,
          2014,
          2015,
          2016,
          2017,
          2018,
          2019,
          2020
         ],
         "xaxis": "x",
         "y": [
          0.8668407310704961,
          0.8893360160965795,
          0.910913140311804,
          0.881578947368421,
          0.9250720461095101,
          0.9452662721893491,
          0.9452662721893491,
          0.9646464646464646,
          0.9135802469135802,
          0.9303675048355899,
          0.9102564102564102,
          0.9118457300275482,
          0.922879177377892,
          0.9425,
          0.9409090909090909,
          0.9176829268292683,
          0.92,
          0.9530685920577617
         ],
         "yaxis": "y"
        },
        {
         "type": "scatter",
         "x": [
          2003,
          2004,
          2005,
          2006,
          2007,
          2008,
          2009,
          2010,
          2011,
          2012,
          2013,
          2014,
          2015,
          2016,
          2017,
          2018,
          2019,
          2020
         ],
         "xaxis": "x2",
         "y": [
          0.7027027027027027,
          0.65,
          0.8333333333333334,
          0.8495575221238938,
          0.7777777777777778,
          0.8854166666666666,
          0.8854166666666666,
          0.8651685393258427,
          0.7857142857142857,
          0.7037037037037037,
          0.8648648648648649,
          0.8849557522123894,
          0.8117647058823529,
          0.821917808219178,
          0.8823529411764706,
          0.8518518518518519,
          0.9620253164556962,
          0.9285714285714286
         ],
         "yaxis": "y2"
        },
        {
         "type": "scatter",
         "x": [
          2003,
          2004,
          2005,
          2006,
          2007,
          2008,
          2009,
          2010,
          2011,
          2012,
          2013,
          2014,
          2015,
          2016,
          2017,
          2018,
          2019,
          2020
         ],
         "xaxis": "x3",
         "y": [
          0.32558139534883723,
          0.5487804878048781,
          0.6909090909090909,
          0.9729411764705882,
          0.9688929551692589,
          0.9677790563866513,
          0.9677790563866513,
          0.9810996563573883,
          0.9579646017699115,
          0.9375,
          0.955719557195572,
          0.9647058823529412,
          0.9544513457556936,
          0.9572072072072072,
          0.9454926624737946,
          0.9577464788732394,
          0.9299610894941635,
          0.9246231155778895
         ],
         "yaxis": "y3"
        },
        {
         "type": "scatter",
         "x": [
          2003,
          2004,
          2005,
          2006,
          2007,
          2008,
          2009,
          2010,
          2011,
          2012,
          2013,
          2014,
          2015,
          2016,
          2017,
          2018,
          2019,
          2020
         ],
         "xaxis": "x4",
         "y": [
          0.8090909090909091,
          0.7783505154639175,
          0.745,
          0.5689655172413793,
          0.7209302325581395,
          0.8508474576271187,
          0.8508474576271187,
          0.9081081081081082,
          0.6885245901639344,
          0.857707509881423,
          0.725,
          0.78,
          0.7257142857142858,
          0.5833333333333334,
          0.5746268656716418,
          0.5086206896551724,
          0.6964285714285714,
          0.7095588235294118
         ],
         "yaxis": "y4"
        },
        {
         "type": "scatter",
         "x": [
          2003,
          2004,
          2005,
          2006,
          2007,
          2008,
          2009,
          2010,
          2011,
          2012,
          2013,
          2014,
          2015,
          2016,
          2017,
          2018,
          2019,
          2020
         ],
         "xaxis": "x5",
         "y": [
          0.2822085889570552,
          0.291866028708134,
          0.31645569620253167,
          0.7253521126760564,
          0.824212271973466,
          0.8994011976047904,
          0.8994011976047904,
          0.7983193277310925,
          0.6970802919708029,
          0.8119047619047619,
          0.6413043478260869,
          0.5849056603773585,
          0.7946666666666666,
          0.71875,
          0.7548387096774194,
          0.706959706959707,
          0.6160337552742616,
          0.6610169491525424
         ],
         "yaxis": "y5"
        },
        {
         "type": "scatter",
         "x": [
          2003,
          2004,
          2005,
          2006,
          2007,
          2008,
          2009,
          2010,
          2011,
          2012,
          2013,
          2014,
          2015,
          2016,
          2017,
          2018,
          2019,
          2020
         ],
         "xaxis": "x6",
         "y": [
          0.5516279069767441,
          0.5890318212593094,
          0.5422106179286336,
          0.5852272727272727,
          0.6934942991281019,
          0.7110609480812641,
          0.7110609480812641,
          0.7766497461928934,
          0.58683314415437,
          0.6411483253588517,
          0.5492537313432836,
          0.590134529147982,
          0.5849227974568574,
          0.5907473309608541,
          0.6282051282051282,
          0.6320093457943925,
          0.6208092485549133,
          0.6547619047619048
         ],
         "yaxis": "y6"
        },
        {
         "type": "scatter",
         "x": [
          2003,
          2004,
          2005,
          2006,
          2007,
          2008,
          2009,
          2010,
          2011,
          2012,
          2013,
          2014,
          2015,
          2016,
          2017,
          2018,
          2019,
          2020
         ],
         "xaxis": "x7",
         "y": [
          0.4517374517374517,
          0.5846560846560847,
          0.6349206349206349,
          0.623229461756374,
          0.6912928759894459,
          0.5564853556485355,
          0.5564853556485355,
          0.8158844765342961,
          0.5987654320987654,
          0.5221518987341772,
          0.6291390728476821,
          0.5691699604743083,
          0.5240174672489083,
          0.5672268907563025,
          0.5082644628099173,
          0.5162790697674419,
          0.5816326530612245,
          0.6470588235294118
         ],
         "yaxis": "y7"
        },
        {
         "type": "scatter",
         "x": [
          2003,
          2004,
          2005,
          2006,
          2007,
          2008,
          2009,
          2010,
          2011,
          2012,
          2013,
          2014,
          2015,
          2016,
          2017,
          2018,
          2019,
          2020
         ],
         "xaxis": "x8",
         "y": [
          0.24173553719008264,
          0.34649122807017546,
          0.46953405017921146,
          0.3939662821650399,
          0.5913163335630599,
          0.6830985915492958,
          0.6830985915492958,
          0.6271186440677966,
          0.5669781931464174,
          0.5512489233419466,
          0.566804979253112,
          0.49868536371603855,
          0.5348214285714286,
          0.5520082389289392,
          0.5428571428571428,
          0.5175537938844847,
          0.5670995670995671,
          0.603030303030303
         ],
         "yaxis": "y8"
        },
        {
         "type": "scatter",
         "x": [
          2003,
          2004,
          2005,
          2006,
          2007,
          2008,
          2009,
          2010,
          2011,
          2012,
          2013,
          2014,
          2015,
          2016,
          2017,
          2018,
          2019,
          2020
         ],
         "xaxis": "x9",
         "y": [
          0.467502850627138,
          0.4550438596491228,
          0.48135593220338985,
          0.7479119210326499,
          0.6148514851485148,
          0.769098712446352,
          0.769098712446352,
          0.7683333333333333,
          0.6304106548279689,
          0.668693009118541,
          0.5798403193612774,
          0.6056644880174292,
          0.5292014302741359,
          0.5188141391106044,
          0.5430809399477807,
          0.634965034965035,
          0.6135734072022161,
          0.6021978021978022
         ],
         "yaxis": "y9"
        },
        {
         "type": "scatter",
         "x": [
          2003,
          2004,
          2005,
          2006,
          2007,
          2008,
          2009,
          2010,
          2011,
          2012,
          2013,
          2014,
          2015,
          2016,
          2017,
          2018,
          2019,
          2020
         ],
         "xaxis": "x10",
         "y": [
          0.5270302452964991,
          0.4887627695800227,
          0.5234657039711191,
          0.511130384504192,
          0.54673721340388,
          0.5953644233454343,
          0.5953644233454343,
          0.713907284768212,
          0.5470332850940666,
          0.5249554367201426,
          0.5353565114908663,
          0.5372758729160113,
          0.5453976205385097,
          0.5369971264367817,
          0.5428571428571428,
          0.51640625,
          0.5120341614906833,
          0.5973856209150327
         ],
         "yaxis": "y10"
        },
        {
         "type": "scatter",
         "x": [
          2003,
          2004,
          2005,
          2006,
          2007,
          2008,
          2009,
          2010,
          2011,
          2012,
          2013,
          2014,
          2015,
          2016,
          2017,
          2018,
          2019,
          2020
         ],
         "xaxis": "x11",
         "y": [
          0.04477611940298507,
          0.08333333333333333,
          0.0547945205479452,
          0.030303030303030304,
          0.02040816326530612,
          0.06382978723404255,
          0.06382978723404255,
          0.3333333333333333,
          0.19444444444444445,
          null,
          0.034482758620689655,
          0.06060606060606061,
          0.08823529411764706,
          0.2222222222222222,
          0.15384615384615385,
          0.12903225806451613,
          0.8947368421052632,
          0.5238095238095238
         ],
         "yaxis": "y11"
        },
        {
         "type": "scatter",
         "x": [
          2003,
          2004,
          2005,
          2006,
          2007,
          2008,
          2009,
          2010,
          2011,
          2012,
          2013,
          2014,
          2015,
          2016,
          2017,
          2018,
          2019,
          2020
         ],
         "xaxis": "x12",
         "y": [
          0.3299492385786802,
          0.3057324840764331,
          0.3987730061349693,
          0.3681592039800995,
          0.27411167512690354,
          0.6470588235294118,
          0.6470588235294118,
          0.6272727272727273,
          0.5652173913043478,
          0.42473118279569894,
          0.4394904458598726,
          0.7170542635658915,
          0.46111111111111114,
          0.460431654676259,
          0.4868421052631579,
          0.6872037914691943,
          0.49019607843137253,
          0.5233644859813084
         ],
         "yaxis": "y12"
        },
        {
         "type": "scatter",
         "x": [
          2003,
          2004,
          2005,
          2006,
          2007,
          2008,
          2009,
          2010,
          2011,
          2012,
          2013,
          2014,
          2015,
          2016,
          2017,
          2018,
          2019,
          2020
         ],
         "xaxis": "x13",
         "y": [
          0.5692419825072886,
          0.5099875156054932,
          0.526597643698679,
          0.673365326934613,
          0.5997318136104592,
          0.671900826446281,
          0.671900826446281,
          0.72713529856387,
          0.6368086147821831,
          0.6028217186831979,
          0.5323741007194245,
          0.4918815663801337,
          0.5442820292347378,
          0.5380145278450363,
          0.5235525024533857,
          0.5147058823529411,
          0.5505558496559025,
          0.5223765432098766
         ],
         "yaxis": "y13"
        },
        {
         "type": "scatter",
         "x": [
          2003,
          2004,
          2005,
          2006,
          2007,
          2008,
          2009,
          2010,
          2011,
          2012,
          2013,
          2014,
          2015,
          2016,
          2017,
          2018,
          2019,
          2020
         ],
         "xaxis": "x14",
         "y": [
          0.30057803468208094,
          0.21095890410958903,
          0.2735294117647059,
          0.46226415094339623,
          0.322884012539185,
          0.24596774193548387,
          0.24596774193548387,
          0.5363128491620112,
          0.3,
          0.3115727002967359,
          0.3188010899182561,
          0.24915824915824916,
          0.24014336917562723,
          0.26199261992619927,
          0.3283582089552239,
          0.56973293768546,
          0.7160714285714286,
          0.4722222222222222
         ],
         "yaxis": "y14"
        },
        {
         "type": "scatter",
         "x": [
          2003,
          2004,
          2005,
          2006,
          2007,
          2008,
          2009,
          2010,
          2011,
          2012,
          2013,
          2014,
          2015,
          2016,
          2017,
          2018,
          2019,
          2020
         ],
         "xaxis": "x15",
         "y": [
          0.2764227642276423,
          0.2998955067920585,
          0.38995726495726496,
          0.4069119286510591,
          0.5184233076263924,
          0.46946564885496184,
          0.46946564885496184,
          0.6564551422319475,
          0.4034833091436865,
          0.48951781970649894,
          0.41081081081081083,
          0.46555323590814196,
          0.4845360824742268,
          0.4930817610062893,
          0.4268456375838926,
          0.4559659090909091,
          0.5605573419078242,
          0.4177215189873418
         ],
         "yaxis": "y15"
        },
        {
         "type": "scatter",
         "x": [
          2003,
          2004,
          2005,
          2006,
          2007,
          2008,
          2009,
          2010,
          2011,
          2012,
          2013,
          2014,
          2015,
          2016,
          2017,
          2018,
          2019,
          2020
         ],
         "xaxis": "x16",
         "y": [
          0.3509157509157509,
          0.43905397210430563,
          0.3800287356321839,
          0.28426395939086296,
          0.4489296636085627,
          0.40800762631077214,
          0.40800762631077214,
          0.5946348733233979,
          0.3714574898785425,
          0.4517374517374517,
          0.3887959866220736,
          0.38649155722326456,
          0.39924314096499525,
          0.43739279588336194,
          0.40129449838187703,
          0.39680851063829786,
          0.3895582329317269,
          0.40399002493765584
         ],
         "yaxis": "y16"
        },
        {
         "type": "scatter",
         "x": [
          2003,
          2004,
          2005,
          2006,
          2007,
          2008,
          2009,
          2010,
          2011,
          2012,
          2013,
          2014,
          2015,
          2016,
          2017,
          2018,
          2019,
          2020
         ],
         "xaxis": "x17",
         "y": [
          0.4794463953728568,
          0.3912497383294955,
          0.3872845831392641,
          0.4155117270788913,
          0.4139705882352941,
          0.5170407315045719,
          0.5170407315045719,
          0.5821984435797666,
          0.3993150684931507,
          0.4229144667370644,
          0.3980021030494217,
          0.3875669244497323,
          0.4465426270480422,
          0.4419889502762431,
          0.41835147744945567,
          0.42073578595317723,
          0.37594254937163374,
          0.40062667860340195
         ],
         "yaxis": "y17"
        },
        {
         "type": "scatter",
         "x": [
          2003,
          2004,
          2005,
          2006,
          2007,
          2008,
          2009,
          2010,
          2011,
          2012,
          2013,
          2014,
          2015,
          2016,
          2017,
          2018,
          2019,
          2020
         ],
         "xaxis": "x18",
         "y": [
          0.40559440559440557,
          0.36585365853658536,
          0.46153846153846156,
          0.2857142857142857,
          0.4473684210526316,
          0.37735849056603776,
          0.37735849056603776,
          0.5897435897435898,
          0.3619047619047619,
          0.3548387096774194,
          0.39705882352941174,
          0.26618705035971224,
          0.3953488372093023,
          0.5755395683453237,
          0.5568862275449101,
          0.25874125874125875,
          0.2903225806451613,
          0.37606837606837606
         ],
         "yaxis": "y18"
        },
        {
         "type": "scatter",
         "x": [
          2003,
          2004,
          2005,
          2006,
          2007,
          2008,
          2009,
          2010,
          2011,
          2012,
          2013,
          2014,
          2015,
          2016,
          2017,
          2018,
          2019,
          2020
         ],
         "xaxis": "x19",
         "y": [
          0.03389830508474576,
          0.09807692307692308,
          0.12307692307692308,
          0.027777777777777776,
          0.03625954198473282,
          0.136986301369863,
          0.136986301369863,
          0.18674698795180722,
          0.17088607594936708,
          0.07567567567567568,
          0.156312625250501,
          0.18198874296435272,
          0.18003913894324852,
          0.15990453460620524,
          0.18820224719101122,
          0.1122715404699739,
          0.2158273381294964,
          0.20074349442379183
         ],
         "yaxis": "y19"
        },
        {
         "type": "scatter",
         "x": [
          2003,
          2004,
          2005,
          2006,
          2007,
          2008,
          2009,
          2010,
          2011,
          2012,
          2013,
          2014,
          2015,
          2016,
          2017,
          2018,
          2019,
          2020
         ],
         "xaxis": "x20",
         "y": [
          0.014285714285714285,
          0.011363636363636364,
          null,
          0.030927835051546393,
          null,
          null,
          null,
          null,
          0.02040816326530612,
          0.03076923076923077,
          null,
          0.0125,
          null,
          null,
          null,
          0.03076923076923077,
          0.025974025974025976,
          0.034482758620689655
         ],
         "yaxis": "y20"
        }
       ],
       "layout": {
        "annotations": [
         {
          "font": {
           "size": 12
          },
          "showarrow": false,
          "text": "tribeca",
          "x": 0.08399999999999999,
          "xanchor": "center",
          "xref": "paper",
          "y": 1,
          "yanchor": "bottom",
          "yref": "paper"
         },
         {
          "font": {
           "size": 12
          },
          "showarrow": false,
          "text": "chinatown",
          "x": 0.292,
          "xanchor": "center",
          "xref": "paper",
          "y": 1,
          "yanchor": "bottom",
          "yref": "paper"
         },
         {
          "font": {
           "size": 12
          },
          "showarrow": false,
          "text": "financial",
          "x": 0.5,
          "xanchor": "center",
          "xref": "paper",
          "y": 1,
          "yanchor": "bottom",
          "yref": "paper"
         },
         {
          "font": {
           "size": 12
          },
          "showarrow": false,
          "text": "lower manhattan",
          "x": 0.708,
          "xanchor": "center",
          "xref": "paper",
          "y": 1,
          "yanchor": "bottom",
          "yref": "paper"
         },
         {
          "font": {
           "size": 12
          },
          "showarrow": false,
          "text": "hells kitchen",
          "x": 0.9159999999999999,
          "xanchor": "center",
          "xref": "paper",
          "y": 1,
          "yanchor": "bottom",
          "yref": "paper"
         },
         {
          "font": {
           "size": 12
          },
          "showarrow": false,
          "text": "murray hill",
          "x": 0.08399999999999999,
          "xanchor": "center",
          "xref": "paper",
          "y": 0.78,
          "yanchor": "bottom",
          "yref": "paper"
         },
         {
          "font": {
           "size": 12
          },
          "showarrow": false,
          "text": "soho",
          "x": 0.292,
          "xanchor": "center",
          "xref": "paper",
          "y": 0.78,
          "yanchor": "bottom",
          "yref": "paper"
         },
         {
          "font": {
           "size": 12
          },
          "showarrow": false,
          "text": "harlem",
          "x": 0.5,
          "xanchor": "center",
          "xref": "paper",
          "y": 0.78,
          "yanchor": "bottom",
          "yref": "paper"
         },
         {
          "font": {
           "size": 12
          },
          "showarrow": false,
          "text": "chelsea",
          "x": 0.708,
          "xanchor": "center",
          "xref": "paper",
          "y": 0.78,
          "yanchor": "bottom",
          "yref": "paper"
         },
         {
          "font": {
           "size": 12
          },
          "showarrow": false,
          "text": "UWS",
          "x": 0.9159999999999999,
          "xanchor": "center",
          "xref": "paper",
          "y": 0.78,
          "yanchor": "bottom",
          "yref": "paper"
         },
         {
          "font": {
           "size": 12
          },
          "showarrow": false,
          "text": "javits center",
          "x": 0.08399999999999999,
          "xanchor": "center",
          "xref": "paper",
          "y": 0.56,
          "yanchor": "bottom",
          "yref": "paper"
         },
         {
          "font": {
           "size": 12
          },
          "showarrow": false,
          "text": "east village",
          "x": 0.292,
          "xanchor": "center",
          "xref": "paper",
          "y": 0.56,
          "yanchor": "bottom",
          "yref": "paper"
         },
         {
          "font": {
           "size": 12
          },
          "showarrow": false,
          "text": "midtown",
          "x": 0.5,
          "xanchor": "center",
          "xref": "paper",
          "y": 0.56,
          "yanchor": "bottom",
          "yref": "paper"
         },
         {
          "font": {
           "size": 12
          },
          "showarrow": false,
          "text": "LES",
          "x": 0.708,
          "xanchor": "center",
          "xref": "paper",
          "y": 0.56,
          "yanchor": "bottom",
          "yref": "paper"
         },
         {
          "font": {
           "size": 12
          },
          "showarrow": false,
          "text": "flatiron/gramercy",
          "x": 0.9159999999999999,
          "xanchor": "center",
          "xref": "paper",
          "y": 0.56,
          "yanchor": "bottom",
          "yref": "paper"
         },
         {
          "font": {
           "size": 12
          },
          "showarrow": false,
          "text": "greenwich",
          "x": 0.08399999999999999,
          "xanchor": "center",
          "xref": "paper",
          "y": 0.33999999999999997,
          "yanchor": "bottom",
          "yref": "paper"
         },
         {
          "font": {
           "size": 12
          },
          "showarrow": false,
          "text": "UES",
          "x": 0.292,
          "xanchor": "center",
          "xref": "paper",
          "y": 0.33999999999999997,
          "yanchor": "bottom",
          "yref": "paper"
         },
         {
          "font": {
           "size": 12
          },
          "showarrow": false,
          "text": "alphabet city",
          "x": 0.5,
          "xanchor": "center",
          "xref": "paper",
          "y": 0.33999999999999997,
          "yanchor": "bottom",
          "yref": "paper"
         },
         {
          "font": {
           "size": 12
          },
          "showarrow": false,
          "text": "washington heights",
          "x": 0.708,
          "xanchor": "center",
          "xref": "paper",
          "y": 0.33999999999999997,
          "yanchor": "bottom",
          "yref": "paper"
         },
         {
          "font": {
           "size": 12
          },
          "showarrow": false,
          "text": "morningside heights",
          "x": 0.9159999999999999,
          "xanchor": "center",
          "xref": "paper",
          "y": 0.33999999999999997,
          "yanchor": "bottom",
          "yref": "paper"
         }
        ],
        "height": 800,
        "showlegend": false,
        "template": {
         "data": {
          "bar": [
           {
            "error_x": {
             "color": "#2a3f5f"
            },
            "error_y": {
             "color": "#2a3f5f"
            },
            "marker": {
             "line": {
              "color": "#E5ECF6",
              "width": 0.5
             },
             "pattern": {
              "fillmode": "overlay",
              "size": 10,
              "solidity": 0.2
             }
            },
            "type": "bar"
           }
          ],
          "barpolar": [
           {
            "marker": {
             "line": {
              "color": "#E5ECF6",
              "width": 0.5
             },
             "pattern": {
              "fillmode": "overlay",
              "size": 10,
              "solidity": 0.2
             }
            },
            "type": "barpolar"
           }
          ],
          "carpet": [
           {
            "aaxis": {
             "endlinecolor": "#2a3f5f",
             "gridcolor": "white",
             "linecolor": "white",
             "minorgridcolor": "white",
             "startlinecolor": "#2a3f5f"
            },
            "baxis": {
             "endlinecolor": "#2a3f5f",
             "gridcolor": "white",
             "linecolor": "white",
             "minorgridcolor": "white",
             "startlinecolor": "#2a3f5f"
            },
            "type": "carpet"
           }
          ],
          "choropleth": [
           {
            "colorbar": {
             "outlinewidth": 0,
             "ticks": ""
            },
            "type": "choropleth"
           }
          ],
          "contour": [
           {
            "colorbar": {
             "outlinewidth": 0,
             "ticks": ""
            },
            "colorscale": [
             [
              0,
              "#0d0887"
             ],
             [
              0.1111111111111111,
              "#46039f"
             ],
             [
              0.2222222222222222,
              "#7201a8"
             ],
             [
              0.3333333333333333,
              "#9c179e"
             ],
             [
              0.4444444444444444,
              "#bd3786"
             ],
             [
              0.5555555555555556,
              "#d8576b"
             ],
             [
              0.6666666666666666,
              "#ed7953"
             ],
             [
              0.7777777777777778,
              "#fb9f3a"
             ],
             [
              0.8888888888888888,
              "#fdca26"
             ],
             [
              1,
              "#f0f921"
             ]
            ],
            "type": "contour"
           }
          ],
          "contourcarpet": [
           {
            "colorbar": {
             "outlinewidth": 0,
             "ticks": ""
            },
            "type": "contourcarpet"
           }
          ],
          "heatmap": [
           {
            "colorbar": {
             "outlinewidth": 0,
             "ticks": ""
            },
            "colorscale": [
             [
              0,
              "#0d0887"
             ],
             [
              0.1111111111111111,
              "#46039f"
             ],
             [
              0.2222222222222222,
              "#7201a8"
             ],
             [
              0.3333333333333333,
              "#9c179e"
             ],
             [
              0.4444444444444444,
              "#bd3786"
             ],
             [
              0.5555555555555556,
              "#d8576b"
             ],
             [
              0.6666666666666666,
              "#ed7953"
             ],
             [
              0.7777777777777778,
              "#fb9f3a"
             ],
             [
              0.8888888888888888,
              "#fdca26"
             ],
             [
              1,
              "#f0f921"
             ]
            ],
            "type": "heatmap"
           }
          ],
          "heatmapgl": [
           {
            "colorbar": {
             "outlinewidth": 0,
             "ticks": ""
            },
            "colorscale": [
             [
              0,
              "#0d0887"
             ],
             [
              0.1111111111111111,
              "#46039f"
             ],
             [
              0.2222222222222222,
              "#7201a8"
             ],
             [
              0.3333333333333333,
              "#9c179e"
             ],
             [
              0.4444444444444444,
              "#bd3786"
             ],
             [
              0.5555555555555556,
              "#d8576b"
             ],
             [
              0.6666666666666666,
              "#ed7953"
             ],
             [
              0.7777777777777778,
              "#fb9f3a"
             ],
             [
              0.8888888888888888,
              "#fdca26"
             ],
             [
              1,
              "#f0f921"
             ]
            ],
            "type": "heatmapgl"
           }
          ],
          "histogram": [
           {
            "marker": {
             "pattern": {
              "fillmode": "overlay",
              "size": 10,
              "solidity": 0.2
             }
            },
            "type": "histogram"
           }
          ],
          "histogram2d": [
           {
            "colorbar": {
             "outlinewidth": 0,
             "ticks": ""
            },
            "colorscale": [
             [
              0,
              "#0d0887"
             ],
             [
              0.1111111111111111,
              "#46039f"
             ],
             [
              0.2222222222222222,
              "#7201a8"
             ],
             [
              0.3333333333333333,
              "#9c179e"
             ],
             [
              0.4444444444444444,
              "#bd3786"
             ],
             [
              0.5555555555555556,
              "#d8576b"
             ],
             [
              0.6666666666666666,
              "#ed7953"
             ],
             [
              0.7777777777777778,
              "#fb9f3a"
             ],
             [
              0.8888888888888888,
              "#fdca26"
             ],
             [
              1,
              "#f0f921"
             ]
            ],
            "type": "histogram2d"
           }
          ],
          "histogram2dcontour": [
           {
            "colorbar": {
             "outlinewidth": 0,
             "ticks": ""
            },
            "colorscale": [
             [
              0,
              "#0d0887"
             ],
             [
              0.1111111111111111,
              "#46039f"
             ],
             [
              0.2222222222222222,
              "#7201a8"
             ],
             [
              0.3333333333333333,
              "#9c179e"
             ],
             [
              0.4444444444444444,
              "#bd3786"
             ],
             [
              0.5555555555555556,
              "#d8576b"
             ],
             [
              0.6666666666666666,
              "#ed7953"
             ],
             [
              0.7777777777777778,
              "#fb9f3a"
             ],
             [
              0.8888888888888888,
              "#fdca26"
             ],
             [
              1,
              "#f0f921"
             ]
            ],
            "type": "histogram2dcontour"
           }
          ],
          "mesh3d": [
           {
            "colorbar": {
             "outlinewidth": 0,
             "ticks": ""
            },
            "type": "mesh3d"
           }
          ],
          "parcoords": [
           {
            "line": {
             "colorbar": {
              "outlinewidth": 0,
              "ticks": ""
             }
            },
            "type": "parcoords"
           }
          ],
          "pie": [
           {
            "automargin": true,
            "type": "pie"
           }
          ],
          "scatter": [
           {
            "marker": {
             "colorbar": {
              "outlinewidth": 0,
              "ticks": ""
             }
            },
            "type": "scatter"
           }
          ],
          "scatter3d": [
           {
            "line": {
             "colorbar": {
              "outlinewidth": 0,
              "ticks": ""
             }
            },
            "marker": {
             "colorbar": {
              "outlinewidth": 0,
              "ticks": ""
             }
            },
            "type": "scatter3d"
           }
          ],
          "scattercarpet": [
           {
            "marker": {
             "colorbar": {
              "outlinewidth": 0,
              "ticks": ""
             }
            },
            "type": "scattercarpet"
           }
          ],
          "scattergeo": [
           {
            "marker": {
             "colorbar": {
              "outlinewidth": 0,
              "ticks": ""
             }
            },
            "type": "scattergeo"
           }
          ],
          "scattergl": [
           {
            "marker": {
             "colorbar": {
              "outlinewidth": 0,
              "ticks": ""
             }
            },
            "type": "scattergl"
           }
          ],
          "scattermapbox": [
           {
            "marker": {
             "colorbar": {
              "outlinewidth": 0,
              "ticks": ""
             }
            },
            "type": "scattermapbox"
           }
          ],
          "scatterpolar": [
           {
            "marker": {
             "colorbar": {
              "outlinewidth": 0,
              "ticks": ""
             }
            },
            "type": "scatterpolar"
           }
          ],
          "scatterpolargl": [
           {
            "marker": {
             "colorbar": {
              "outlinewidth": 0,
              "ticks": ""
             }
            },
            "type": "scatterpolargl"
           }
          ],
          "scatterternary": [
           {
            "marker": {
             "colorbar": {
              "outlinewidth": 0,
              "ticks": ""
             }
            },
            "type": "scatterternary"
           }
          ],
          "surface": [
           {
            "colorbar": {
             "outlinewidth": 0,
             "ticks": ""
            },
            "colorscale": [
             [
              0,
              "#0d0887"
             ],
             [
              0.1111111111111111,
              "#46039f"
             ],
             [
              0.2222222222222222,
              "#7201a8"
             ],
             [
              0.3333333333333333,
              "#9c179e"
             ],
             [
              0.4444444444444444,
              "#bd3786"
             ],
             [
              0.5555555555555556,
              "#d8576b"
             ],
             [
              0.6666666666666666,
              "#ed7953"
             ],
             [
              0.7777777777777778,
              "#fb9f3a"
             ],
             [
              0.8888888888888888,
              "#fdca26"
             ],
             [
              1,
              "#f0f921"
             ]
            ],
            "type": "surface"
           }
          ],
          "table": [
           {
            "cells": {
             "fill": {
              "color": "#EBF0F8"
             },
             "line": {
              "color": "white"
             }
            },
            "header": {
             "fill": {
              "color": "#C8D4E3"
             },
             "line": {
              "color": "white"
             }
            },
            "type": "table"
           }
          ]
         },
         "layout": {
          "annotationdefaults": {
           "arrowcolor": "#2a3f5f",
           "arrowhead": 0,
           "arrowwidth": 1
          },
          "autotypenumbers": "strict",
          "coloraxis": {
           "colorbar": {
            "outlinewidth": 0,
            "ticks": ""
           }
          },
          "colorscale": {
           "diverging": [
            [
             0,
             "#8e0152"
            ],
            [
             0.1,
             "#c51b7d"
            ],
            [
             0.2,
             "#de77ae"
            ],
            [
             0.3,
             "#f1b6da"
            ],
            [
             0.4,
             "#fde0ef"
            ],
            [
             0.5,
             "#f7f7f7"
            ],
            [
             0.6,
             "#e6f5d0"
            ],
            [
             0.7,
             "#b8e186"
            ],
            [
             0.8,
             "#7fbc41"
            ],
            [
             0.9,
             "#4d9221"
            ],
            [
             1,
             "#276419"
            ]
           ],
           "sequential": [
            [
             0,
             "#0d0887"
            ],
            [
             0.1111111111111111,
             "#46039f"
            ],
            [
             0.2222222222222222,
             "#7201a8"
            ],
            [
             0.3333333333333333,
             "#9c179e"
            ],
            [
             0.4444444444444444,
             "#bd3786"
            ],
            [
             0.5555555555555556,
             "#d8576b"
            ],
            [
             0.6666666666666666,
             "#ed7953"
            ],
            [
             0.7777777777777778,
             "#fb9f3a"
            ],
            [
             0.8888888888888888,
             "#fdca26"
            ],
            [
             1,
             "#f0f921"
            ]
           ],
           "sequentialminus": [
            [
             0,
             "#0d0887"
            ],
            [
             0.1111111111111111,
             "#46039f"
            ],
            [
             0.2222222222222222,
             "#7201a8"
            ],
            [
             0.3333333333333333,
             "#9c179e"
            ],
            [
             0.4444444444444444,
             "#bd3786"
            ],
            [
             0.5555555555555556,
             "#d8576b"
            ],
            [
             0.6666666666666666,
             "#ed7953"
            ],
            [
             0.7777777777777778,
             "#fb9f3a"
            ],
            [
             0.8888888888888888,
             "#fdca26"
            ],
            [
             1,
             "#f0f921"
            ]
           ]
          },
          "colorway": [
           "#636efa",
           "#EF553B",
           "#00cc96",
           "#ab63fa",
           "#FFA15A",
           "#19d3f3",
           "#FF6692",
           "#B6E880",
           "#FF97FF",
           "#FECB52"
          ],
          "font": {
           "color": "#2a3f5f"
          },
          "geo": {
           "bgcolor": "white",
           "lakecolor": "white",
           "landcolor": "#E5ECF6",
           "showlakes": true,
           "showland": true,
           "subunitcolor": "white"
          },
          "hoverlabel": {
           "align": "left"
          },
          "hovermode": "closest",
          "mapbox": {
           "style": "light"
          },
          "paper_bgcolor": "white",
          "plot_bgcolor": "#E5ECF6",
          "polar": {
           "angularaxis": {
            "gridcolor": "white",
            "linecolor": "white",
            "ticks": ""
           },
           "bgcolor": "#E5ECF6",
           "radialaxis": {
            "gridcolor": "white",
            "linecolor": "white",
            "ticks": ""
           }
          },
          "scene": {
           "xaxis": {
            "backgroundcolor": "#E5ECF6",
            "gridcolor": "white",
            "gridwidth": 2,
            "linecolor": "white",
            "showbackground": true,
            "ticks": "",
            "zerolinecolor": "white"
           },
           "yaxis": {
            "backgroundcolor": "#E5ECF6",
            "gridcolor": "white",
            "gridwidth": 2,
            "linecolor": "white",
            "showbackground": true,
            "ticks": "",
            "zerolinecolor": "white"
           },
           "zaxis": {
            "backgroundcolor": "#E5ECF6",
            "gridcolor": "white",
            "gridwidth": 2,
            "linecolor": "white",
            "showbackground": true,
            "ticks": "",
            "zerolinecolor": "white"
           }
          },
          "shapedefaults": {
           "line": {
            "color": "#2a3f5f"
           }
          },
          "ternary": {
           "aaxis": {
            "gridcolor": "white",
            "linecolor": "white",
            "ticks": ""
           },
           "baxis": {
            "gridcolor": "white",
            "linecolor": "white",
            "ticks": ""
           },
           "bgcolor": "#E5ECF6",
           "caxis": {
            "gridcolor": "white",
            "linecolor": "white",
            "ticks": ""
           }
          },
          "title": {
           "x": 0.05
          },
          "xaxis": {
           "automargin": true,
           "gridcolor": "white",
           "linecolor": "white",
           "ticks": "",
           "title": {
            "standoff": 15
           },
           "zerolinecolor": "white",
           "zerolinewidth": 2
          },
          "yaxis": {
           "automargin": true,
           "gridcolor": "white",
           "linecolor": "white",
           "ticks": "",
           "title": {
            "standoff": 15
           },
           "zerolinecolor": "white",
           "zerolinewidth": 2
          }
         }
        },
        "title": {
         "text": "% of units sold that were condos"
        },
        "width": 800,
        "xaxis": {
         "anchor": "y",
         "domain": [
          0,
          0.16799999999999998
         ]
        },
        "xaxis10": {
         "anchor": "y10",
         "domain": [
          0.832,
          1
         ]
        },
        "xaxis11": {
         "anchor": "y11",
         "domain": [
          0,
          0.16799999999999998
         ]
        },
        "xaxis12": {
         "anchor": "y12",
         "domain": [
          0.208,
          0.376
         ]
        },
        "xaxis13": {
         "anchor": "y13",
         "domain": [
          0.416,
          0.584
         ]
        },
        "xaxis14": {
         "anchor": "y14",
         "domain": [
          0.624,
          0.792
         ]
        },
        "xaxis15": {
         "anchor": "y15",
         "domain": [
          0.832,
          1
         ]
        },
        "xaxis16": {
         "anchor": "y16",
         "domain": [
          0,
          0.16799999999999998
         ]
        },
        "xaxis17": {
         "anchor": "y17",
         "domain": [
          0.208,
          0.376
         ]
        },
        "xaxis18": {
         "anchor": "y18",
         "domain": [
          0.416,
          0.584
         ]
        },
        "xaxis19": {
         "anchor": "y19",
         "domain": [
          0.624,
          0.792
         ]
        },
        "xaxis2": {
         "anchor": "y2",
         "domain": [
          0.208,
          0.376
         ]
        },
        "xaxis20": {
         "anchor": "y20",
         "domain": [
          0.832,
          1
         ]
        },
        "xaxis21": {
         "anchor": "y21",
         "domain": [
          0,
          0.16799999999999998
         ]
        },
        "xaxis22": {
         "anchor": "y22",
         "domain": [
          0.208,
          0.376
         ]
        },
        "xaxis23": {
         "anchor": "y23",
         "domain": [
          0.416,
          0.584
         ]
        },
        "xaxis24": {
         "anchor": "y24",
         "domain": [
          0.624,
          0.792
         ]
        },
        "xaxis25": {
         "anchor": "y25",
         "domain": [
          0.832,
          1
         ]
        },
        "xaxis3": {
         "anchor": "y3",
         "domain": [
          0.416,
          0.584
         ]
        },
        "xaxis4": {
         "anchor": "y4",
         "domain": [
          0.624,
          0.792
         ]
        },
        "xaxis5": {
         "anchor": "y5",
         "domain": [
          0.832,
          1
         ]
        },
        "xaxis6": {
         "anchor": "y6",
         "domain": [
          0,
          0.16799999999999998
         ]
        },
        "xaxis7": {
         "anchor": "y7",
         "domain": [
          0.208,
          0.376
         ]
        },
        "xaxis8": {
         "anchor": "y8",
         "domain": [
          0.416,
          0.584
         ]
        },
        "xaxis9": {
         "anchor": "y9",
         "domain": [
          0.624,
          0.792
         ]
        },
        "yaxis": {
         "anchor": "x",
         "domain": [
          0.88,
          1
         ],
         "range": [
          0,
          1
         ]
        },
        "yaxis10": {
         "anchor": "x10",
         "domain": [
          0.66,
          0.78
         ],
         "matches": "y6",
         "range": [
          0,
          1
         ],
         "showticklabels": false
        },
        "yaxis11": {
         "anchor": "x11",
         "domain": [
          0.44,
          0.56
         ],
         "range": [
          0,
          1
         ]
        },
        "yaxis12": {
         "anchor": "x12",
         "domain": [
          0.44,
          0.56
         ],
         "matches": "y11",
         "range": [
          0,
          1
         ],
         "showticklabels": false
        },
        "yaxis13": {
         "anchor": "x13",
         "domain": [
          0.44,
          0.56
         ],
         "matches": "y11",
         "range": [
          0,
          1
         ],
         "showticklabels": false
        },
        "yaxis14": {
         "anchor": "x14",
         "domain": [
          0.44,
          0.56
         ],
         "matches": "y11",
         "range": [
          0,
          1
         ],
         "showticklabels": false
        },
        "yaxis15": {
         "anchor": "x15",
         "domain": [
          0.44,
          0.56
         ],
         "matches": "y11",
         "range": [
          0,
          1
         ],
         "showticklabels": false
        },
        "yaxis16": {
         "anchor": "x16",
         "domain": [
          0.22,
          0.33999999999999997
         ],
         "range": [
          0,
          1
         ]
        },
        "yaxis17": {
         "anchor": "x17",
         "domain": [
          0.22,
          0.33999999999999997
         ],
         "matches": "y16",
         "range": [
          0,
          1
         ],
         "showticklabels": false
        },
        "yaxis18": {
         "anchor": "x18",
         "domain": [
          0.22,
          0.33999999999999997
         ],
         "matches": "y16",
         "range": [
          0,
          1
         ],
         "showticklabels": false
        },
        "yaxis19": {
         "anchor": "x19",
         "domain": [
          0.22,
          0.33999999999999997
         ],
         "matches": "y16",
         "range": [
          0,
          1
         ],
         "showticklabels": false
        },
        "yaxis2": {
         "anchor": "x2",
         "domain": [
          0.88,
          1
         ],
         "matches": "y",
         "range": [
          0,
          1
         ],
         "showticklabels": false
        },
        "yaxis20": {
         "anchor": "x20",
         "domain": [
          0.22,
          0.33999999999999997
         ],
         "matches": "y16",
         "range": [
          0,
          1
         ],
         "showticklabels": false
        },
        "yaxis21": {
         "anchor": "x21",
         "domain": [
          0,
          0.12
         ],
         "range": [
          0,
          1
         ]
        },
        "yaxis22": {
         "anchor": "x22",
         "domain": [
          0,
          0.12
         ],
         "matches": "y21",
         "range": [
          0,
          1
         ],
         "showticklabels": false
        },
        "yaxis23": {
         "anchor": "x23",
         "domain": [
          0,
          0.12
         ],
         "matches": "y21",
         "range": [
          0,
          1
         ],
         "showticklabels": false
        },
        "yaxis24": {
         "anchor": "x24",
         "domain": [
          0,
          0.12
         ],
         "matches": "y21",
         "range": [
          0,
          1
         ],
         "showticklabels": false
        },
        "yaxis25": {
         "anchor": "x25",
         "domain": [
          0,
          0.12
         ],
         "matches": "y21",
         "range": [
          0,
          1
         ],
         "showticklabels": false
        },
        "yaxis3": {
         "anchor": "x3",
         "domain": [
          0.88,
          1
         ],
         "matches": "y",
         "range": [
          0,
          1
         ],
         "showticklabels": false
        },
        "yaxis4": {
         "anchor": "x4",
         "domain": [
          0.88,
          1
         ],
         "matches": "y",
         "range": [
          0,
          1
         ],
         "showticklabels": false
        },
        "yaxis5": {
         "anchor": "x5",
         "domain": [
          0.88,
          1
         ],
         "matches": "y",
         "range": [
          0,
          1
         ],
         "showticklabels": false
        },
        "yaxis6": {
         "anchor": "x6",
         "domain": [
          0.66,
          0.78
         ],
         "range": [
          0,
          1
         ]
        },
        "yaxis7": {
         "anchor": "x7",
         "domain": [
          0.66,
          0.78
         ],
         "matches": "y6",
         "range": [
          0,
          1
         ],
         "showticklabels": false
        },
        "yaxis8": {
         "anchor": "x8",
         "domain": [
          0.66,
          0.78
         ],
         "matches": "y6",
         "range": [
          0,
          1
         ],
         "showticklabels": false
        },
        "yaxis9": {
         "anchor": "x9",
         "domain": [
          0.66,
          0.78
         ],
         "matches": "y6",
         "range": [
          0,
          1
         ],
         "showticklabels": false
        }
       }
      },
      "text/html": [
       "<div>                            <div id=\"736655d5-0125-4bf6-961e-4fcfcbff0946\" class=\"plotly-graph-div\" style=\"height:800px; width:800px;\"></div>            <script type=\"text/javascript\">                require([\"plotly\"], function(Plotly) {                    window.PLOTLYENV=window.PLOTLYENV || {};                                    if (document.getElementById(\"736655d5-0125-4bf6-961e-4fcfcbff0946\")) {                    Plotly.newPlot(                        \"736655d5-0125-4bf6-961e-4fcfcbff0946\",                        [{\"type\":\"scatter\",\"x\":[2003.0,2004.0,2005.0,2006.0,2007.0,2008.0,2009.0,2010.0,2011.0,2012.0,2013.0,2014.0,2015.0,2016.0,2017.0,2018.0,2019.0,2020.0],\"xaxis\":\"x\",\"y\":[0.8668407310704961,0.8893360160965795,0.910913140311804,0.881578947368421,0.9250720461095101,0.9452662721893491,0.9452662721893491,0.9646464646464646,0.9135802469135802,0.9303675048355899,0.9102564102564102,0.9118457300275482,0.922879177377892,0.9425,0.9409090909090909,0.9176829268292683,0.92,0.9530685920577617],\"yaxis\":\"y\"},{\"type\":\"scatter\",\"x\":[2003.0,2004.0,2005.0,2006.0,2007.0,2008.0,2009.0,2010.0,2011.0,2012.0,2013.0,2014.0,2015.0,2016.0,2017.0,2018.0,2019.0,2020.0],\"xaxis\":\"x2\",\"y\":[0.7027027027027027,0.65,0.8333333333333334,0.8495575221238938,0.7777777777777778,0.8854166666666666,0.8854166666666666,0.8651685393258427,0.7857142857142857,0.7037037037037037,0.8648648648648649,0.8849557522123894,0.8117647058823529,0.821917808219178,0.8823529411764706,0.8518518518518519,0.9620253164556962,0.9285714285714286],\"yaxis\":\"y2\"},{\"type\":\"scatter\",\"x\":[2003.0,2004.0,2005.0,2006.0,2007.0,2008.0,2009.0,2010.0,2011.0,2012.0,2013.0,2014.0,2015.0,2016.0,2017.0,2018.0,2019.0,2020.0],\"xaxis\":\"x3\",\"y\":[0.32558139534883723,0.5487804878048781,0.6909090909090909,0.9729411764705882,0.9688929551692589,0.9677790563866513,0.9677790563866513,0.9810996563573883,0.9579646017699115,0.9375,0.955719557195572,0.9647058823529412,0.9544513457556936,0.9572072072072072,0.9454926624737946,0.9577464788732394,0.9299610894941635,0.9246231155778895],\"yaxis\":\"y3\"},{\"type\":\"scatter\",\"x\":[2003.0,2004.0,2005.0,2006.0,2007.0,2008.0,2009.0,2010.0,2011.0,2012.0,2013.0,2014.0,2015.0,2016.0,2017.0,2018.0,2019.0,2020.0],\"xaxis\":\"x4\",\"y\":[0.8090909090909091,0.7783505154639175,0.745,0.5689655172413793,0.7209302325581395,0.8508474576271187,0.8508474576271187,0.9081081081081082,0.6885245901639344,0.857707509881423,0.725,0.78,0.7257142857142858,0.5833333333333334,0.5746268656716418,0.5086206896551724,0.6964285714285714,0.7095588235294118],\"yaxis\":\"y4\"},{\"type\":\"scatter\",\"x\":[2003.0,2004.0,2005.0,2006.0,2007.0,2008.0,2009.0,2010.0,2011.0,2012.0,2013.0,2014.0,2015.0,2016.0,2017.0,2018.0,2019.0,2020.0],\"xaxis\":\"x5\",\"y\":[0.2822085889570552,0.291866028708134,0.31645569620253167,0.7253521126760564,0.824212271973466,0.8994011976047904,0.8994011976047904,0.7983193277310925,0.6970802919708029,0.8119047619047619,0.6413043478260869,0.5849056603773585,0.7946666666666666,0.71875,0.7548387096774194,0.706959706959707,0.6160337552742616,0.6610169491525424],\"yaxis\":\"y5\"},{\"type\":\"scatter\",\"x\":[2003.0,2004.0,2005.0,2006.0,2007.0,2008.0,2009.0,2010.0,2011.0,2012.0,2013.0,2014.0,2015.0,2016.0,2017.0,2018.0,2019.0,2020.0],\"xaxis\":\"x6\",\"y\":[0.5516279069767441,0.5890318212593094,0.5422106179286336,0.5852272727272727,0.6934942991281019,0.7110609480812641,0.7110609480812641,0.7766497461928934,0.58683314415437,0.6411483253588517,0.5492537313432836,0.590134529147982,0.5849227974568574,0.5907473309608541,0.6282051282051282,0.6320093457943925,0.6208092485549133,0.6547619047619048],\"yaxis\":\"y6\"},{\"type\":\"scatter\",\"x\":[2003.0,2004.0,2005.0,2006.0,2007.0,2008.0,2009.0,2010.0,2011.0,2012.0,2013.0,2014.0,2015.0,2016.0,2017.0,2018.0,2019.0,2020.0],\"xaxis\":\"x7\",\"y\":[0.4517374517374517,0.5846560846560847,0.6349206349206349,0.623229461756374,0.6912928759894459,0.5564853556485355,0.5564853556485355,0.8158844765342961,0.5987654320987654,0.5221518987341772,0.6291390728476821,0.5691699604743083,0.5240174672489083,0.5672268907563025,0.5082644628099173,0.5162790697674419,0.5816326530612245,0.6470588235294118],\"yaxis\":\"y7\"},{\"type\":\"scatter\",\"x\":[2003.0,2004.0,2005.0,2006.0,2007.0,2008.0,2009.0,2010.0,2011.0,2012.0,2013.0,2014.0,2015.0,2016.0,2017.0,2018.0,2019.0,2020.0],\"xaxis\":\"x8\",\"y\":[0.24173553719008264,0.34649122807017546,0.46953405017921146,0.3939662821650399,0.5913163335630599,0.6830985915492958,0.6830985915492958,0.6271186440677966,0.5669781931464174,0.5512489233419466,0.566804979253112,0.49868536371603855,0.5348214285714286,0.5520082389289392,0.5428571428571428,0.5175537938844847,0.5670995670995671,0.603030303030303],\"yaxis\":\"y8\"},{\"type\":\"scatter\",\"x\":[2003.0,2004.0,2005.0,2006.0,2007.0,2008.0,2009.0,2010.0,2011.0,2012.0,2013.0,2014.0,2015.0,2016.0,2017.0,2018.0,2019.0,2020.0],\"xaxis\":\"x9\",\"y\":[0.467502850627138,0.4550438596491228,0.48135593220338985,0.7479119210326499,0.6148514851485148,0.769098712446352,0.769098712446352,0.7683333333333333,0.6304106548279689,0.668693009118541,0.5798403193612774,0.6056644880174292,0.5292014302741359,0.5188141391106044,0.5430809399477807,0.634965034965035,0.6135734072022161,0.6021978021978022],\"yaxis\":\"y9\"},{\"type\":\"scatter\",\"x\":[2003.0,2004.0,2005.0,2006.0,2007.0,2008.0,2009.0,2010.0,2011.0,2012.0,2013.0,2014.0,2015.0,2016.0,2017.0,2018.0,2019.0,2020.0],\"xaxis\":\"x10\",\"y\":[0.5270302452964991,0.4887627695800227,0.5234657039711191,0.511130384504192,0.54673721340388,0.5953644233454343,0.5953644233454343,0.713907284768212,0.5470332850940666,0.5249554367201426,0.5353565114908663,0.5372758729160113,0.5453976205385097,0.5369971264367817,0.5428571428571428,0.51640625,0.5120341614906833,0.5973856209150327],\"yaxis\":\"y10\"},{\"type\":\"scatter\",\"x\":[2003.0,2004.0,2005.0,2006.0,2007.0,2008.0,2009.0,2010.0,2011.0,2012.0,2013.0,2014.0,2015.0,2016.0,2017.0,2018.0,2019.0,2020.0],\"xaxis\":\"x11\",\"y\":[0.04477611940298507,0.08333333333333333,0.0547945205479452,0.030303030303030304,0.02040816326530612,0.06382978723404255,0.06382978723404255,0.3333333333333333,0.19444444444444445,null,0.034482758620689655,0.06060606060606061,0.08823529411764706,0.2222222222222222,0.15384615384615385,0.12903225806451613,0.8947368421052632,0.5238095238095238],\"yaxis\":\"y11\"},{\"type\":\"scatter\",\"x\":[2003.0,2004.0,2005.0,2006.0,2007.0,2008.0,2009.0,2010.0,2011.0,2012.0,2013.0,2014.0,2015.0,2016.0,2017.0,2018.0,2019.0,2020.0],\"xaxis\":\"x12\",\"y\":[0.3299492385786802,0.3057324840764331,0.3987730061349693,0.3681592039800995,0.27411167512690354,0.6470588235294118,0.6470588235294118,0.6272727272727273,0.5652173913043478,0.42473118279569894,0.4394904458598726,0.7170542635658915,0.46111111111111114,0.460431654676259,0.4868421052631579,0.6872037914691943,0.49019607843137253,0.5233644859813084],\"yaxis\":\"y12\"},{\"type\":\"scatter\",\"x\":[2003.0,2004.0,2005.0,2006.0,2007.0,2008.0,2009.0,2010.0,2011.0,2012.0,2013.0,2014.0,2015.0,2016.0,2017.0,2018.0,2019.0,2020.0],\"xaxis\":\"x13\",\"y\":[0.5692419825072886,0.5099875156054932,0.526597643698679,0.673365326934613,0.5997318136104592,0.671900826446281,0.671900826446281,0.72713529856387,0.6368086147821831,0.6028217186831979,0.5323741007194245,0.4918815663801337,0.5442820292347378,0.5380145278450363,0.5235525024533857,0.5147058823529411,0.5505558496559025,0.5223765432098766],\"yaxis\":\"y13\"},{\"type\":\"scatter\",\"x\":[2003.0,2004.0,2005.0,2006.0,2007.0,2008.0,2009.0,2010.0,2011.0,2012.0,2013.0,2014.0,2015.0,2016.0,2017.0,2018.0,2019.0,2020.0],\"xaxis\":\"x14\",\"y\":[0.30057803468208094,0.21095890410958903,0.2735294117647059,0.46226415094339623,0.322884012539185,0.24596774193548387,0.24596774193548387,0.5363128491620112,0.3,0.3115727002967359,0.3188010899182561,0.24915824915824916,0.24014336917562723,0.26199261992619927,0.3283582089552239,0.56973293768546,0.7160714285714286,0.4722222222222222],\"yaxis\":\"y14\"},{\"type\":\"scatter\",\"x\":[2003.0,2004.0,2005.0,2006.0,2007.0,2008.0,2009.0,2010.0,2011.0,2012.0,2013.0,2014.0,2015.0,2016.0,2017.0,2018.0,2019.0,2020.0],\"xaxis\":\"x15\",\"y\":[0.2764227642276423,0.2998955067920585,0.38995726495726496,0.4069119286510591,0.5184233076263924,0.46946564885496184,0.46946564885496184,0.6564551422319475,0.4034833091436865,0.48951781970649894,0.41081081081081083,0.46555323590814196,0.4845360824742268,0.4930817610062893,0.4268456375838926,0.4559659090909091,0.5605573419078242,0.4177215189873418],\"yaxis\":\"y15\"},{\"type\":\"scatter\",\"x\":[2003.0,2004.0,2005.0,2006.0,2007.0,2008.0,2009.0,2010.0,2011.0,2012.0,2013.0,2014.0,2015.0,2016.0,2017.0,2018.0,2019.0,2020.0],\"xaxis\":\"x16\",\"y\":[0.3509157509157509,0.43905397210430563,0.3800287356321839,0.28426395939086296,0.4489296636085627,0.40800762631077214,0.40800762631077214,0.5946348733233979,0.3714574898785425,0.4517374517374517,0.3887959866220736,0.38649155722326456,0.39924314096499525,0.43739279588336194,0.40129449838187703,0.39680851063829786,0.3895582329317269,0.40399002493765584],\"yaxis\":\"y16\"},{\"type\":\"scatter\",\"x\":[2003.0,2004.0,2005.0,2006.0,2007.0,2008.0,2009.0,2010.0,2011.0,2012.0,2013.0,2014.0,2015.0,2016.0,2017.0,2018.0,2019.0,2020.0],\"xaxis\":\"x17\",\"y\":[0.4794463953728568,0.3912497383294955,0.3872845831392641,0.4155117270788913,0.4139705882352941,0.5170407315045719,0.5170407315045719,0.5821984435797666,0.3993150684931507,0.4229144667370644,0.3980021030494217,0.3875669244497323,0.4465426270480422,0.4419889502762431,0.41835147744945567,0.42073578595317723,0.37594254937163374,0.40062667860340195],\"yaxis\":\"y17\"},{\"type\":\"scatter\",\"x\":[2003.0,2004.0,2005.0,2006.0,2007.0,2008.0,2009.0,2010.0,2011.0,2012.0,2013.0,2014.0,2015.0,2016.0,2017.0,2018.0,2019.0,2020.0],\"xaxis\":\"x18\",\"y\":[0.40559440559440557,0.36585365853658536,0.46153846153846156,0.2857142857142857,0.4473684210526316,0.37735849056603776,0.37735849056603776,0.5897435897435898,0.3619047619047619,0.3548387096774194,0.39705882352941174,0.26618705035971224,0.3953488372093023,0.5755395683453237,0.5568862275449101,0.25874125874125875,0.2903225806451613,0.37606837606837606],\"yaxis\":\"y18\"},{\"type\":\"scatter\",\"x\":[2003.0,2004.0,2005.0,2006.0,2007.0,2008.0,2009.0,2010.0,2011.0,2012.0,2013.0,2014.0,2015.0,2016.0,2017.0,2018.0,2019.0,2020.0],\"xaxis\":\"x19\",\"y\":[0.03389830508474576,0.09807692307692308,0.12307692307692308,0.027777777777777776,0.03625954198473282,0.136986301369863,0.136986301369863,0.18674698795180722,0.17088607594936708,0.07567567567567568,0.156312625250501,0.18198874296435272,0.18003913894324852,0.15990453460620524,0.18820224719101122,0.1122715404699739,0.2158273381294964,0.20074349442379183],\"yaxis\":\"y19\"},{\"type\":\"scatter\",\"x\":[2003.0,2004.0,2005.0,2006.0,2007.0,2008.0,2009.0,2010.0,2011.0,2012.0,2013.0,2014.0,2015.0,2016.0,2017.0,2018.0,2019.0,2020.0],\"xaxis\":\"x20\",\"y\":[0.014285714285714285,0.011363636363636364,null,0.030927835051546393,null,null,null,null,0.02040816326530612,0.03076923076923077,null,0.0125,null,null,null,0.03076923076923077,0.025974025974025976,0.034482758620689655],\"yaxis\":\"y20\"}],                        {\"annotations\":[{\"font\":{\"size\":12},\"showarrow\":false,\"text\":\"tribeca\",\"x\":0.08399999999999999,\"xanchor\":\"center\",\"xref\":\"paper\",\"y\":1.0,\"yanchor\":\"bottom\",\"yref\":\"paper\"},{\"font\":{\"size\":12},\"showarrow\":false,\"text\":\"chinatown\",\"x\":0.292,\"xanchor\":\"center\",\"xref\":\"paper\",\"y\":1.0,\"yanchor\":\"bottom\",\"yref\":\"paper\"},{\"font\":{\"size\":12},\"showarrow\":false,\"text\":\"financial\",\"x\":0.5,\"xanchor\":\"center\",\"xref\":\"paper\",\"y\":1.0,\"yanchor\":\"bottom\",\"yref\":\"paper\"},{\"font\":{\"size\":12},\"showarrow\":false,\"text\":\"lower manhattan\",\"x\":0.708,\"xanchor\":\"center\",\"xref\":\"paper\",\"y\":1.0,\"yanchor\":\"bottom\",\"yref\":\"paper\"},{\"font\":{\"size\":12},\"showarrow\":false,\"text\":\"hells kitchen\",\"x\":0.9159999999999999,\"xanchor\":\"center\",\"xref\":\"paper\",\"y\":1.0,\"yanchor\":\"bottom\",\"yref\":\"paper\"},{\"font\":{\"size\":12},\"showarrow\":false,\"text\":\"murray hill\",\"x\":0.08399999999999999,\"xanchor\":\"center\",\"xref\":\"paper\",\"y\":0.78,\"yanchor\":\"bottom\",\"yref\":\"paper\"},{\"font\":{\"size\":12},\"showarrow\":false,\"text\":\"soho\",\"x\":0.292,\"xanchor\":\"center\",\"xref\":\"paper\",\"y\":0.78,\"yanchor\":\"bottom\",\"yref\":\"paper\"},{\"font\":{\"size\":12},\"showarrow\":false,\"text\":\"harlem\",\"x\":0.5,\"xanchor\":\"center\",\"xref\":\"paper\",\"y\":0.78,\"yanchor\":\"bottom\",\"yref\":\"paper\"},{\"font\":{\"size\":12},\"showarrow\":false,\"text\":\"chelsea\",\"x\":0.708,\"xanchor\":\"center\",\"xref\":\"paper\",\"y\":0.78,\"yanchor\":\"bottom\",\"yref\":\"paper\"},{\"font\":{\"size\":12},\"showarrow\":false,\"text\":\"UWS\",\"x\":0.9159999999999999,\"xanchor\":\"center\",\"xref\":\"paper\",\"y\":0.78,\"yanchor\":\"bottom\",\"yref\":\"paper\"},{\"font\":{\"size\":12},\"showarrow\":false,\"text\":\"javits center\",\"x\":0.08399999999999999,\"xanchor\":\"center\",\"xref\":\"paper\",\"y\":0.56,\"yanchor\":\"bottom\",\"yref\":\"paper\"},{\"font\":{\"size\":12},\"showarrow\":false,\"text\":\"east village\",\"x\":0.292,\"xanchor\":\"center\",\"xref\":\"paper\",\"y\":0.56,\"yanchor\":\"bottom\",\"yref\":\"paper\"},{\"font\":{\"size\":12},\"showarrow\":false,\"text\":\"midtown\",\"x\":0.5,\"xanchor\":\"center\",\"xref\":\"paper\",\"y\":0.56,\"yanchor\":\"bottom\",\"yref\":\"paper\"},{\"font\":{\"size\":12},\"showarrow\":false,\"text\":\"LES\",\"x\":0.708,\"xanchor\":\"center\",\"xref\":\"paper\",\"y\":0.56,\"yanchor\":\"bottom\",\"yref\":\"paper\"},{\"font\":{\"size\":12},\"showarrow\":false,\"text\":\"flatiron/gramercy\",\"x\":0.9159999999999999,\"xanchor\":\"center\",\"xref\":\"paper\",\"y\":0.56,\"yanchor\":\"bottom\",\"yref\":\"paper\"},{\"font\":{\"size\":12},\"showarrow\":false,\"text\":\"greenwich\",\"x\":0.08399999999999999,\"xanchor\":\"center\",\"xref\":\"paper\",\"y\":0.33999999999999997,\"yanchor\":\"bottom\",\"yref\":\"paper\"},{\"font\":{\"size\":12},\"showarrow\":false,\"text\":\"UES\",\"x\":0.292,\"xanchor\":\"center\",\"xref\":\"paper\",\"y\":0.33999999999999997,\"yanchor\":\"bottom\",\"yref\":\"paper\"},{\"font\":{\"size\":12},\"showarrow\":false,\"text\":\"alphabet city\",\"x\":0.5,\"xanchor\":\"center\",\"xref\":\"paper\",\"y\":0.33999999999999997,\"yanchor\":\"bottom\",\"yref\":\"paper\"},{\"font\":{\"size\":12},\"showarrow\":false,\"text\":\"washington heights\",\"x\":0.708,\"xanchor\":\"center\",\"xref\":\"paper\",\"y\":0.33999999999999997,\"yanchor\":\"bottom\",\"yref\":\"paper\"},{\"font\":{\"size\":12},\"showarrow\":false,\"text\":\"morningside heights\",\"x\":0.9159999999999999,\"xanchor\":\"center\",\"xref\":\"paper\",\"y\":0.33999999999999997,\"yanchor\":\"bottom\",\"yref\":\"paper\"}],\"height\":800,\"showlegend\":false,\"template\":{\"data\":{\"bar\":[{\"error_x\":{\"color\":\"#2a3f5f\"},\"error_y\":{\"color\":\"#2a3f5f\"},\"marker\":{\"line\":{\"color\":\"#E5ECF6\",\"width\":0.5},\"pattern\":{\"fillmode\":\"overlay\",\"size\":10,\"solidity\":0.2}},\"type\":\"bar\"}],\"barpolar\":[{\"marker\":{\"line\":{\"color\":\"#E5ECF6\",\"width\":0.5},\"pattern\":{\"fillmode\":\"overlay\",\"size\":10,\"solidity\":0.2}},\"type\":\"barpolar\"}],\"carpet\":[{\"aaxis\":{\"endlinecolor\":\"#2a3f5f\",\"gridcolor\":\"white\",\"linecolor\":\"white\",\"minorgridcolor\":\"white\",\"startlinecolor\":\"#2a3f5f\"},\"baxis\":{\"endlinecolor\":\"#2a3f5f\",\"gridcolor\":\"white\",\"linecolor\":\"white\",\"minorgridcolor\":\"white\",\"startlinecolor\":\"#2a3f5f\"},\"type\":\"carpet\"}],\"choropleth\":[{\"colorbar\":{\"outlinewidth\":0,\"ticks\":\"\"},\"type\":\"choropleth\"}],\"contour\":[{\"colorbar\":{\"outlinewidth\":0,\"ticks\":\"\"},\"colorscale\":[[0.0,\"#0d0887\"],[0.1111111111111111,\"#46039f\"],[0.2222222222222222,\"#7201a8\"],[0.3333333333333333,\"#9c179e\"],[0.4444444444444444,\"#bd3786\"],[0.5555555555555556,\"#d8576b\"],[0.6666666666666666,\"#ed7953\"],[0.7777777777777778,\"#fb9f3a\"],[0.8888888888888888,\"#fdca26\"],[1.0,\"#f0f921\"]],\"type\":\"contour\"}],\"contourcarpet\":[{\"colorbar\":{\"outlinewidth\":0,\"ticks\":\"\"},\"type\":\"contourcarpet\"}],\"heatmap\":[{\"colorbar\":{\"outlinewidth\":0,\"ticks\":\"\"},\"colorscale\":[[0.0,\"#0d0887\"],[0.1111111111111111,\"#46039f\"],[0.2222222222222222,\"#7201a8\"],[0.3333333333333333,\"#9c179e\"],[0.4444444444444444,\"#bd3786\"],[0.5555555555555556,\"#d8576b\"],[0.6666666666666666,\"#ed7953\"],[0.7777777777777778,\"#fb9f3a\"],[0.8888888888888888,\"#fdca26\"],[1.0,\"#f0f921\"]],\"type\":\"heatmap\"}],\"heatmapgl\":[{\"colorbar\":{\"outlinewidth\":0,\"ticks\":\"\"},\"colorscale\":[[0.0,\"#0d0887\"],[0.1111111111111111,\"#46039f\"],[0.2222222222222222,\"#7201a8\"],[0.3333333333333333,\"#9c179e\"],[0.4444444444444444,\"#bd3786\"],[0.5555555555555556,\"#d8576b\"],[0.6666666666666666,\"#ed7953\"],[0.7777777777777778,\"#fb9f3a\"],[0.8888888888888888,\"#fdca26\"],[1.0,\"#f0f921\"]],\"type\":\"heatmapgl\"}],\"histogram\":[{\"marker\":{\"pattern\":{\"fillmode\":\"overlay\",\"size\":10,\"solidity\":0.2}},\"type\":\"histogram\"}],\"histogram2d\":[{\"colorbar\":{\"outlinewidth\":0,\"ticks\":\"\"},\"colorscale\":[[0.0,\"#0d0887\"],[0.1111111111111111,\"#46039f\"],[0.2222222222222222,\"#7201a8\"],[0.3333333333333333,\"#9c179e\"],[0.4444444444444444,\"#bd3786\"],[0.5555555555555556,\"#d8576b\"],[0.6666666666666666,\"#ed7953\"],[0.7777777777777778,\"#fb9f3a\"],[0.8888888888888888,\"#fdca26\"],[1.0,\"#f0f921\"]],\"type\":\"histogram2d\"}],\"histogram2dcontour\":[{\"colorbar\":{\"outlinewidth\":0,\"ticks\":\"\"},\"colorscale\":[[0.0,\"#0d0887\"],[0.1111111111111111,\"#46039f\"],[0.2222222222222222,\"#7201a8\"],[0.3333333333333333,\"#9c179e\"],[0.4444444444444444,\"#bd3786\"],[0.5555555555555556,\"#d8576b\"],[0.6666666666666666,\"#ed7953\"],[0.7777777777777778,\"#fb9f3a\"],[0.8888888888888888,\"#fdca26\"],[1.0,\"#f0f921\"]],\"type\":\"histogram2dcontour\"}],\"mesh3d\":[{\"colorbar\":{\"outlinewidth\":0,\"ticks\":\"\"},\"type\":\"mesh3d\"}],\"parcoords\":[{\"line\":{\"colorbar\":{\"outlinewidth\":0,\"ticks\":\"\"}},\"type\":\"parcoords\"}],\"pie\":[{\"automargin\":true,\"type\":\"pie\"}],\"scatter\":[{\"marker\":{\"colorbar\":{\"outlinewidth\":0,\"ticks\":\"\"}},\"type\":\"scatter\"}],\"scatter3d\":[{\"line\":{\"colorbar\":{\"outlinewidth\":0,\"ticks\":\"\"}},\"marker\":{\"colorbar\":{\"outlinewidth\":0,\"ticks\":\"\"}},\"type\":\"scatter3d\"}],\"scattercarpet\":[{\"marker\":{\"colorbar\":{\"outlinewidth\":0,\"ticks\":\"\"}},\"type\":\"scattercarpet\"}],\"scattergeo\":[{\"marker\":{\"colorbar\":{\"outlinewidth\":0,\"ticks\":\"\"}},\"type\":\"scattergeo\"}],\"scattergl\":[{\"marker\":{\"colorbar\":{\"outlinewidth\":0,\"ticks\":\"\"}},\"type\":\"scattergl\"}],\"scattermapbox\":[{\"marker\":{\"colorbar\":{\"outlinewidth\":0,\"ticks\":\"\"}},\"type\":\"scattermapbox\"}],\"scatterpolar\":[{\"marker\":{\"colorbar\":{\"outlinewidth\":0,\"ticks\":\"\"}},\"type\":\"scatterpolar\"}],\"scatterpolargl\":[{\"marker\":{\"colorbar\":{\"outlinewidth\":0,\"ticks\":\"\"}},\"type\":\"scatterpolargl\"}],\"scatterternary\":[{\"marker\":{\"colorbar\":{\"outlinewidth\":0,\"ticks\":\"\"}},\"type\":\"scatterternary\"}],\"surface\":[{\"colorbar\":{\"outlinewidth\":0,\"ticks\":\"\"},\"colorscale\":[[0.0,\"#0d0887\"],[0.1111111111111111,\"#46039f\"],[0.2222222222222222,\"#7201a8\"],[0.3333333333333333,\"#9c179e\"],[0.4444444444444444,\"#bd3786\"],[0.5555555555555556,\"#d8576b\"],[0.6666666666666666,\"#ed7953\"],[0.7777777777777778,\"#fb9f3a\"],[0.8888888888888888,\"#fdca26\"],[1.0,\"#f0f921\"]],\"type\":\"surface\"}],\"table\":[{\"cells\":{\"fill\":{\"color\":\"#EBF0F8\"},\"line\":{\"color\":\"white\"}},\"header\":{\"fill\":{\"color\":\"#C8D4E3\"},\"line\":{\"color\":\"white\"}},\"type\":\"table\"}]},\"layout\":{\"annotationdefaults\":{\"arrowcolor\":\"#2a3f5f\",\"arrowhead\":0,\"arrowwidth\":1},\"autotypenumbers\":\"strict\",\"coloraxis\":{\"colorbar\":{\"outlinewidth\":0,\"ticks\":\"\"}},\"colorscale\":{\"diverging\":[[0,\"#8e0152\"],[0.1,\"#c51b7d\"],[0.2,\"#de77ae\"],[0.3,\"#f1b6da\"],[0.4,\"#fde0ef\"],[0.5,\"#f7f7f7\"],[0.6,\"#e6f5d0\"],[0.7,\"#b8e186\"],[0.8,\"#7fbc41\"],[0.9,\"#4d9221\"],[1,\"#276419\"]],\"sequential\":[[0.0,\"#0d0887\"],[0.1111111111111111,\"#46039f\"],[0.2222222222222222,\"#7201a8\"],[0.3333333333333333,\"#9c179e\"],[0.4444444444444444,\"#bd3786\"],[0.5555555555555556,\"#d8576b\"],[0.6666666666666666,\"#ed7953\"],[0.7777777777777778,\"#fb9f3a\"],[0.8888888888888888,\"#fdca26\"],[1.0,\"#f0f921\"]],\"sequentialminus\":[[0.0,\"#0d0887\"],[0.1111111111111111,\"#46039f\"],[0.2222222222222222,\"#7201a8\"],[0.3333333333333333,\"#9c179e\"],[0.4444444444444444,\"#bd3786\"],[0.5555555555555556,\"#d8576b\"],[0.6666666666666666,\"#ed7953\"],[0.7777777777777778,\"#fb9f3a\"],[0.8888888888888888,\"#fdca26\"],[1.0,\"#f0f921\"]]},\"colorway\":[\"#636efa\",\"#EF553B\",\"#00cc96\",\"#ab63fa\",\"#FFA15A\",\"#19d3f3\",\"#FF6692\",\"#B6E880\",\"#FF97FF\",\"#FECB52\"],\"font\":{\"color\":\"#2a3f5f\"},\"geo\":{\"bgcolor\":\"white\",\"lakecolor\":\"white\",\"landcolor\":\"#E5ECF6\",\"showlakes\":true,\"showland\":true,\"subunitcolor\":\"white\"},\"hoverlabel\":{\"align\":\"left\"},\"hovermode\":\"closest\",\"mapbox\":{\"style\":\"light\"},\"paper_bgcolor\":\"white\",\"plot_bgcolor\":\"#E5ECF6\",\"polar\":{\"angularaxis\":{\"gridcolor\":\"white\",\"linecolor\":\"white\",\"ticks\":\"\"},\"bgcolor\":\"#E5ECF6\",\"radialaxis\":{\"gridcolor\":\"white\",\"linecolor\":\"white\",\"ticks\":\"\"}},\"scene\":{\"xaxis\":{\"backgroundcolor\":\"#E5ECF6\",\"gridcolor\":\"white\",\"gridwidth\":2,\"linecolor\":\"white\",\"showbackground\":true,\"ticks\":\"\",\"zerolinecolor\":\"white\"},\"yaxis\":{\"backgroundcolor\":\"#E5ECF6\",\"gridcolor\":\"white\",\"gridwidth\":2,\"linecolor\":\"white\",\"showbackground\":true,\"ticks\":\"\",\"zerolinecolor\":\"white\"},\"zaxis\":{\"backgroundcolor\":\"#E5ECF6\",\"gridcolor\":\"white\",\"gridwidth\":2,\"linecolor\":\"white\",\"showbackground\":true,\"ticks\":\"\",\"zerolinecolor\":\"white\"}},\"shapedefaults\":{\"line\":{\"color\":\"#2a3f5f\"}},\"ternary\":{\"aaxis\":{\"gridcolor\":\"white\",\"linecolor\":\"white\",\"ticks\":\"\"},\"baxis\":{\"gridcolor\":\"white\",\"linecolor\":\"white\",\"ticks\":\"\"},\"bgcolor\":\"#E5ECF6\",\"caxis\":{\"gridcolor\":\"white\",\"linecolor\":\"white\",\"ticks\":\"\"}},\"title\":{\"x\":0.05},\"xaxis\":{\"automargin\":true,\"gridcolor\":\"white\",\"linecolor\":\"white\",\"ticks\":\"\",\"title\":{\"standoff\":15},\"zerolinecolor\":\"white\",\"zerolinewidth\":2},\"yaxis\":{\"automargin\":true,\"gridcolor\":\"white\",\"linecolor\":\"white\",\"ticks\":\"\",\"title\":{\"standoff\":15},\"zerolinecolor\":\"white\",\"zerolinewidth\":2}}},\"title\":{\"text\":\"% of units sold that were condos\"},\"width\":800,\"xaxis\":{\"anchor\":\"y\",\"domain\":[0.0,0.16799999999999998]},\"xaxis10\":{\"anchor\":\"y10\",\"domain\":[0.832,1.0]},\"xaxis11\":{\"anchor\":\"y11\",\"domain\":[0.0,0.16799999999999998]},\"xaxis12\":{\"anchor\":\"y12\",\"domain\":[0.208,0.376]},\"xaxis13\":{\"anchor\":\"y13\",\"domain\":[0.416,0.584]},\"xaxis14\":{\"anchor\":\"y14\",\"domain\":[0.624,0.792]},\"xaxis15\":{\"anchor\":\"y15\",\"domain\":[0.832,1.0]},\"xaxis16\":{\"anchor\":\"y16\",\"domain\":[0.0,0.16799999999999998]},\"xaxis17\":{\"anchor\":\"y17\",\"domain\":[0.208,0.376]},\"xaxis18\":{\"anchor\":\"y18\",\"domain\":[0.416,0.584]},\"xaxis19\":{\"anchor\":\"y19\",\"domain\":[0.624,0.792]},\"xaxis2\":{\"anchor\":\"y2\",\"domain\":[0.208,0.376]},\"xaxis20\":{\"anchor\":\"y20\",\"domain\":[0.832,1.0]},\"xaxis21\":{\"anchor\":\"y21\",\"domain\":[0.0,0.16799999999999998]},\"xaxis22\":{\"anchor\":\"y22\",\"domain\":[0.208,0.376]},\"xaxis23\":{\"anchor\":\"y23\",\"domain\":[0.416,0.584]},\"xaxis24\":{\"anchor\":\"y24\",\"domain\":[0.624,0.792]},\"xaxis25\":{\"anchor\":\"y25\",\"domain\":[0.832,1.0]},\"xaxis3\":{\"anchor\":\"y3\",\"domain\":[0.416,0.584]},\"xaxis4\":{\"anchor\":\"y4\",\"domain\":[0.624,0.792]},\"xaxis5\":{\"anchor\":\"y5\",\"domain\":[0.832,1.0]},\"xaxis6\":{\"anchor\":\"y6\",\"domain\":[0.0,0.16799999999999998]},\"xaxis7\":{\"anchor\":\"y7\",\"domain\":[0.208,0.376]},\"xaxis8\":{\"anchor\":\"y8\",\"domain\":[0.416,0.584]},\"xaxis9\":{\"anchor\":\"y9\",\"domain\":[0.624,0.792]},\"yaxis\":{\"anchor\":\"x\",\"domain\":[0.88,1.0],\"range\":[0,1]},\"yaxis10\":{\"anchor\":\"x10\",\"domain\":[0.66,0.78],\"matches\":\"y6\",\"range\":[0,1],\"showticklabels\":false},\"yaxis11\":{\"anchor\":\"x11\",\"domain\":[0.44,0.56],\"range\":[0,1]},\"yaxis12\":{\"anchor\":\"x12\",\"domain\":[0.44,0.56],\"matches\":\"y11\",\"range\":[0,1],\"showticklabels\":false},\"yaxis13\":{\"anchor\":\"x13\",\"domain\":[0.44,0.56],\"matches\":\"y11\",\"range\":[0,1],\"showticklabels\":false},\"yaxis14\":{\"anchor\":\"x14\",\"domain\":[0.44,0.56],\"matches\":\"y11\",\"range\":[0,1],\"showticklabels\":false},\"yaxis15\":{\"anchor\":\"x15\",\"domain\":[0.44,0.56],\"matches\":\"y11\",\"range\":[0,1],\"showticklabels\":false},\"yaxis16\":{\"anchor\":\"x16\",\"domain\":[0.22,0.33999999999999997],\"range\":[0,1]},\"yaxis17\":{\"anchor\":\"x17\",\"domain\":[0.22,0.33999999999999997],\"matches\":\"y16\",\"range\":[0,1],\"showticklabels\":false},\"yaxis18\":{\"anchor\":\"x18\",\"domain\":[0.22,0.33999999999999997],\"matches\":\"y16\",\"range\":[0,1],\"showticklabels\":false},\"yaxis19\":{\"anchor\":\"x19\",\"domain\":[0.22,0.33999999999999997],\"matches\":\"y16\",\"range\":[0,1],\"showticklabels\":false},\"yaxis2\":{\"anchor\":\"x2\",\"domain\":[0.88,1.0],\"matches\":\"y\",\"range\":[0,1],\"showticklabels\":false},\"yaxis20\":{\"anchor\":\"x20\",\"domain\":[0.22,0.33999999999999997],\"matches\":\"y16\",\"range\":[0,1],\"showticklabels\":false},\"yaxis21\":{\"anchor\":\"x21\",\"domain\":[0.0,0.12],\"range\":[0,1]},\"yaxis22\":{\"anchor\":\"x22\",\"domain\":[0.0,0.12],\"matches\":\"y21\",\"range\":[0,1],\"showticklabels\":false},\"yaxis23\":{\"anchor\":\"x23\",\"domain\":[0.0,0.12],\"matches\":\"y21\",\"range\":[0,1],\"showticklabels\":false},\"yaxis24\":{\"anchor\":\"x24\",\"domain\":[0.0,0.12],\"matches\":\"y21\",\"range\":[0,1],\"showticklabels\":false},\"yaxis25\":{\"anchor\":\"x25\",\"domain\":[0.0,0.12],\"matches\":\"y21\",\"range\":[0,1],\"showticklabels\":false},\"yaxis3\":{\"anchor\":\"x3\",\"domain\":[0.88,1.0],\"matches\":\"y\",\"range\":[0,1],\"showticklabels\":false},\"yaxis4\":{\"anchor\":\"x4\",\"domain\":[0.88,1.0],\"matches\":\"y\",\"range\":[0,1],\"showticklabels\":false},\"yaxis5\":{\"anchor\":\"x5\",\"domain\":[0.88,1.0],\"matches\":\"y\",\"range\":[0,1],\"showticklabels\":false},\"yaxis6\":{\"anchor\":\"x6\",\"domain\":[0.66,0.78],\"range\":[0,1]},\"yaxis7\":{\"anchor\":\"x7\",\"domain\":[0.66,0.78],\"matches\":\"y6\",\"range\":[0,1],\"showticklabels\":false},\"yaxis8\":{\"anchor\":\"x8\",\"domain\":[0.66,0.78],\"matches\":\"y6\",\"range\":[0,1],\"showticklabels\":false},\"yaxis9\":{\"anchor\":\"x9\",\"domain\":[0.66,0.78],\"matches\":\"y6\",\"range\":[0,1],\"showticklabels\":false}},                        {\"responsive\": true}                    ).then(function(){\n",
       "                            \n",
       "var gd = document.getElementById('736655d5-0125-4bf6-961e-4fcfcbff0946');\n",
       "var x = new MutationObserver(function (mutations, observer) {{\n",
       "        var display = window.getComputedStyle(gd).display;\n",
       "        if (!display || display === 'none') {{\n",
       "            console.log([gd, 'removed!']);\n",
       "            Plotly.purge(gd);\n",
       "            observer.disconnect();\n",
       "        }}\n",
       "}});\n",
       "\n",
       "// Listen for the removal of the full notebook cells\n",
       "var notebookContainer = gd.closest('#notebook-container');\n",
       "if (notebookContainer) {{\n",
       "    x.observe(notebookContainer, {childList: true});\n",
       "}}\n",
       "\n",
       "// Listen for the clearing of the current output cell\n",
       "var outputEl = gd.closest('.output');\n",
       "if (outputEl) {{\n",
       "    x.observe(outputEl, {childList: true});\n",
       "}}\n",
       "\n",
       "                        })                };                });            </script>        </div>"
      ]
     },
     "metadata": {},
     "output_type": "display_data"
    }
   ],
   "source": [
    "#We know from prior analysis that of the three main building types, condos have the highest average price, followed\n",
    "#by coops, and then walkups. One theory as to why neighbors that are close to each other geographically might have\n",
    "#vastly different average pricing is building type mix.\n",
    "\n",
    "#We can construct a dataframe measuring this by using a groupby and pivot.\n",
    "df_buildingmix  = filtered_df.groupby([\"broader_neighborhoods\",\"broad building category\",\"year sold\"])[\"sale price\"].count()\n",
    "df_buildingmix = df_buildingmix.reset_index()\n",
    "df_buildingmix = df_buildingmix.pivot(index=[\"broader_neighborhoods\",\"year sold\"],columns=\"broad building category\",values=\"sale price\")\n",
    "\n",
    "#We convert sales counts to #s by dividing type sold by total units sold\n",
    "df_buildingmix_series = df_buildingmix.sum(axis=1)\n",
    "df_totals = df_buildingmix_series.values\n",
    "df_buildingmix = df_buildingmix.div(df_totals,axis=0)\n",
    "df_buildingmix.reset_index(inplace=True)\n",
    "\n",
    "#We can construct a datframe that looks at the share of condos sold per year per neighborhood.\n",
    "df_condos = df_buildingmix.pivot(index=\"year sold\",columns=\"broader_neighborhoods\",values=\"condos\")\n",
    "df_condos = df_condos.sort_values(df_condos.last_valid_index(), axis=1,ascending=False)\n",
    "df_condos.drop(columns=[\"other\",\"roosevelt island\",\"inwood\"],inplace=True)\n",
    "#print(df_condos)\n",
    "\n",
    "#We'll do the same for walkups\n",
    "df_walkups = df_buildingmix.pivot(index=\"year sold\",columns=\"broader_neighborhoods\",values=\"walk-ups\")\n",
    "df_walkups = df_walkups.sort_values(df_walkups.last_valid_index(), axis=1,ascending=False)\n",
    "#print(df_walkups)\n"
   ]
  },
  {
   "cell_type": "code",
   "execution_count": 396,
   "metadata": {},
   "outputs": [
    {
     "data": {
      "image/png": "[encoded data removed]",
      "text/plain": [
       "<Figure size 432x288 with 1 Axes>"
      ]
     },
     "metadata": {
      "needs_background": "light"
     },
     "output_type": "display_data"
    }
   ],
   "source": [
    "#Next we try to create a building mix index by taking share of condos sold and subtracting share of walkups sold.\n",
    "#In theory, the more condos and the fewest walkups should lead to highest prices\n",
    "\n",
    "df_buildingmix[\"mix index\"] =df_buildingmix[\"condos\"] - df_buildingmix[\"walk-ups\"]\n",
    "df_buildingmix2020 = df_buildingmix[df_buildingmix[\"year sold\"] == 2020].sort_values(by=\"mix index\")\n",
    "df_buildingmix2020.set_index([\"broader_neighborhoods\"],inplace=True)\n",
    "df_buildingmix2020.drop([\"roosevelt island\",\"inwood\"],inplace=True)\n",
    "\n",
    "x = df_buildingmix2020[[\"mix index\"]].squeeze().sort_index()\n",
    "y = pivoted_dfs_list[2].loc[2020].sort_index()\n",
    "\n",
    "plt.scatter(x, y, alpha=0.5)\n",
    "plt.xlabel(\"Building Mix\")\n",
    "plt.ylabel(\"Average Price (2020)\")\n",
    "annotations = list(df_buildingmix2020.sort_index().index)\n",
    "\n",
    "for i, label in enumerate(annotations):\n",
    "    plt.annotate(label, (x[i] * 1.05, y[i] * .95))  \n",
    "plt.show()\n",
    "\n",
    "#We do find some relationship between building mix and price. There are a few outliers worth exploring such as\n",
    "#Chinatown and Murray Hill"
   ]
  },
  {
   "cell_type": "markdown",
   "metadata": {},
   "source": [
    "3. What is the priciest zip code over time?"
   ]
  },
  {
   "cell_type": "code",
   "execution_count": 229,
   "metadata": {
    "scrolled": true
   },
   "outputs": [
    {
     "data": {
      "text/plain": [
       "zip code\n",
       "10007.0     2.0\n",
       "10013.0     2.0\n",
       "10069.0     4.0\n",
       "10012.0     6.0\n",
       "10011.0     9.0\n",
       "10024.0    11.0\n",
       "10028.0    12.0\n",
       "10065.0    12.0\n",
       "10001.0    12.0\n",
       "10021.0    13.0\n",
       "dtype: float64"
      ]
     },
     "execution_count": 229,
     "metadata": {},
     "output_type": "execute_result"
    }
   ],
   "source": [
    "#find out what zip codes are consistently pricey. ranks zip codes by avg sale price each year.\n",
    "df_zips = filtered_df.groupby([\"year sold\",\"zip code\"])[\"sale price\"].mean()\n",
    "df_zips_ranked =pd.DataFrame()\n",
    "\n",
    "for i in range(2003,2021):\n",
    "    df_zips_ranked[i] = df_zips[i].rank(axis=0,ascending=False).sort_values()\n",
    "\n",
    "#get the average rank of each zipcode over time\n",
    "df_zips_ranked.mean(axis=1).nsmallest(10).round(0)"
   ]
  },
  {
   "cell_type": "markdown",
   "metadata": {},
   "source": [
    "4. What neighborhood has the most non-cash transactions? When first inspecting the dataset I noticed a ton of 0 dollar sales tags. The dataset documentations indicates these are: transfer of ownership without cash consideration. There can be a number of reasons for a 0 dollar sale including transfers of ownership from parents to children."
   ]
  },
  {
   "cell_type": "code",
   "execution_count": 251,
   "metadata": {},
   "outputs": [
    {
     "data": {
      "text/plain": [
       "other                  94.0\n",
       "chinatown              34.0\n",
       "hells kitchen          30.0\n",
       "harlem                 24.0\n",
       "alphabet city          22.0\n",
       "roosevelt island       22.0\n",
       "soho                   22.0\n",
       "east village           21.0\n",
       "lower manhattan        20.0\n",
       "tribeca                18.0\n",
       "UWS                    18.0\n",
       "financial              18.0\n",
       "murray hill            17.0\n",
       "UES                    17.0\n",
       "javits center          17.0\n",
       "midtown                17.0\n",
       "greenwich              16.0\n",
       "LES                    15.0\n",
       "washington heights     15.0\n",
       "flatiron/gramercy      14.0\n",
       "chelsea                13.0\n",
       "inwood                 11.0\n",
       "morningside heights     7.0\n",
       "Name: broader_neighborhoods, dtype: float64"
      ]
     },
     "execution_count": 251,
     "metadata": {},
     "output_type": "execute_result"
    }
   ],
   "source": [
    "#A full 17% of sales in the dataset are $0 sales\n",
    "filtered_df[\"sale price\"].value_counts() / len(filtered_df[\"sale price\"]) * 100\n",
    "\n",
    "#We can see what % of transactions by neighborhood are $0 sales\n",
    "zero_df = filtered_df[filtered_df[\"sale price\"] == 0]\n",
    "((zero_df[\"broader_neighborhoods\"].value_counts().sort_index() / filtered_df[\"broader_neighborhoods\"].\n",
    "  value_counts().sort_index()) * 100).round(0).sort_values(ascending=False)\n",
    "\n",
    "#At the top of the list are Chinatown, Hell's Kitchen, Harlem, Alphabet City, and Roosevelt Island.\n",
    "#This broadly makes sense as these neighborhoods have managed to avoid the upsurge in high rise real estate\n",
    "#redevelopment of other neighborhoods."
   ]
  },
  {
   "cell_type": "markdown",
   "metadata": {},
   "source": [
    "5. Is there a prewar premium in NY?"
   ]
  },
  {
   "cell_type": "code",
   "execution_count": 318,
   "metadata": {},
   "outputs": [
    {
     "data": {
      "image/png": "[encoded data removed]",
      "text/plain": [
       "<Figure size 432x288 with 1 Axes>"
      ]
     },
     "metadata": {
      "needs_background": "light"
     },
     "output_type": "display_data"
    }
   ],
   "source": [
    "#The term prewar in Manhattan refers to buildings constructed before WW2. They allegedly have sturdier construction,\n",
    "#more unique layouts, and a certain \"charm\" that commands a real estate premium.\n",
    "\n",
    "#The proper way to compare the premium would be to quality control for things such as apartment size, building type,\n",
    "#etc but for a quick approximation we can look at the dataset by lot (basically block level data) where we assume\n",
    "#similar apartment types will be sold and split the apartment data into decade of build\n",
    "apt_by_decade = quick_pivot(\"decade built\",\"lot\",\"sale price\").tail(13)\n",
    "apt_by_decade = apt_by_decade.fillna(method=\"ffill\")\n",
    "\n",
    "#for a quick visual we can take a look at the middle 50% of homes within each decade to look at both the dispersion\n",
    "#within a decade and the trajectory over time. We plot each quantile of price from 25% to 75% over time.\n",
    "\n",
    "for i in range (25,75,1):\n",
    "    i = i / 100\n",
    "    dfx = apt_by_decade.quantile(i,axis=1)\n",
    "    dfx.plot(legend=None,alpha=0.3,color=\"grey\")\n",
    "    \n",
    "#We see a dip post 1940 and then a gradual rise over time. One caveat is that because this data is in dollar terms, \n",
    "#the dispersion in the 2000s may just be a function of higher average price of homes sold"
   ]
  },
  {
   "cell_type": "markdown",
   "metadata": {},
   "source": [
    "Glossary of terms found here:\n",
    "https://www1.nyc.gov/assets/finance/downloads/pdf/07pdf/glossary_rsf071607.pdf\n",
    "\n",
    "Building code descriptions found here:\n",
    "https://www1.nyc.gov/assets/finance/jump/hlpbldgcode.html"
   ]
  }
 ],
 "metadata": {
  "kernelspec": {
   "display_name": "Python 3",
   "language": "python",
   "name": "python3"
  },
  "language_info": {
   "codemirror_mode": {
    "name": "ipython",
    "version": 3
   },
   "file_extension": ".py",
   "mimetype": "text/x-python",
   "name": "python",
   "nbconvert_exporter": "python",
   "pygments_lexer": "ipython3",
   "version": "3.8.8"
  }
 },
 "nbformat": 4,
 "nbformat_minor": 4
}
